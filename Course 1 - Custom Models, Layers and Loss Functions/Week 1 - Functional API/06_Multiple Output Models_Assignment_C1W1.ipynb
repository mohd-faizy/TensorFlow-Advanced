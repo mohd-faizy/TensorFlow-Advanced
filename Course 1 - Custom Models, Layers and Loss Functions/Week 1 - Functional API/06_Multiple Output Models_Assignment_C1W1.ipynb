{
 "cells": [
  {
   "cell_type": "markdown",
   "metadata": {
    "colab_type": "text",
    "id": "ZL_6GK8qX35J"
   },
   "source": [
    "\n",
    "\n",
    "# Week 1: Multiple Output Models using the Keras Functional API\n",
    "\n",
    "Welcome to the first programming assignment of the course! Your task will be to use the Keras functional API to train a model to predict two outputs. For this lab, you will use the **[Wine Quality Dataset](https://archive.ics.uci.edu/ml/datasets/Wine+Quality)** from the **UCI machine learning repository**. It has separate datasets for red wine and white wine.\n",
    "\n",
    "Normally, the wines are classified into one of the quality ratings specified in the attributes. In this exercise, you will combine the two datasets to predict the wine quality and whether the wine is red or white solely from the attributes. \n",
    "\n",
    "You will model wine quality estimations as a regression problem and wine type detection as a binary classification problem.\n",
    "\n",
    "#### Please complete sections that are marked **(TODO)**"
   ]
  },
  {
   "cell_type": "markdown",
   "metadata": {
    "colab_type": "text",
    "id": "obdcD6urYBY9"
   },
   "source": [
    "## Imports"
   ]
  },
  {
   "cell_type": "code",
   "execution_count": 1,
   "metadata": {
    "colab": {},
    "colab_type": "code",
    "id": "t8N3pcTQ5oQI"
   },
   "outputs": [],
   "source": [
    "import tensorflow as tf\n",
    "from tensorflow.keras.models import Model\n",
    "from tensorflow.keras.layers import Dense, Input\n",
    "\n",
    "import numpy as np\n",
    "import matplotlib.pyplot as plt\n",
    "import pandas as pd\n",
    "from sklearn.model_selection import train_test_split\n",
    "from sklearn.metrics import confusion_matrix\n",
    "import itertools\n",
    "\n",
    "import utils"
   ]
  },
  {
   "cell_type": "markdown",
   "metadata": {
    "colab_type": "text",
    "id": "gQMERzWQYpgm"
   },
   "source": [
    "## Load Dataset\n",
    "\n",
    "\n",
    "You will now download the dataset from the [UCI Machine Learning Repository](https://archive.ics.uci.edu/ml/index.php). \n",
    "\n",
    "### Pre-process the white wine dataset (TODO)\n",
    "You will add a new column named `is_red` in your dataframe to indicate if the wine is white or red. \n",
    "- In the white wine dataset, you will fill the column `is_red` with  zeros (0)."
   ]
  },
  {
   "cell_type": "code",
   "execution_count": 2,
   "metadata": {
    "colab": {},
    "colab_type": "code",
    "deletable": false,
    "id": "2qYAjKXCd4RH",
    "nbgrader": {
     "cell_type": "code",
     "checksum": "cb9f284ba6255170fe04a309a407d72d",
     "grade": false,
     "grade_id": "cell-e5bfa0f152d9a21f",
     "locked": false,
     "schema_version": 3,
     "solution": true,
     "task": false
    }
   },
   "outputs": [],
   "source": [
    "# Please uncomment all lines in this cell and replace those marked with `# YOUR CODE HERE`.\n",
    "# You can select all lines in this code cell with Ctrl+A (Windows/Linux) or Cmd+A (Mac), then press Ctrl+/ (Windows/Linux) or Cmd+/ (Mac) to uncomment.\n",
    "\n",
    "\n",
    "\n",
    "# URL of the white wine dataset\n",
    "URL = 'http://archive.ics.uci.edu/ml/machine-learning-databases/wine-quality/winequality-white.csv'\n",
    "\n",
    "# load the dataset from the URL\n",
    "white_df = pd.read_csv(URL, sep=\";\")\n",
    "\n",
    "# fill the `is_red` column with zeros.\n",
    "white_df[\"is_red\"] = 0\n",
    "\n",
    "# keep only the first of duplicate items\n",
    "white_df = white_df.drop_duplicates(keep='first')\n"
   ]
  },
  {
   "cell_type": "code",
   "execution_count": 3,
   "metadata": {
    "colab": {},
    "colab_type": "code",
    "id": "OQHK0ohBQRCk"
   },
   "outputs": [
    {
     "name": "stdout",
     "output_type": "stream",
     "text": [
      "8.8\n",
      "9.1\n"
     ]
    }
   ],
   "source": [
    "print(white_df.alcohol[0])\n",
    "print(white_df.alcohol[100])\n",
    "\n",
    "# EXPECTED OUTPUT\n",
    "# 8.8\n",
    "# 9.1"
   ]
  },
  {
   "cell_type": "markdown",
   "metadata": {},
   "source": [
    "### Pre-process the red wine dataset (TODO)\n",
    "- In the red wine dataset, you will fill in the column `is_red` with ones (1)."
   ]
  },
  {
   "cell_type": "code",
   "execution_count": 4,
   "metadata": {
    "colab": {},
    "colab_type": "code",
    "deletable": false,
    "id": "8y3QxKwBed8v",
    "nbgrader": {
     "cell_type": "code",
     "checksum": "be72275f78e2c2d0038dde9aa63f8d4f",
     "grade": false,
     "grade_id": "cell-e47a40f306593274",
     "locked": false,
     "schema_version": 3,
     "solution": true,
     "task": false
    }
   },
   "outputs": [],
   "source": [
    "# Please uncomment all lines in this cell and replace those marked with `# YOUR CODE HERE`.\n",
    "# You can select all lines in this code cell with Ctrl+A (Windows/Linux) or Cmd+A (Mac), then press Ctrl+/ (Windows/Linux) or Cmd+/ (Mac) to uncomment.\n",
    "\n",
    "\n",
    "\n",
    "# URL of the red wine dataset\n",
    "URL = 'http://archive.ics.uci.edu/ml/machine-learning-databases/wine-quality/winequality-red.csv'\n",
    "\n",
    "# load the dataset from the URL\n",
    "red_df = pd.read_csv(URL, sep=\";\")\n",
    "\n",
    "# fill the `is_red` column with ones.\n",
    "red_df[\"is_red\"] = 1\n",
    "\n",
    "# keep only the first of duplicate items\n",
    "red_df = red_df.drop_duplicates(keep='first')"
   ]
  },
  {
   "cell_type": "code",
   "execution_count": 5,
   "metadata": {
    "colab": {},
    "colab_type": "code",
    "id": "zsB3LUzNQpo_"
   },
   "outputs": [
    {
     "name": "stdout",
     "output_type": "stream",
     "text": [
      "9.4\n",
      "10.2\n"
     ]
    }
   ],
   "source": [
    "print(red_df.alcohol[0])\n",
    "print(red_df.alcohol[100])\n",
    "\n",
    "# EXPECTED OUTPUT\n",
    "# 9.4\n",
    "# 10.2"
   ]
  },
  {
   "cell_type": "markdown",
   "metadata": {
    "colab_type": "text",
    "id": "2G8B-NYuM6-f"
   },
   "source": [
    "### Concatenate the datasets\n",
    "\n",
    "Next, concatenate the red and white wine dataframes."
   ]
  },
  {
   "cell_type": "code",
   "execution_count": 6,
   "metadata": {
    "colab": {},
    "colab_type": "code",
    "id": "YpQrOjJbfN3m"
   },
   "outputs": [],
   "source": [
    "df = pd.concat([red_df, white_df], ignore_index=True)"
   ]
  },
  {
   "cell_type": "code",
   "execution_count": 7,
   "metadata": {
    "colab": {},
    "colab_type": "code",
    "id": "Se2dTmThQyjb"
   },
   "outputs": [
    {
     "name": "stdout",
     "output_type": "stream",
     "text": [
      "9.4\n",
      "9.5\n"
     ]
    }
   ],
   "source": [
    "print(df.alcohol[0])\n",
    "print(df.alcohol[100])\n",
    "\n",
    "# EXPECTED OUTPUT\n",
    "# 9.4\n",
    "# 9.5"
   ]
  },
  {
   "cell_type": "code",
   "execution_count": 8,
   "metadata": {
    "colab": {},
    "colab_type": "code",
    "id": "wx6y3rPpQv4k"
   },
   "outputs": [],
   "source": [
    "# NOTE: In a real-world scenario, you should shuffle the data.\n",
    "# YOU ARE NOT going to do that here because we want to test\n",
    "# with deterministic data. But if you want the code to do it,\n",
    "# it's in the commented line below:\n",
    "\n",
    "#df = df.iloc[np.random.permutation(len(df))]"
   ]
  },
  {
   "cell_type": "markdown",
   "metadata": {
    "colab_type": "text",
    "id": "-EqIcbg5M_n1"
   },
   "source": [
    "This will chart the quality of the wines."
   ]
  },
  {
   "cell_type": "code",
   "execution_count": 9,
   "metadata": {
    "colab": {},
    "colab_type": "code",
    "id": "IsvK0-Sgy17C"
   },
   "outputs": [
    {
     "data": {
      "image/png": "[encoded data removed]",
      "text/plain": [
       "<Figure size 432x288 with 1 Axes>"
      ]
     },
     "metadata": {
      "needs_background": "light"
     },
     "output_type": "display_data"
    }
   ],
   "source": [
    "df['quality'].hist(bins=20);"
   ]
  },
  {
   "cell_type": "markdown",
   "metadata": {
    "colab_type": "text",
    "id": "Nut1rmYLzf-p"
   },
   "source": [
    "### Imbalanced data (TODO)\n",
    "You can see from the plot above that the wine quality dataset is imbalanced. \n",
    "- Since there are very few observations with quality equal to 3, 4, 8 and 9, you can drop these observations from your dataset. \n",
    "- You can do this by removing data belonging to all classes except those > 4 and < 8."
   ]
  },
  {
   "cell_type": "code",
   "execution_count": 10,
   "metadata": {
    "colab": {},
    "colab_type": "code",
    "deletable": false,
    "id": "doH9_-gnf3sz",
    "nbgrader": {
     "cell_type": "code",
     "checksum": "d9ba9fc3a3ca02ccc567be33652b80fe",
     "grade": false,
     "grade_id": "cell-6a3e9db696f6827b",
     "locked": false,
     "schema_version": 3,
     "solution": true,
     "task": false
    }
   },
   "outputs": [],
   "source": [
    "# Please uncomment all lines in this cell and replace those marked with `# YOUR CODE HERE`.\n",
    "# You can select all lines in this code cell with Ctrl+A (Windows/Linux) or Cmd+A (Mac), then press Ctrl+/ (Windows/Linux) or Cmd+/ (Mac) to uncomment.\n",
    "\n",
    "\n",
    "\n",
    "# get data with wine quality greater than 4 and less than 8\n",
    "df = df[(df['quality'] > 4) & (df['quality'] < 8 )]\n",
    "\n",
    "# reset index and drop the old one\n",
    "df = df.reset_index(drop=True)"
   ]
  },
  {
   "cell_type": "code",
   "execution_count": 11,
   "metadata": {
    "colab": {},
    "colab_type": "code",
    "id": "xNR1iAlMRPXO"
   },
   "outputs": [
    {
     "name": "stdout",
     "output_type": "stream",
     "text": [
      "9.4\n",
      "10.9\n"
     ]
    }
   ],
   "source": [
    "print(df.alcohol[0])\n",
    "print(df.alcohol[100])\n",
    "\n",
    "# EXPECTED OUTPUT\n",
    "# 9.4\n",
    "# 10.9"
   ]
  },
  {
   "cell_type": "markdown",
   "metadata": {
    "colab_type": "text",
    "id": "cwhuRpnVRTzG"
   },
   "source": [
    "You can plot again to see the new range of data and quality"
   ]
  },
  {
   "cell_type": "code",
   "execution_count": 12,
   "metadata": {
    "colab": {},
    "colab_type": "code",
    "id": "857ygzZiLgGg"
   },
   "outputs": [
    {
     "data": {
      "image/png": "[encoded data removed]",
      "text/plain": [
       "<Figure size 432x288 with 1 Axes>"
      ]
     },
     "metadata": {
      "needs_background": "light"
     },
     "output_type": "display_data"
    }
   ],
   "source": [
    "df['quality'].hist(bins=20);"
   ]
  },
  {
   "cell_type": "markdown",
   "metadata": {
    "colab_type": "text",
    "id": "n3k0vqSsp84t"
   },
   "source": [
    "### Train Test Split (TODO)\n",
    "\n",
    "Next, you can split the datasets into training, test and validation datasets.\n",
    "- The data frame should be split 80:20 into `train` and `test` sets.\n",
    "- The resulting `train` should then be split 80:20 into `train` and `val` sets.\n",
    "- The `train_test_split` parameter `test_size` takes a float value that ranges between 0. and 1, and represents the proportion of the dataset that is allocated to the test set.  The rest of the data is allocated to the training set."
   ]
  },
  {
   "cell_type": "code",
   "execution_count": 13,
   "metadata": {
    "colab": {},
    "colab_type": "code",
    "deletable": false,
    "id": "PAVIf2-fgRVY",
    "nbgrader": {
     "cell_type": "code",
     "checksum": "7f5738f4fb51d65adc9a8acbdf2b9970",
     "grade": false,
     "grade_id": "cell-91946cadf745206b",
     "locked": false,
     "schema_version": 3,
     "solution": true,
     "task": false
    }
   },
   "outputs": [],
   "source": [
    "# Please uncomment all lines in this cell and replace those marked with `# YOUR CODE HERE`.\n",
    "# You can select all lines in this code cell with Ctrl+A (Windows/Linux) or Cmd+A (Mac), then press Ctrl+/ (Windows/Linux) or Cmd+/ (Mac) to uncomment.\n",
    "\n",
    "\n",
    "\n",
    "# Please do not change the random_state parameter. This is needed for grading.\n",
    "\n",
    "# split df into 80:20 train and test sets\n",
    "train, test = train_test_split(df, test_size=0.2, random_state = 1)\n",
    "                               \n",
    "# split train into 80:20 train and val sets\n",
    "train, val = train_test_split(train, test_size=0.2, random_state = 1)"
   ]
  },
  {
   "cell_type": "markdown",
   "metadata": {
    "colab_type": "text",
    "id": "RwTNu4KFqG-K"
   },
   "source": [
    "Here's where you can explore the training stats. You can pop the labels 'is_red' and 'quality' from the data as these will be used as the labels\n"
   ]
  },
  {
   "cell_type": "code",
   "execution_count": 14,
   "metadata": {
    "colab": {},
    "colab_type": "code",
    "id": "Y_afyhhHM6WQ"
   },
   "outputs": [],
   "source": [
    "train_stats = train.describe()\n",
    "train_stats.pop('is_red')\n",
    "train_stats.pop('quality')\n",
    "train_stats = train_stats.transpose()"
   ]
  },
  {
   "cell_type": "markdown",
   "metadata": {
    "colab_type": "text",
    "id": "ahvbYm4fNqSt"
   },
   "source": [
    "Explore the training stats!"
   ]
  },
  {
   "cell_type": "code",
   "execution_count": 15,
   "metadata": {
    "colab": {},
    "colab_type": "code",
    "id": "n_gAtPjZ0otF"
   },
   "outputs": [
    {
     "data": {
      "text/html": [
       "<div>\n",
       "<style scoped>\n",
       "    .dataframe tbody tr th:only-of-type {\n",
       "        vertical-align: middle;\n",
       "    }\n",
       "\n",
       "    .dataframe tbody tr th {\n",
       "        vertical-align: top;\n",
       "    }\n",
       "\n",
       "    .dataframe thead th {\n",
       "        text-align: right;\n",
       "    }\n",
       "</style>\n",
       "<table border=\"1\" class=\"dataframe\">\n",
       "  <thead>\n",
       "    <tr style=\"text-align: right;\">\n",
       "      <th></th>\n",
       "      <th>count</th>\n",
       "      <th>mean</th>\n",
       "      <th>std</th>\n",
       "      <th>min</th>\n",
       "      <th>25%</th>\n",
       "      <th>50%</th>\n",
       "      <th>75%</th>\n",
       "      <th>max</th>\n",
       "    </tr>\n",
       "  </thead>\n",
       "  <tbody>\n",
       "    <tr>\n",
       "      <th>fixed acidity</th>\n",
       "      <td>3155.0</td>\n",
       "      <td>7.221616</td>\n",
       "      <td>1.325297</td>\n",
       "      <td>3.80000</td>\n",
       "      <td>6.40000</td>\n",
       "      <td>7.00000</td>\n",
       "      <td>7.7000</td>\n",
       "      <td>15.60000</td>\n",
       "    </tr>\n",
       "    <tr>\n",
       "      <th>volatile acidity</th>\n",
       "      <td>3155.0</td>\n",
       "      <td>0.338929</td>\n",
       "      <td>0.162476</td>\n",
       "      <td>0.08000</td>\n",
       "      <td>0.23000</td>\n",
       "      <td>0.29000</td>\n",
       "      <td>0.4000</td>\n",
       "      <td>1.24000</td>\n",
       "    </tr>\n",
       "    <tr>\n",
       "      <th>citric acid</th>\n",
       "      <td>3155.0</td>\n",
       "      <td>0.321569</td>\n",
       "      <td>0.147970</td>\n",
       "      <td>0.00000</td>\n",
       "      <td>0.25000</td>\n",
       "      <td>0.31000</td>\n",
       "      <td>0.4000</td>\n",
       "      <td>1.66000</td>\n",
       "    </tr>\n",
       "    <tr>\n",
       "      <th>residual sugar</th>\n",
       "      <td>3155.0</td>\n",
       "      <td>5.155911</td>\n",
       "      <td>4.639632</td>\n",
       "      <td>0.60000</td>\n",
       "      <td>1.80000</td>\n",
       "      <td>2.80000</td>\n",
       "      <td>7.6500</td>\n",
       "      <td>65.80000</td>\n",
       "    </tr>\n",
       "    <tr>\n",
       "      <th>chlorides</th>\n",
       "      <td>3155.0</td>\n",
       "      <td>0.056976</td>\n",
       "      <td>0.036802</td>\n",
       "      <td>0.01200</td>\n",
       "      <td>0.03800</td>\n",
       "      <td>0.04700</td>\n",
       "      <td>0.0660</td>\n",
       "      <td>0.61100</td>\n",
       "    </tr>\n",
       "    <tr>\n",
       "      <th>free sulfur dioxide</th>\n",
       "      <td>3155.0</td>\n",
       "      <td>30.388590</td>\n",
       "      <td>17.236784</td>\n",
       "      <td>1.00000</td>\n",
       "      <td>17.00000</td>\n",
       "      <td>28.00000</td>\n",
       "      <td>41.0000</td>\n",
       "      <td>131.00000</td>\n",
       "    </tr>\n",
       "    <tr>\n",
       "      <th>total sulfur dioxide</th>\n",
       "      <td>3155.0</td>\n",
       "      <td>115.062282</td>\n",
       "      <td>56.706617</td>\n",
       "      <td>6.00000</td>\n",
       "      <td>75.00000</td>\n",
       "      <td>117.00000</td>\n",
       "      <td>156.0000</td>\n",
       "      <td>344.00000</td>\n",
       "    </tr>\n",
       "    <tr>\n",
       "      <th>density</th>\n",
       "      <td>3155.0</td>\n",
       "      <td>0.994633</td>\n",
       "      <td>0.003005</td>\n",
       "      <td>0.98711</td>\n",
       "      <td>0.99232</td>\n",
       "      <td>0.99481</td>\n",
       "      <td>0.9968</td>\n",
       "      <td>1.03898</td>\n",
       "    </tr>\n",
       "    <tr>\n",
       "      <th>pH</th>\n",
       "      <td>3155.0</td>\n",
       "      <td>3.223201</td>\n",
       "      <td>0.161272</td>\n",
       "      <td>2.72000</td>\n",
       "      <td>3.11000</td>\n",
       "      <td>3.21000</td>\n",
       "      <td>3.3300</td>\n",
       "      <td>4.01000</td>\n",
       "    </tr>\n",
       "    <tr>\n",
       "      <th>sulphates</th>\n",
       "      <td>3155.0</td>\n",
       "      <td>0.534051</td>\n",
       "      <td>0.149149</td>\n",
       "      <td>0.22000</td>\n",
       "      <td>0.43000</td>\n",
       "      <td>0.51000</td>\n",
       "      <td>0.6000</td>\n",
       "      <td>1.95000</td>\n",
       "    </tr>\n",
       "    <tr>\n",
       "      <th>alcohol</th>\n",
       "      <td>3155.0</td>\n",
       "      <td>10.504466</td>\n",
       "      <td>1.154654</td>\n",
       "      <td>8.50000</td>\n",
       "      <td>9.50000</td>\n",
       "      <td>10.30000</td>\n",
       "      <td>11.3000</td>\n",
       "      <td>14.00000</td>\n",
       "    </tr>\n",
       "  </tbody>\n",
       "</table>\n",
       "</div>"
      ],
      "text/plain": [
       "                       count        mean        std      min       25%  \\\n",
       "fixed acidity         3155.0    7.221616   1.325297  3.80000   6.40000   \n",
       "volatile acidity      3155.0    0.338929   0.162476  0.08000   0.23000   \n",
       "citric acid           3155.0    0.321569   0.147970  0.00000   0.25000   \n",
       "residual sugar        3155.0    5.155911   4.639632  0.60000   1.80000   \n",
       "chlorides             3155.0    0.056976   0.036802  0.01200   0.03800   \n",
       "free sulfur dioxide   3155.0   30.388590  17.236784  1.00000  17.00000   \n",
       "total sulfur dioxide  3155.0  115.062282  56.706617  6.00000  75.00000   \n",
       "density               3155.0    0.994633   0.003005  0.98711   0.99232   \n",
       "pH                    3155.0    3.223201   0.161272  2.72000   3.11000   \n",
       "sulphates             3155.0    0.534051   0.149149  0.22000   0.43000   \n",
       "alcohol               3155.0   10.504466   1.154654  8.50000   9.50000   \n",
       "\n",
       "                            50%       75%        max  \n",
       "fixed acidity           7.00000    7.7000   15.60000  \n",
       "volatile acidity        0.29000    0.4000    1.24000  \n",
       "citric acid             0.31000    0.4000    1.66000  \n",
       "residual sugar          2.80000    7.6500   65.80000  \n",
       "chlorides               0.04700    0.0660    0.61100  \n",
       "free sulfur dioxide    28.00000   41.0000  131.00000  \n",
       "total sulfur dioxide  117.00000  156.0000  344.00000  \n",
       "density                 0.99481    0.9968    1.03898  \n",
       "pH                      3.21000    3.3300    4.01000  \n",
       "sulphates               0.51000    0.6000    1.95000  \n",
       "alcohol                10.30000   11.3000   14.00000  "
      ]
     },
     "execution_count": 15,
     "metadata": {},
     "output_type": "execute_result"
    }
   ],
   "source": [
    "train_stats"
   ]
  },
  {
   "cell_type": "markdown",
   "metadata": {
    "colab_type": "text",
    "id": "bGPvt9jir_HC"
   },
   "source": [
    "### Get the labels (TODO)\n",
    "\n",
    "The features and labels are currently in the same dataframe.\n",
    "- You will want to store the label columns `is_red` and `quality` separately from the feature columns.  \n",
    "- The following function, `format_output`, gets these two columns from the dataframe (it's given to you).\n",
    "- `format_output` also formats the data into numpy arrays. \n",
    "- Please use the `format_output` and apply it to the `train`, `val` and `test` sets to get dataframes for the labels."
   ]
  },
  {
   "cell_type": "code",
   "execution_count": 16,
   "metadata": {
    "colab": {},
    "colab_type": "code",
    "id": "Z_fs14XQqZVP"
   },
   "outputs": [],
   "source": [
    "def format_output(data):\n",
    "    is_red = data.pop('is_red')\n",
    "    is_red = np.array(is_red)\n",
    "    quality = data.pop('quality')\n",
    "    quality = np.array(quality)\n",
    "    return (quality, is_red)"
   ]
  },
  {
   "cell_type": "code",
   "execution_count": 17,
   "metadata": {
    "colab": {},
    "colab_type": "code",
    "deletable": false,
    "id": "8L3ZZe1fQicm",
    "nbgrader": {
     "cell_type": "code",
     "checksum": "7a86809e54895a816434c48dc903f55d",
     "grade": false,
     "grade_id": "cell-5c30fa2c2a354b0f",
     "locked": false,
     "schema_version": 3,
     "solution": true,
     "task": false
    }
   },
   "outputs": [],
   "source": [
    "# Please uncomment all lines in this cell and replace those marked with `# YOUR CODE HERE`.\n",
    "# You can select all lines in this code cell with Ctrl+A (Windows/Linux) or Cmd+A (Mac), then press Ctrl+/ (Windows/Linux) or Cmd+/ (Mac) to uncomment.\n",
    "\n",
    "\n",
    "\n",
    "# format the output of the train set\n",
    "train_Y = format_output(train)\n",
    "\n",
    "# format the output of the val set\n",
    "val_Y = format_output(val)\n",
    "    \n",
    "# format the output of the test set\n",
    "test_Y = format_output(test)"
   ]
  },
  {
   "cell_type": "markdown",
   "metadata": {},
   "source": [
    "Notice that after you get the labels, the `train`, `val` and `test` dataframes no longer contain the label columns, and contain just the feature columns.\n",
    "- This is because you used `.pop` in the `format_output` function."
   ]
  },
  {
   "cell_type": "code",
   "execution_count": 18,
   "metadata": {},
   "outputs": [
    {
     "data": {
      "text/html": [
       "<div>\n",
       "<style scoped>\n",
       "    .dataframe tbody tr th:only-of-type {\n",
       "        vertical-align: middle;\n",
       "    }\n",
       "\n",
       "    .dataframe tbody tr th {\n",
       "        vertical-align: top;\n",
       "    }\n",
       "\n",
       "    .dataframe thead th {\n",
       "        text-align: right;\n",
       "    }\n",
       "</style>\n",
       "<table border=\"1\" class=\"dataframe\">\n",
       "  <thead>\n",
       "    <tr style=\"text-align: right;\">\n",
       "      <th></th>\n",
       "      <th>fixed acidity</th>\n",
       "      <th>volatile acidity</th>\n",
       "      <th>citric acid</th>\n",
       "      <th>residual sugar</th>\n",
       "      <th>chlorides</th>\n",
       "      <th>free sulfur dioxide</th>\n",
       "      <th>total sulfur dioxide</th>\n",
       "      <th>density</th>\n",
       "      <th>pH</th>\n",
       "      <th>sulphates</th>\n",
       "      <th>alcohol</th>\n",
       "    </tr>\n",
       "  </thead>\n",
       "  <tbody>\n",
       "    <tr>\n",
       "      <th>225</th>\n",
       "      <td>7.5</td>\n",
       "      <td>0.65</td>\n",
       "      <td>0.18</td>\n",
       "      <td>7.0</td>\n",
       "      <td>0.088</td>\n",
       "      <td>27.0</td>\n",
       "      <td>94.0</td>\n",
       "      <td>0.99915</td>\n",
       "      <td>3.38</td>\n",
       "      <td>0.77</td>\n",
       "      <td>9.4</td>\n",
       "    </tr>\n",
       "    <tr>\n",
       "      <th>3557</th>\n",
       "      <td>6.3</td>\n",
       "      <td>0.27</td>\n",
       "      <td>0.29</td>\n",
       "      <td>12.2</td>\n",
       "      <td>0.044</td>\n",
       "      <td>59.0</td>\n",
       "      <td>196.0</td>\n",
       "      <td>0.99782</td>\n",
       "      <td>3.14</td>\n",
       "      <td>0.40</td>\n",
       "      <td>8.8</td>\n",
       "    </tr>\n",
       "    <tr>\n",
       "      <th>3825</th>\n",
       "      <td>8.8</td>\n",
       "      <td>0.27</td>\n",
       "      <td>0.25</td>\n",
       "      <td>5.0</td>\n",
       "      <td>0.024</td>\n",
       "      <td>52.0</td>\n",
       "      <td>99.0</td>\n",
       "      <td>0.99250</td>\n",
       "      <td>2.87</td>\n",
       "      <td>0.49</td>\n",
       "      <td>11.4</td>\n",
       "    </tr>\n",
       "    <tr>\n",
       "      <th>1740</th>\n",
       "      <td>6.4</td>\n",
       "      <td>0.45</td>\n",
       "      <td>0.07</td>\n",
       "      <td>1.1</td>\n",
       "      <td>0.030</td>\n",
       "      <td>10.0</td>\n",
       "      <td>131.0</td>\n",
       "      <td>0.99050</td>\n",
       "      <td>2.97</td>\n",
       "      <td>0.28</td>\n",
       "      <td>10.8</td>\n",
       "    </tr>\n",
       "    <tr>\n",
       "      <th>1221</th>\n",
       "      <td>7.2</td>\n",
       "      <td>0.53</td>\n",
       "      <td>0.13</td>\n",
       "      <td>2.0</td>\n",
       "      <td>0.058</td>\n",
       "      <td>18.0</td>\n",
       "      <td>22.0</td>\n",
       "      <td>0.99573</td>\n",
       "      <td>3.21</td>\n",
       "      <td>0.68</td>\n",
       "      <td>9.9</td>\n",
       "    </tr>\n",
       "  </tbody>\n",
       "</table>\n",
       "</div>"
      ],
      "text/plain": [
       "      fixed acidity  volatile acidity  citric acid  residual sugar  chlorides  \\\n",
       "225             7.5              0.65         0.18             7.0      0.088   \n",
       "3557            6.3              0.27         0.29            12.2      0.044   \n",
       "3825            8.8              0.27         0.25             5.0      0.024   \n",
       "1740            6.4              0.45         0.07             1.1      0.030   \n",
       "1221            7.2              0.53         0.13             2.0      0.058   \n",
       "\n",
       "      free sulfur dioxide  total sulfur dioxide  density    pH  sulphates  \\\n",
       "225                  27.0                  94.0  0.99915  3.38       0.77   \n",
       "3557                 59.0                 196.0  0.99782  3.14       0.40   \n",
       "3825                 52.0                  99.0  0.99250  2.87       0.49   \n",
       "1740                 10.0                 131.0  0.99050  2.97       0.28   \n",
       "1221                 18.0                  22.0  0.99573  3.21       0.68   \n",
       "\n",
       "      alcohol  \n",
       "225       9.4  \n",
       "3557      8.8  \n",
       "3825     11.4  \n",
       "1740     10.8  \n",
       "1221      9.9  "
      ]
     },
     "execution_count": 18,
     "metadata": {},
     "output_type": "execute_result"
    }
   ],
   "source": [
    "train.head()"
   ]
  },
  {
   "cell_type": "markdown",
   "metadata": {
    "colab_type": "text",
    "id": "hEdbrruAsN1D"
   },
   "source": [
    "### Normalize the data (TODO)\n",
    "\n",
    "Next, you can normalize the data, x, using the formula:\n",
    "$$x_{norm} = \\frac{x - \\mu}{\\sigma}$$\n",
    "- The `norm` function is defined for you.\n",
    "- Please apply the `norm` function to normalize the dataframes that contains the feature columns of `train`, `val` and `test` sets."
   ]
  },
  {
   "cell_type": "code",
   "execution_count": 19,
   "metadata": {
    "colab": {},
    "colab_type": "code",
    "id": "WWiZPAHCLjUs"
   },
   "outputs": [],
   "source": [
    "def norm(x):\n",
    "    return (x - train_stats['mean']) / train_stats['std']"
   ]
  },
  {
   "cell_type": "code",
   "execution_count": 20,
   "metadata": {
    "colab": {},
    "colab_type": "code",
    "deletable": false,
    "id": "JEaOi2I2Lk69",
    "nbgrader": {
     "cell_type": "code",
     "checksum": "6bc0cdcb563d192f271067aa3373ff32",
     "grade": false,
     "grade_id": "cell-d8416d975c371095",
     "locked": false,
     "schema_version": 3,
     "solution": true,
     "task": false
    }
   },
   "outputs": [],
   "source": [
    "# Please uncomment all lines in this cell and replace those marked with `# YOUR CODE HERE`.\n",
    "# You can select all lines in this code cell with Ctrl+A (Windows/Linux) or Cmd+A (Mac), then press Ctrl+/ (Windows/Linux) or Cmd+/ (Mac) to uncomment.\n",
    "\n",
    "\n",
    "\n",
    "# normalize the train set\n",
    "norm_train_X = norm(train)\n",
    "    \n",
    "# normalize the val set\n",
    "norm_val_X = norm(val)\n",
    "    \n",
    "# normalize the test set\n",
    "norm_test_X = norm(test)"
   ]
  },
  {
   "cell_type": "markdown",
   "metadata": {
    "colab_type": "text",
    "id": "hzykDwQhsaPO"
   },
   "source": [
    "## Define the Model (TODO)\n",
    "\n",
    "Define the model using the functional API. The base model will be 2 `Dense` layers of 128 neurons each, and have the `'relu'` activation.\n",
    "- Check out the documentation for [tf.keras.layers.Dense](https://www.tensorflow.org/api_docs/python/tf/keras/layers/Dense)"
   ]
  },
  {
   "cell_type": "code",
   "execution_count": 21,
   "metadata": {
    "colab": {},
    "colab_type": "code",
    "deletable": false,
    "id": "Rhcns3oTFkM6",
    "nbgrader": {
     "cell_type": "code",
     "checksum": "74b031247e569526552bf13a034a1c07",
     "grade": false,
     "grade_id": "cell-73fceedad1fe351c",
     "locked": false,
     "schema_version": 3,
     "solution": true,
     "task": false
    }
   },
   "outputs": [],
   "source": [
    "# Please uncomment all lines in this cell and replace those marked with `# YOUR CODE HERE`.\n",
    "# You can select all lines in this code cell with Ctrl+A (Windows/Linux) or Cmd+A (Mac), then press Ctrl+/ (Windows/Linux) or Cmd+/ (Mac) to uncomment.\n",
    "\n",
    "\n",
    "\n",
    "def base_model(inputs):\n",
    "    \n",
    "    # connect a Dense layer with 128 neurons and a relu activation\n",
    "    x = tf.keras.layers.Dense(128, activation= tf.nn.relu)(inputs)\n",
    "    \n",
    "    # connect another Dense layer with 128 neurons and a relu activation\n",
    "    x = tf.keras.layers.Dense(128, activation= tf.nn.relu)(x)\n",
    "    return x\n",
    "  "
   ]
  },
  {
   "cell_type": "markdown",
   "metadata": {
    "colab_type": "text",
    "id": "xem_fcVws6Kz"
   },
   "source": [
    "# Define output layers of the model (TODO)\n",
    "\n",
    "You will add output layers to the base model. \n",
    "- The model will need two outputs.\n",
    "\n",
    "One output layer will predict wine quality, which is a numeric value.\n",
    "- Define a `Dense` layer with 1 neuron.\n",
    "- Since this is a regression output, the activation can be left as its default value `None`.\n",
    "\n",
    "The other output layer will predict the wine type, which is either red `1` or not red `0` (white).\n",
    "- Define a `Dense` layer with 1 neuron.\n",
    "- Since there are two possible categories, you can use a sigmoid activation for binary classification.\n",
    "\n",
    "Define the `Model`\n",
    "- Define the `Model` object, and set the following parameters:\n",
    "  - `inputs`: pass in the inputs to the model as a list.\n",
    "  - `outputs`: pass in a list of the outputs that you just defined: wine quality, then wine type.\n",
    "  - **Note**: please list the wine quality before wine type in the outputs, as this will affect the calculated loss if you choose the other order."
   ]
  },
  {
   "cell_type": "code",
   "execution_count": 22,
   "metadata": {
    "colab": {},
    "colab_type": "code",
    "deletable": false,
    "id": "n5UGF8PMVLPt",
    "nbgrader": {
     "cell_type": "code",
     "checksum": "76d35b90d20cdcbb22986cd8211057de",
     "grade": false,
     "grade_id": "cell-19e285f482f021fb",
     "locked": false,
     "schema_version": 3,
     "solution": true,
     "task": false
    }
   },
   "outputs": [],
   "source": [
    "# Please uncomment all lines in this cell and replace those marked with `# YOUR CODE HERE`.\n",
    "# You can select all lines in this code cell with Ctrl+A (Windows/Linux) or Cmd+A (Mac), then press Ctrl+/ (Windows/Linux) or Cmd+/ (Mac) to uncomment.\n",
    "\n",
    "\n",
    "\n",
    "def final_model(inputs):\n",
    "    \n",
    "    # get the base model\n",
    "    x = base_model(inputs)\n",
    "\n",
    "    # connect the output Dense layer for regression\n",
    "    wine_quality = Dense(units='1', name='wine_quality')(x)\n",
    "\n",
    "    # connect the output Dense layer for classification. this will use a sigmoid activation.\n",
    "    wine_type = Dense(units='1', activation='sigmoid', name='wine_type')(x)\n",
    "\n",
    "    # define the model using the input and output layers\n",
    "    model = Model(inputs=inputs, outputs=[wine_quality, wine_type])\n",
    "\n",
    "    return model"
   ]
  },
  {
   "cell_type": "markdown",
   "metadata": {
    "colab_type": "text",
    "id": "5R0BMTsltZyu"
   },
   "source": [
    "## Compiling the Model\n",
    "\n",
    "Next, compile the model. When setting the loss parameter of `model.compile`, you're setting the loss for each of the two outputs (wine quality and wine type).\n",
    "\n",
    "To set more than one loss, use a dictionary of key-value pairs.\n",
    "- You can look at the docs for the losses [here](https://www.tensorflow.org/api_docs/python/tf/keras/losses#functions).\n",
    "    - **Note**: For the desired spelling, please look at the \"Functions\" section of the documentation and not the \"classes\" section on that same page.\n",
    "- wine_type: Since you will be performing binary classification on wine type, you should use the binary crossentropy loss function for it.  Please pass this in as a string.  \n",
    "  - **Hint**, this should be all lowercase.  In the documentation, you'll see this under the \"Functions\" section, not the \"Classes\" section.\n",
    "- wine_quality: since this is a regression output, use the mean squared error.  Please pass it in as a string, all lowercase.\n",
    "  - **Hint**: You may notice that there are two aliases for mean squared error.  Please use the shorter name.\n",
    "\n",
    "\n",
    "You will also set the metric for each of the two outputs.  Again, to set metrics for two or more outputs, use a dictionary with key value pairs.\n",
    "- The metrics documentation is linked [here](https://www.tensorflow.org/api_docs/python/tf/keras/metrics).\n",
    "- For the wine type, please set it to accuracy as a string, all lowercase.\n",
    "- For wine quality, please use the root mean squared error.  Instead of a string, you'll set it to an instance of the class [RootMeanSquaredError](https://www.tensorflow.org/api_docs/python/tf/keras/metrics/RootMeanSquaredError), which belongs to the tf.keras.metrics module.\n",
    "\n",
    "**Note**: If you see the error message \n",
    ">Exception: wine quality loss function is incorrect.\n",
    "\n",
    "- Please also check your other losses and metrics, as the error may be caused by the other three key-value pairs and not the wine quality loss."
   ]
  },
  {
   "cell_type": "code",
   "execution_count": 23,
   "metadata": {
    "colab": {},
    "colab_type": "code",
    "deletable": false,
    "id": "LK11duUbUjmh",
    "nbgrader": {
     "cell_type": "code",
     "checksum": "22f45067ca69eb2ccadb43874dbcc27b",
     "grade": false,
     "grade_id": "cell-81afdc4dcca51d5e",
     "locked": false,
     "schema_version": 3,
     "solution": true,
     "task": false
    }
   },
   "outputs": [
    {
     "name": "stderr",
     "output_type": "stream",
     "text": [
      "C:\\Users\\mohdf\\AppData\\Local\\Programs\\Python\\Python310\\lib\\site-packages\\keras\\optimizers\\optimizer_v2\\rmsprop.py:135: UserWarning: The `lr` argument is deprecated, use `learning_rate` instead.\n",
      "  super(RMSprop, self).__init__(name, **kwargs)\n"
     ]
    }
   ],
   "source": [
    "# Please uncomment all lines in this cell and replace those marked with `# YOUR CODE HERE`.\n",
    "# You can select all lines in this code cell with Ctrl+A (Windows/Linux) or Cmd+A (Mac), then press Ctrl+/ (Windows/Linux) or Cmd+/ (Mac) to uncomment.\n",
    "\n",
    "\n",
    "\n",
    "inputs = tf.keras.layers.Input(shape=(11,))\n",
    "rms = tf.keras.optimizers.RMSprop(lr=0.0001)\n",
    "model = final_model(inputs)\n",
    "\n",
    "model.compile(optimizer=rms, \n",
    "              loss = {'wine_type' : 'binary_crossentropy',\n",
    "                      'wine_quality' : 'mean_squared_error'\n",
    "                     },\n",
    "              metrics = {'wine_type' : 'accuracy',\n",
    "                         'wine_quality': tf.keras.metrics.RootMeanSquaredError()\n",
    "                       }\n",
    "             )\n"
   ]
  },
  {
   "cell_type": "markdown",
   "metadata": {
    "colab_type": "text",
    "id": "90MpAMpWuKm-"
   },
   "source": [
    "## Training the Model\n",
    "\n",
    "Fit the model to the training inputs and outputs. \n",
    "- Check the documentation for [model.fit](https://www.tensorflow.org/api_docs/python/tf/keras/Model#fit).\n",
    "- Remember to use the normalized training set as inputs. \n",
    "- For the validation data, please use the normalized validation set."
   ]
  },
  {
   "cell_type": "code",
   "execution_count": 24,
   "metadata": {
    "colab": {},
    "colab_type": "code",
    "deletable": false,
    "id": "_eiZkle4XwiY",
    "nbgrader": {
     "cell_type": "code",
     "checksum": "2ca7664be03bfd6fd3651ae44d17b793",
     "grade": false,
     "grade_id": "cell-0bb56262896f6680",
     "locked": false,
     "schema_version": 3,
     "solution": true,
     "task": false
    }
   },
   "outputs": [
    {
     "name": "stdout",
     "output_type": "stream",
     "text": [
      "Epoch 1/180\n",
      "99/99 [==============================] - 2s 7ms/step - loss: 28.4487 - wine_quality_loss: 27.7973 - wine_type_loss: 0.6513 - wine_quality_root_mean_squared_error: 5.2723 - wine_type_accuracy: 0.7743 - val_loss: 21.0048 - val_wine_quality_loss: 20.3767 - val_wine_type_loss: 0.6282 - val_wine_quality_root_mean_squared_error: 4.5141 - val_wine_type_accuracy: 0.8010\n",
      "Epoch 2/180\n",
      "99/99 [==============================] - 0s 4ms/step - loss: 15.0053 - wine_quality_loss: 14.4048 - wine_type_loss: 0.6005 - wine_quality_root_mean_squared_error: 3.7954 - wine_type_accuracy: 0.7842 - val_loss: 9.9174 - val_wine_quality_loss: 9.3440 - val_wine_type_loss: 0.5733 - val_wine_quality_root_mean_squared_error: 3.0568 - val_wine_type_accuracy: 0.7465\n",
      "Epoch 3/180\n",
      "99/99 [==============================] - 0s 5ms/step - loss: 6.8141 - wine_quality_loss: 6.2837 - wine_type_loss: 0.5304 - wine_quality_root_mean_squared_error: 2.5067 - wine_type_accuracy: 0.7873 - val_loss: 4.3644 - val_wine_quality_loss: 3.8781 - val_wine_type_loss: 0.4863 - val_wine_quality_root_mean_squared_error: 1.9693 - val_wine_type_accuracy: 0.8086\n",
      "Epoch 4/180\n",
      "99/99 [==============================] - 0s 5ms/step - loss: 3.4890 - wine_quality_loss: 3.0564 - wine_type_loss: 0.4326 - wine_quality_root_mean_squared_error: 1.7483 - wine_type_accuracy: 0.8567 - val_loss: 2.7644 - val_wine_quality_loss: 2.3784 - val_wine_type_loss: 0.3860 - val_wine_quality_root_mean_squared_error: 1.5422 - val_wine_type_accuracy: 0.8885\n",
      "Epoch 5/180\n",
      "99/99 [==============================] - 0s 4ms/step - loss: 2.5304 - wine_quality_loss: 2.1983 - wine_type_loss: 0.3321 - wine_quality_root_mean_squared_error: 1.4827 - wine_type_accuracy: 0.9271 - val_loss: 2.2729 - val_wine_quality_loss: 1.9807 - val_wine_type_loss: 0.2922 - val_wine_quality_root_mean_squared_error: 1.4074 - val_wine_type_accuracy: 0.9607\n",
      "Epoch 6/180\n",
      "99/99 [==============================] - 0s 5ms/step - loss: 2.1252 - wine_quality_loss: 1.8708 - wine_type_loss: 0.2544 - wine_quality_root_mean_squared_error: 1.3678 - wine_type_accuracy: 0.9712 - val_loss: 1.9487 - val_wine_quality_loss: 1.7244 - val_wine_type_loss: 0.2243 - val_wine_quality_root_mean_squared_error: 1.3132 - val_wine_type_accuracy: 0.9848\n",
      "Epoch 7/180\n",
      "99/99 [==============================] - 0s 5ms/step - loss: 1.8420 - wine_quality_loss: 1.6478 - wine_type_loss: 0.1942 - wine_quality_root_mean_squared_error: 1.2837 - wine_type_accuracy: 0.9842 - val_loss: 1.7233 - val_wine_quality_loss: 1.5501 - val_wine_type_loss: 0.1732 - val_wine_quality_root_mean_squared_error: 1.2450 - val_wine_type_accuracy: 0.9873\n",
      "Epoch 8/180\n",
      "99/99 [==============================] - 0s 5ms/step - loss: 1.6396 - wine_quality_loss: 1.4878 - wine_type_loss: 0.1518 - wine_quality_root_mean_squared_error: 1.2198 - wine_type_accuracy: 0.9880 - val_loss: 1.5556 - val_wine_quality_loss: 1.4198 - val_wine_type_loss: 0.1358 - val_wine_quality_root_mean_squared_error: 1.1915 - val_wine_type_accuracy: 0.9899\n",
      "Epoch 9/180\n",
      "99/99 [==============================] - 1s 5ms/step - loss: 1.4863 - wine_quality_loss: 1.3654 - wine_type_loss: 0.1209 - wine_quality_root_mean_squared_error: 1.1685 - wine_type_accuracy: 0.9899 - val_loss: 1.4281 - val_wine_quality_loss: 1.3197 - val_wine_type_loss: 0.1083 - val_wine_quality_root_mean_squared_error: 1.1488 - val_wine_type_accuracy: 0.9911\n",
      "Epoch 10/180\n",
      "99/99 [==============================] - 1s 6ms/step - loss: 1.3593 - wine_quality_loss: 1.2606 - wine_type_loss: 0.0986 - wine_quality_root_mean_squared_error: 1.1228 - wine_type_accuracy: 0.9902 - val_loss: 1.3080 - val_wine_quality_loss: 1.2181 - val_wine_type_loss: 0.0899 - val_wine_quality_root_mean_squared_error: 1.1037 - val_wine_type_accuracy: 0.9911\n",
      "Epoch 11/180\n",
      "99/99 [==============================] - 0s 4ms/step - loss: 1.2525 - wine_quality_loss: 1.1693 - wine_type_loss: 0.0832 - wine_quality_root_mean_squared_error: 1.0814 - wine_type_accuracy: 0.9914 - val_loss: 1.2104 - val_wine_quality_loss: 1.1336 - val_wine_type_loss: 0.0768 - val_wine_quality_root_mean_squared_error: 1.0647 - val_wine_type_accuracy: 0.9911\n",
      "Epoch 12/180\n",
      "99/99 [==============================] - 1s 5ms/step - loss: 1.1684 - wine_quality_loss: 1.0963 - wine_type_loss: 0.0721 - wine_quality_root_mean_squared_error: 1.0470 - wine_type_accuracy: 0.9911 - val_loss: 1.1279 - val_wine_quality_loss: 1.0609 - val_wine_type_loss: 0.0671 - val_wine_quality_root_mean_squared_error: 1.0300 - val_wine_type_accuracy: 0.9899\n",
      "Epoch 13/180\n",
      "99/99 [==============================] - 1s 5ms/step - loss: 1.0923 - wine_quality_loss: 1.0282 - wine_type_loss: 0.0640 - wine_quality_root_mean_squared_error: 1.0140 - wine_type_accuracy: 0.9911 - val_loss: 1.0616 - val_wine_quality_loss: 1.0013 - val_wine_type_loss: 0.0603 - val_wine_quality_root_mean_squared_error: 1.0007 - val_wine_type_accuracy: 0.9899\n",
      "Epoch 14/180\n",
      "99/99 [==============================] - 0s 5ms/step - loss: 1.0252 - wine_quality_loss: 0.9673 - wine_type_loss: 0.0580 - wine_quality_root_mean_squared_error: 0.9835 - wine_type_accuracy: 0.9911 - val_loss: 0.9868 - val_wine_quality_loss: 0.9320 - val_wine_type_loss: 0.0548 - val_wine_quality_root_mean_squared_error: 0.9654 - val_wine_type_accuracy: 0.9911\n",
      "Epoch 15/180\n",
      "99/99 [==============================] - 0s 4ms/step - loss: 0.9598 - wine_quality_loss: 0.9065 - wine_type_loss: 0.0533 - wine_quality_root_mean_squared_error: 0.9521 - wine_type_accuracy: 0.9911 - val_loss: 0.9411 - val_wine_quality_loss: 0.8908 - val_wine_type_loss: 0.0503 - val_wine_quality_root_mean_squared_error: 0.9438 - val_wine_type_accuracy: 0.9924\n",
      "Epoch 16/180\n",
      "99/99 [==============================] - 1s 5ms/step - loss: 0.9101 - wine_quality_loss: 0.8605 - wine_type_loss: 0.0496 - wine_quality_root_mean_squared_error: 0.9276 - wine_type_accuracy: 0.9911 - val_loss: 0.8833 - val_wine_quality_loss: 0.8356 - val_wine_type_loss: 0.0477 - val_wine_quality_root_mean_squared_error: 0.9141 - val_wine_type_accuracy: 0.9911\n",
      "Epoch 17/180\n",
      "99/99 [==============================] - 0s 4ms/step - loss: 0.8605 - wine_quality_loss: 0.8133 - wine_type_loss: 0.0471 - wine_quality_root_mean_squared_error: 0.9018 - wine_type_accuracy: 0.9914 - val_loss: 0.8348 - val_wine_quality_loss: 0.7896 - val_wine_type_loss: 0.0452 - val_wine_quality_root_mean_squared_error: 0.8886 - val_wine_type_accuracy: 0.9924\n",
      "Epoch 18/180\n",
      "99/99 [==============================] - 0s 4ms/step - loss: 0.8142 - wine_quality_loss: 0.7694 - wine_type_loss: 0.0448 - wine_quality_root_mean_squared_error: 0.8772 - wine_type_accuracy: 0.9914 - val_loss: 0.7902 - val_wine_quality_loss: 0.7469 - val_wine_type_loss: 0.0433 - val_wine_quality_root_mean_squared_error: 0.8642 - val_wine_type_accuracy: 0.9924\n",
      "Epoch 19/180\n",
      "99/99 [==============================] - 0s 5ms/step - loss: 0.7729 - wine_quality_loss: 0.7299 - wine_type_loss: 0.0430 - wine_quality_root_mean_squared_error: 0.8544 - wine_type_accuracy: 0.9911 - val_loss: 0.7516 - val_wine_quality_loss: 0.7098 - val_wine_type_loss: 0.0418 - val_wine_quality_root_mean_squared_error: 0.8425 - val_wine_type_accuracy: 0.9924\n",
      "Epoch 20/180\n",
      "99/99 [==============================] - 0s 5ms/step - loss: 0.7336 - wine_quality_loss: 0.6921 - wine_type_loss: 0.0414 - wine_quality_root_mean_squared_error: 0.8319 - wine_type_accuracy: 0.9918 - val_loss: 0.7133 - val_wine_quality_loss: 0.6726 - val_wine_type_loss: 0.0407 - val_wine_quality_root_mean_squared_error: 0.8201 - val_wine_type_accuracy: 0.9924\n",
      "Epoch 21/180\n",
      "99/99 [==============================] - 0s 4ms/step - loss: 0.6990 - wine_quality_loss: 0.6587 - wine_type_loss: 0.0402 - wine_quality_root_mean_squared_error: 0.8116 - wine_type_accuracy: 0.9918 - val_loss: 0.6867 - val_wine_quality_loss: 0.6471 - val_wine_type_loss: 0.0396 - val_wine_quality_root_mean_squared_error: 0.8045 - val_wine_type_accuracy: 0.9924\n",
      "Epoch 22/180\n",
      "99/99 [==============================] - 0s 5ms/step - loss: 0.6694 - wine_quality_loss: 0.6304 - wine_type_loss: 0.0390 - wine_quality_root_mean_squared_error: 0.7940 - wine_type_accuracy: 0.9924 - val_loss: 0.6513 - val_wine_quality_loss: 0.6127 - val_wine_type_loss: 0.0386 - val_wine_quality_root_mean_squared_error: 0.7827 - val_wine_type_accuracy: 0.9937\n",
      "Epoch 23/180\n",
      "99/99 [==============================] - 0s 5ms/step - loss: 0.6408 - wine_quality_loss: 0.6028 - wine_type_loss: 0.0380 - wine_quality_root_mean_squared_error: 0.7764 - wine_type_accuracy: 0.9924 - val_loss: 0.6209 - val_wine_quality_loss: 0.5828 - val_wine_type_loss: 0.0380 - val_wine_quality_root_mean_squared_error: 0.7634 - val_wine_type_accuracy: 0.9937\n",
      "Epoch 24/180\n",
      "99/99 [==============================] - 1s 5ms/step - loss: 0.6145 - wine_quality_loss: 0.5772 - wine_type_loss: 0.0373 - wine_quality_root_mean_squared_error: 0.7597 - wine_type_accuracy: 0.9921 - val_loss: 0.6004 - val_wine_quality_loss: 0.5631 - val_wine_type_loss: 0.0373 - val_wine_quality_root_mean_squared_error: 0.7504 - val_wine_type_accuracy: 0.9937\n",
      "Epoch 25/180\n",
      "99/99 [==============================] - 1s 5ms/step - loss: 0.5897 - wine_quality_loss: 0.5532 - wine_type_loss: 0.0366 - wine_quality_root_mean_squared_error: 0.7438 - wine_type_accuracy: 0.9927 - val_loss: 0.5864 - val_wine_quality_loss: 0.5497 - val_wine_type_loss: 0.0367 - val_wine_quality_root_mean_squared_error: 0.7414 - val_wine_type_accuracy: 0.9937\n",
      "Epoch 26/180\n",
      "99/99 [==============================] - 0s 5ms/step - loss: 0.5680 - wine_quality_loss: 0.5322 - wine_type_loss: 0.0358 - wine_quality_root_mean_squared_error: 0.7295 - wine_type_accuracy: 0.9930 - val_loss: 0.5537 - val_wine_quality_loss: 0.5173 - val_wine_type_loss: 0.0365 - val_wine_quality_root_mean_squared_error: 0.7192 - val_wine_type_accuracy: 0.9937\n",
      "Epoch 27/180\n",
      "99/99 [==============================] - 0s 5ms/step - loss: 0.5459 - wine_quality_loss: 0.5106 - wine_type_loss: 0.0354 - wine_quality_root_mean_squared_error: 0.7146 - wine_type_accuracy: 0.9930 - val_loss: 0.5319 - val_wine_quality_loss: 0.4961 - val_wine_type_loss: 0.0359 - val_wine_quality_root_mean_squared_error: 0.7043 - val_wine_type_accuracy: 0.9937\n",
      "Epoch 28/180\n",
      "99/99 [==============================] - 0s 5ms/step - loss: 0.5258 - wine_quality_loss: 0.4911 - wine_type_loss: 0.0347 - wine_quality_root_mean_squared_error: 0.7008 - wine_type_accuracy: 0.9933 - val_loss: 0.5099 - val_wine_quality_loss: 0.4745 - val_wine_type_loss: 0.0354 - val_wine_quality_root_mean_squared_error: 0.6888 - val_wine_type_accuracy: 0.9937\n",
      "Epoch 29/180\n",
      "99/99 [==============================] - 0s 4ms/step - loss: 0.5092 - wine_quality_loss: 0.4750 - wine_type_loss: 0.0343 - wine_quality_root_mean_squared_error: 0.6892 - wine_type_accuracy: 0.9933 - val_loss: 0.5019 - val_wine_quality_loss: 0.4669 - val_wine_type_loss: 0.0350 - val_wine_quality_root_mean_squared_error: 0.6833 - val_wine_type_accuracy: 0.9937\n",
      "Epoch 30/180\n",
      "99/99 [==============================] - 0s 4ms/step - loss: 0.4917 - wine_quality_loss: 0.4578 - wine_type_loss: 0.0339 - wine_quality_root_mean_squared_error: 0.6766 - wine_type_accuracy: 0.9930 - val_loss: 0.4829 - val_wine_quality_loss: 0.4480 - val_wine_type_loss: 0.0348 - val_wine_quality_root_mean_squared_error: 0.6694 - val_wine_type_accuracy: 0.9937\n",
      "Epoch 31/180\n",
      "99/99 [==============================] - 1s 6ms/step - loss: 0.4779 - wine_quality_loss: 0.4445 - wine_type_loss: 0.0334 - wine_quality_root_mean_squared_error: 0.6667 - wine_type_accuracy: 0.9927 - val_loss: 0.4690 - val_wine_quality_loss: 0.4343 - val_wine_type_loss: 0.0347 - val_wine_quality_root_mean_squared_error: 0.6590 - val_wine_type_accuracy: 0.9937\n",
      "Epoch 32/180\n",
      "99/99 [==============================] - 0s 5ms/step - loss: 0.4634 - wine_quality_loss: 0.4303 - wine_type_loss: 0.0330 - wine_quality_root_mean_squared_error: 0.6560 - wine_type_accuracy: 0.9933 - val_loss: 0.4605 - val_wine_quality_loss: 0.4262 - val_wine_type_loss: 0.0343 - val_wine_quality_root_mean_squared_error: 0.6528 - val_wine_type_accuracy: 0.9937\n",
      "Epoch 33/180\n",
      "99/99 [==============================] - 0s 4ms/step - loss: 0.4501 - wine_quality_loss: 0.4175 - wine_type_loss: 0.0327 - wine_quality_root_mean_squared_error: 0.6461 - wine_type_accuracy: 0.9940 - val_loss: 0.4481 - val_wine_quality_loss: 0.4139 - val_wine_type_loss: 0.0342 - val_wine_quality_root_mean_squared_error: 0.6433 - val_wine_type_accuracy: 0.9937\n",
      "Epoch 34/180\n",
      "99/99 [==============================] - 0s 5ms/step - loss: 0.4404 - wine_quality_loss: 0.4081 - wine_type_loss: 0.0322 - wine_quality_root_mean_squared_error: 0.6388 - wine_type_accuracy: 0.9933 - val_loss: 0.4378 - val_wine_quality_loss: 0.4039 - val_wine_type_loss: 0.0339 - val_wine_quality_root_mean_squared_error: 0.6355 - val_wine_type_accuracy: 0.9937\n",
      "Epoch 35/180\n",
      "99/99 [==============================] - 0s 5ms/step - loss: 0.4296 - wine_quality_loss: 0.3976 - wine_type_loss: 0.0320 - wine_quality_root_mean_squared_error: 0.6306 - wine_type_accuracy: 0.9937 - val_loss: 0.4247 - val_wine_quality_loss: 0.3912 - val_wine_type_loss: 0.0335 - val_wine_quality_root_mean_squared_error: 0.6254 - val_wine_type_accuracy: 0.9949\n",
      "Epoch 36/180\n",
      "99/99 [==============================] - 0s 5ms/step - loss: 0.4213 - wine_quality_loss: 0.3897 - wine_type_loss: 0.0316 - wine_quality_root_mean_squared_error: 0.6242 - wine_type_accuracy: 0.9943 - val_loss: 0.4248 - val_wine_quality_loss: 0.3914 - val_wine_type_loss: 0.0334 - val_wine_quality_root_mean_squared_error: 0.6256 - val_wine_type_accuracy: 0.9949\n",
      "Epoch 37/180\n",
      "99/99 [==============================] - 1s 5ms/step - loss: 0.4127 - wine_quality_loss: 0.3814 - wine_type_loss: 0.0314 - wine_quality_root_mean_squared_error: 0.6175 - wine_type_accuracy: 0.9943 - val_loss: 0.4097 - val_wine_quality_loss: 0.3765 - val_wine_type_loss: 0.0332 - val_wine_quality_root_mean_squared_error: 0.6136 - val_wine_type_accuracy: 0.9949\n",
      "Epoch 38/180\n",
      "99/99 [==============================] - 1s 5ms/step - loss: 0.4056 - wine_quality_loss: 0.3745 - wine_type_loss: 0.0310 - wine_quality_root_mean_squared_error: 0.6120 - wine_type_accuracy: 0.9943 - val_loss: 0.4043 - val_wine_quality_loss: 0.3715 - val_wine_type_loss: 0.0329 - val_wine_quality_root_mean_squared_error: 0.6095 - val_wine_type_accuracy: 0.9949\n",
      "Epoch 39/180\n",
      "99/99 [==============================] - 0s 4ms/step - loss: 0.3985 - wine_quality_loss: 0.3677 - wine_type_loss: 0.0308 - wine_quality_root_mean_squared_error: 0.6064 - wine_type_accuracy: 0.9940 - val_loss: 0.4018 - val_wine_quality_loss: 0.3690 - val_wine_type_loss: 0.0328 - val_wine_quality_root_mean_squared_error: 0.6074 - val_wine_type_accuracy: 0.9949\n",
      "Epoch 40/180\n",
      "99/99 [==============================] - 0s 5ms/step - loss: 0.3925 - wine_quality_loss: 0.3619 - wine_type_loss: 0.0305 - wine_quality_root_mean_squared_error: 0.6016 - wine_type_accuracy: 0.9943 - val_loss: 0.3921 - val_wine_quality_loss: 0.3593 - val_wine_type_loss: 0.0328 - val_wine_quality_root_mean_squared_error: 0.5994 - val_wine_type_accuracy: 0.9949\n",
      "Epoch 41/180\n",
      "99/99 [==============================] - 0s 5ms/step - loss: 0.3867 - wine_quality_loss: 0.3565 - wine_type_loss: 0.0302 - wine_quality_root_mean_squared_error: 0.5971 - wine_type_accuracy: 0.9943 - val_loss: 0.3921 - val_wine_quality_loss: 0.3595 - val_wine_type_loss: 0.0326 - val_wine_quality_root_mean_squared_error: 0.5996 - val_wine_type_accuracy: 0.9949\n",
      "Epoch 42/180\n",
      "99/99 [==============================] - 0s 5ms/step - loss: 0.3817 - wine_quality_loss: 0.3516 - wine_type_loss: 0.0300 - wine_quality_root_mean_squared_error: 0.5930 - wine_type_accuracy: 0.9943 - val_loss: 0.3958 - val_wine_quality_loss: 0.3632 - val_wine_type_loss: 0.0326 - val_wine_quality_root_mean_squared_error: 0.6027 - val_wine_type_accuracy: 0.9949\n",
      "Epoch 43/180\n",
      "99/99 [==============================] - 0s 5ms/step - loss: 0.3783 - wine_quality_loss: 0.3484 - wine_type_loss: 0.0299 - wine_quality_root_mean_squared_error: 0.5903 - wine_type_accuracy: 0.9943 - val_loss: 0.3918 - val_wine_quality_loss: 0.3593 - val_wine_type_loss: 0.0325 - val_wine_quality_root_mean_squared_error: 0.5994 - val_wine_type_accuracy: 0.9949\n",
      "Epoch 44/180\n",
      "99/99 [==============================] - 0s 5ms/step - loss: 0.3750 - wine_quality_loss: 0.3454 - wine_type_loss: 0.0297 - wine_quality_root_mean_squared_error: 0.5877 - wine_type_accuracy: 0.9943 - val_loss: 0.3825 - val_wine_quality_loss: 0.3504 - val_wine_type_loss: 0.0321 - val_wine_quality_root_mean_squared_error: 0.5919 - val_wine_type_accuracy: 0.9949\n",
      "Epoch 45/180\n",
      "99/99 [==============================] - 0s 5ms/step - loss: 0.3695 - wine_quality_loss: 0.3402 - wine_type_loss: 0.0293 - wine_quality_root_mean_squared_error: 0.5832 - wine_type_accuracy: 0.9946 - val_loss: 0.3824 - val_wine_quality_loss: 0.3504 - val_wine_type_loss: 0.0320 - val_wine_quality_root_mean_squared_error: 0.5919 - val_wine_type_accuracy: 0.9949\n",
      "Epoch 46/180\n",
      "99/99 [==============================] - 1s 5ms/step - loss: 0.3666 - wine_quality_loss: 0.3375 - wine_type_loss: 0.0291 - wine_quality_root_mean_squared_error: 0.5810 - wine_type_accuracy: 0.9946 - val_loss: 0.3766 - val_wine_quality_loss: 0.3445 - val_wine_type_loss: 0.0321 - val_wine_quality_root_mean_squared_error: 0.5870 - val_wine_type_accuracy: 0.9949\n",
      "Epoch 47/180\n",
      "99/99 [==============================] - 1s 5ms/step - loss: 0.3634 - wine_quality_loss: 0.3344 - wine_type_loss: 0.0290 - wine_quality_root_mean_squared_error: 0.5782 - wine_type_accuracy: 0.9946 - val_loss: 0.3778 - val_wine_quality_loss: 0.3458 - val_wine_type_loss: 0.0319 - val_wine_quality_root_mean_squared_error: 0.5881 - val_wine_type_accuracy: 0.9949\n",
      "Epoch 48/180\n",
      "99/99 [==============================] - 1s 5ms/step - loss: 0.3605 - wine_quality_loss: 0.3318 - wine_type_loss: 0.0288 - wine_quality_root_mean_squared_error: 0.5760 - wine_type_accuracy: 0.9946 - val_loss: 0.3743 - val_wine_quality_loss: 0.3426 - val_wine_type_loss: 0.0317 - val_wine_quality_root_mean_squared_error: 0.5853 - val_wine_type_accuracy: 0.9949\n",
      "Epoch 49/180\n",
      "99/99 [==============================] - 0s 5ms/step - loss: 0.3569 - wine_quality_loss: 0.3284 - wine_type_loss: 0.0285 - wine_quality_root_mean_squared_error: 0.5731 - wine_type_accuracy: 0.9946 - val_loss: 0.3688 - val_wine_quality_loss: 0.3372 - val_wine_type_loss: 0.0315 - val_wine_quality_root_mean_squared_error: 0.5807 - val_wine_type_accuracy: 0.9949\n",
      "Epoch 50/180\n",
      "99/99 [==============================] - 0s 4ms/step - loss: 0.3545 - wine_quality_loss: 0.3261 - wine_type_loss: 0.0284 - wine_quality_root_mean_squared_error: 0.5711 - wine_type_accuracy: 0.9946 - val_loss: 0.3664 - val_wine_quality_loss: 0.3350 - val_wine_type_loss: 0.0314 - val_wine_quality_root_mean_squared_error: 0.5788 - val_wine_type_accuracy: 0.9949\n",
      "Epoch 51/180\n",
      "99/99 [==============================] - 0s 4ms/step - loss: 0.3536 - wine_quality_loss: 0.3255 - wine_type_loss: 0.0281 - wine_quality_root_mean_squared_error: 0.5705 - wine_type_accuracy: 0.9946 - val_loss: 0.3673 - val_wine_quality_loss: 0.3358 - val_wine_type_loss: 0.0315 - val_wine_quality_root_mean_squared_error: 0.5795 - val_wine_type_accuracy: 0.9949\n",
      "Epoch 52/180\n",
      "99/99 [==============================] - 0s 4ms/step - loss: 0.3502 - wine_quality_loss: 0.3222 - wine_type_loss: 0.0280 - wine_quality_root_mean_squared_error: 0.5676 - wine_type_accuracy: 0.9946 - val_loss: 0.3668 - val_wine_quality_loss: 0.3355 - val_wine_type_loss: 0.0313 - val_wine_quality_root_mean_squared_error: 0.5792 - val_wine_type_accuracy: 0.9949\n",
      "Epoch 53/180\n",
      "99/99 [==============================] - 0s 4ms/step - loss: 0.3486 - wine_quality_loss: 0.3208 - wine_type_loss: 0.0278 - wine_quality_root_mean_squared_error: 0.5664 - wine_type_accuracy: 0.9946 - val_loss: 0.3646 - val_wine_quality_loss: 0.3335 - val_wine_type_loss: 0.0310 - val_wine_quality_root_mean_squared_error: 0.5775 - val_wine_type_accuracy: 0.9949\n",
      "Epoch 54/180\n",
      "99/99 [==============================] - 0s 4ms/step - loss: 0.3474 - wine_quality_loss: 0.3198 - wine_type_loss: 0.0276 - wine_quality_root_mean_squared_error: 0.5655 - wine_type_accuracy: 0.9946 - val_loss: 0.3628 - val_wine_quality_loss: 0.3317 - val_wine_type_loss: 0.0311 - val_wine_quality_root_mean_squared_error: 0.5759 - val_wine_type_accuracy: 0.9949\n",
      "Epoch 55/180\n",
      "99/99 [==============================] - 0s 5ms/step - loss: 0.3447 - wine_quality_loss: 0.3173 - wine_type_loss: 0.0274 - wine_quality_root_mean_squared_error: 0.5633 - wine_type_accuracy: 0.9946 - val_loss: 0.3622 - val_wine_quality_loss: 0.3311 - val_wine_type_loss: 0.0311 - val_wine_quality_root_mean_squared_error: 0.5754 - val_wine_type_accuracy: 0.9949\n",
      "Epoch 56/180\n",
      "99/99 [==============================] - 0s 4ms/step - loss: 0.3423 - wine_quality_loss: 0.3150 - wine_type_loss: 0.0273 - wine_quality_root_mean_squared_error: 0.5612 - wine_type_accuracy: 0.9946 - val_loss: 0.3694 - val_wine_quality_loss: 0.3386 - val_wine_type_loss: 0.0308 - val_wine_quality_root_mean_squared_error: 0.5819 - val_wine_type_accuracy: 0.9949\n",
      "Epoch 57/180\n",
      "99/99 [==============================] - 1s 5ms/step - loss: 0.3418 - wine_quality_loss: 0.3147 - wine_type_loss: 0.0271 - wine_quality_root_mean_squared_error: 0.5610 - wine_type_accuracy: 0.9946 - val_loss: 0.3653 - val_wine_quality_loss: 0.3345 - val_wine_type_loss: 0.0308 - val_wine_quality_root_mean_squared_error: 0.5784 - val_wine_type_accuracy: 0.9949\n",
      "Epoch 58/180\n",
      "99/99 [==============================] - 0s 4ms/step - loss: 0.3413 - wine_quality_loss: 0.3144 - wine_type_loss: 0.0270 - wine_quality_root_mean_squared_error: 0.5607 - wine_type_accuracy: 0.9946 - val_loss: 0.3608 - val_wine_quality_loss: 0.3302 - val_wine_type_loss: 0.0307 - val_wine_quality_root_mean_squared_error: 0.5746 - val_wine_type_accuracy: 0.9949\n",
      "Epoch 59/180\n",
      "99/99 [==============================] - 0s 4ms/step - loss: 0.3390 - wine_quality_loss: 0.3122 - wine_type_loss: 0.0269 - wine_quality_root_mean_squared_error: 0.5587 - wine_type_accuracy: 0.9946 - val_loss: 0.3614 - val_wine_quality_loss: 0.3307 - val_wine_type_loss: 0.0307 - val_wine_quality_root_mean_squared_error: 0.5750 - val_wine_type_accuracy: 0.9949\n",
      "Epoch 60/180\n",
      "99/99 [==============================] - 0s 4ms/step - loss: 0.3376 - wine_quality_loss: 0.3109 - wine_type_loss: 0.0267 - wine_quality_root_mean_squared_error: 0.5576 - wine_type_accuracy: 0.9946 - val_loss: 0.3552 - val_wine_quality_loss: 0.3247 - val_wine_type_loss: 0.0305 - val_wine_quality_root_mean_squared_error: 0.5698 - val_wine_type_accuracy: 0.9949\n",
      "Epoch 61/180\n",
      "99/99 [==============================] - 0s 4ms/step - loss: 0.3366 - wine_quality_loss: 0.3101 - wine_type_loss: 0.0265 - wine_quality_root_mean_squared_error: 0.5568 - wine_type_accuracy: 0.9946 - val_loss: 0.3583 - val_wine_quality_loss: 0.3278 - val_wine_type_loss: 0.0305 - val_wine_quality_root_mean_squared_error: 0.5725 - val_wine_type_accuracy: 0.9949\n",
      "Epoch 62/180\n",
      "99/99 [==============================] - 0s 4ms/step - loss: 0.3354 - wine_quality_loss: 0.3090 - wine_type_loss: 0.0264 - wine_quality_root_mean_squared_error: 0.5559 - wine_type_accuracy: 0.9949 - val_loss: 0.3557 - val_wine_quality_loss: 0.3253 - val_wine_type_loss: 0.0305 - val_wine_quality_root_mean_squared_error: 0.5703 - val_wine_type_accuracy: 0.9949\n",
      "Epoch 63/180\n",
      "99/99 [==============================] - 0s 4ms/step - loss: 0.3337 - wine_quality_loss: 0.3075 - wine_type_loss: 0.0262 - wine_quality_root_mean_squared_error: 0.5545 - wine_type_accuracy: 0.9949 - val_loss: 0.3618 - val_wine_quality_loss: 0.3314 - val_wine_type_loss: 0.0304 - val_wine_quality_root_mean_squared_error: 0.5757 - val_wine_type_accuracy: 0.9949\n",
      "Epoch 64/180\n",
      "99/99 [==============================] - 0s 4ms/step - loss: 0.3328 - wine_quality_loss: 0.3068 - wine_type_loss: 0.0261 - wine_quality_root_mean_squared_error: 0.5539 - wine_type_accuracy: 0.9949 - val_loss: 0.3557 - val_wine_quality_loss: 0.3254 - val_wine_type_loss: 0.0304 - val_wine_quality_root_mean_squared_error: 0.5704 - val_wine_type_accuracy: 0.9949\n",
      "Epoch 65/180\n",
      "99/99 [==============================] - 0s 4ms/step - loss: 0.3328 - wine_quality_loss: 0.3069 - wine_type_loss: 0.0260 - wine_quality_root_mean_squared_error: 0.5539 - wine_type_accuracy: 0.9949 - val_loss: 0.3539 - val_wine_quality_loss: 0.3238 - val_wine_type_loss: 0.0301 - val_wine_quality_root_mean_squared_error: 0.5691 - val_wine_type_accuracy: 0.9949\n",
      "Epoch 66/180\n",
      "99/99 [==============================] - 1s 5ms/step - loss: 0.3316 - wine_quality_loss: 0.3058 - wine_type_loss: 0.0258 - wine_quality_root_mean_squared_error: 0.5530 - wine_type_accuracy: 0.9952 - val_loss: 0.3565 - val_wine_quality_loss: 0.3265 - val_wine_type_loss: 0.0300 - val_wine_quality_root_mean_squared_error: 0.5714 - val_wine_type_accuracy: 0.9949\n",
      "Epoch 67/180\n",
      "99/99 [==============================] - 0s 5ms/step - loss: 0.3294 - wine_quality_loss: 0.3037 - wine_type_loss: 0.0257 - wine_quality_root_mean_squared_error: 0.5511 - wine_type_accuracy: 0.9952 - val_loss: 0.3681 - val_wine_quality_loss: 0.3381 - val_wine_type_loss: 0.0301 - val_wine_quality_root_mean_squared_error: 0.5814 - val_wine_type_accuracy: 0.9949\n",
      "Epoch 68/180\n",
      "99/99 [==============================] - 0s 4ms/step - loss: 0.3296 - wine_quality_loss: 0.3041 - wine_type_loss: 0.0255 - wine_quality_root_mean_squared_error: 0.5514 - wine_type_accuracy: 0.9952 - val_loss: 0.3544 - val_wine_quality_loss: 0.3244 - val_wine_type_loss: 0.0300 - val_wine_quality_root_mean_squared_error: 0.5696 - val_wine_type_accuracy: 0.9949\n",
      "Epoch 69/180\n",
      "99/99 [==============================] - 0s 4ms/step - loss: 0.3283 - wine_quality_loss: 0.3030 - wine_type_loss: 0.0254 - wine_quality_root_mean_squared_error: 0.5504 - wine_type_accuracy: 0.9952 - val_loss: 0.3521 - val_wine_quality_loss: 0.3221 - val_wine_type_loss: 0.0300 - val_wine_quality_root_mean_squared_error: 0.5675 - val_wine_type_accuracy: 0.9949\n",
      "Epoch 70/180\n",
      "99/99 [==============================] - 0s 4ms/step - loss: 0.3280 - wine_quality_loss: 0.3028 - wine_type_loss: 0.0252 - wine_quality_root_mean_squared_error: 0.5503 - wine_type_accuracy: 0.9952 - val_loss: 0.3533 - val_wine_quality_loss: 0.3234 - val_wine_type_loss: 0.0299 - val_wine_quality_root_mean_squared_error: 0.5687 - val_wine_type_accuracy: 0.9949\n",
      "Epoch 71/180\n",
      "99/99 [==============================] - 0s 5ms/step - loss: 0.3260 - wine_quality_loss: 0.3008 - wine_type_loss: 0.0251 - wine_quality_root_mean_squared_error: 0.5485 - wine_type_accuracy: 0.9952 - val_loss: 0.3524 - val_wine_quality_loss: 0.3226 - val_wine_type_loss: 0.0298 - val_wine_quality_root_mean_squared_error: 0.5680 - val_wine_type_accuracy: 0.9949\n",
      "Epoch 72/180\n",
      "99/99 [==============================] - 0s 4ms/step - loss: 0.3250 - wine_quality_loss: 0.2999 - wine_type_loss: 0.0250 - wine_quality_root_mean_squared_error: 0.5477 - wine_type_accuracy: 0.9952 - val_loss: 0.3477 - val_wine_quality_loss: 0.3180 - val_wine_type_loss: 0.0297 - val_wine_quality_root_mean_squared_error: 0.5639 - val_wine_type_accuracy: 0.9949\n",
      "Epoch 73/180\n",
      "99/99 [==============================] - 0s 4ms/step - loss: 0.3249 - wine_quality_loss: 0.3000 - wine_type_loss: 0.0249 - wine_quality_root_mean_squared_error: 0.5477 - wine_type_accuracy: 0.9952 - val_loss: 0.3525 - val_wine_quality_loss: 0.3228 - val_wine_type_loss: 0.0297 - val_wine_quality_root_mean_squared_error: 0.5682 - val_wine_type_accuracy: 0.9949\n",
      "Epoch 74/180\n",
      "99/99 [==============================] - 0s 4ms/step - loss: 0.3235 - wine_quality_loss: 0.2988 - wine_type_loss: 0.0248 - wine_quality_root_mean_squared_error: 0.5466 - wine_type_accuracy: 0.9956 - val_loss: 0.3498 - val_wine_quality_loss: 0.3203 - val_wine_type_loss: 0.0295 - val_wine_quality_root_mean_squared_error: 0.5660 - val_wine_type_accuracy: 0.9949\n",
      "Epoch 75/180\n",
      "99/99 [==============================] - 0s 4ms/step - loss: 0.3223 - wine_quality_loss: 0.2977 - wine_type_loss: 0.0246 - wine_quality_root_mean_squared_error: 0.5456 - wine_type_accuracy: 0.9952 - val_loss: 0.3545 - val_wine_quality_loss: 0.3250 - val_wine_type_loss: 0.0296 - val_wine_quality_root_mean_squared_error: 0.5701 - val_wine_type_accuracy: 0.9949\n",
      "Epoch 76/180\n",
      "99/99 [==============================] - 0s 4ms/step - loss: 0.3224 - wine_quality_loss: 0.2979 - wine_type_loss: 0.0245 - wine_quality_root_mean_squared_error: 0.5458 - wine_type_accuracy: 0.9956 - val_loss: 0.3502 - val_wine_quality_loss: 0.3207 - val_wine_type_loss: 0.0295 - val_wine_quality_root_mean_squared_error: 0.5663 - val_wine_type_accuracy: 0.9949\n",
      "Epoch 77/180\n",
      "99/99 [==============================] - 0s 4ms/step - loss: 0.3211 - wine_quality_loss: 0.2967 - wine_type_loss: 0.0244 - wine_quality_root_mean_squared_error: 0.5447 - wine_type_accuracy: 0.9956 - val_loss: 0.3512 - val_wine_quality_loss: 0.3219 - val_wine_type_loss: 0.0293 - val_wine_quality_root_mean_squared_error: 0.5674 - val_wine_type_accuracy: 0.9949\n",
      "Epoch 78/180\n",
      "99/99 [==============================] - 0s 5ms/step - loss: 0.3203 - wine_quality_loss: 0.2961 - wine_type_loss: 0.0242 - wine_quality_root_mean_squared_error: 0.5441 - wine_type_accuracy: 0.9956 - val_loss: 0.3481 - val_wine_quality_loss: 0.3187 - val_wine_type_loss: 0.0294 - val_wine_quality_root_mean_squared_error: 0.5646 - val_wine_type_accuracy: 0.9949\n",
      "Epoch 79/180\n",
      "99/99 [==============================] - 1s 6ms/step - loss: 0.3196 - wine_quality_loss: 0.2955 - wine_type_loss: 0.0241 - wine_quality_root_mean_squared_error: 0.5436 - wine_type_accuracy: 0.9956 - val_loss: 0.3530 - val_wine_quality_loss: 0.3233 - val_wine_type_loss: 0.0296 - val_wine_quality_root_mean_squared_error: 0.5686 - val_wine_type_accuracy: 0.9949\n",
      "Epoch 80/180\n",
      "99/99 [==============================] - 0s 5ms/step - loss: 0.3190 - wine_quality_loss: 0.2950 - wine_type_loss: 0.0240 - wine_quality_root_mean_squared_error: 0.5431 - wine_type_accuracy: 0.9956 - val_loss: 0.3487 - val_wine_quality_loss: 0.3193 - val_wine_type_loss: 0.0293 - val_wine_quality_root_mean_squared_error: 0.5651 - val_wine_type_accuracy: 0.9949\n",
      "Epoch 81/180\n",
      "99/99 [==============================] - 0s 5ms/step - loss: 0.3180 - wine_quality_loss: 0.2941 - wine_type_loss: 0.0239 - wine_quality_root_mean_squared_error: 0.5423 - wine_type_accuracy: 0.9956 - val_loss: 0.3489 - val_wine_quality_loss: 0.3196 - val_wine_type_loss: 0.0293 - val_wine_quality_root_mean_squared_error: 0.5654 - val_wine_type_accuracy: 0.9949\n",
      "Epoch 82/180\n",
      "99/99 [==============================] - 0s 4ms/step - loss: 0.3163 - wine_quality_loss: 0.2926 - wine_type_loss: 0.0237 - wine_quality_root_mean_squared_error: 0.5409 - wine_type_accuracy: 0.9956 - val_loss: 0.3565 - val_wine_quality_loss: 0.3274 - val_wine_type_loss: 0.0291 - val_wine_quality_root_mean_squared_error: 0.5722 - val_wine_type_accuracy: 0.9949\n",
      "Epoch 83/180\n",
      "99/99 [==============================] - 0s 4ms/step - loss: 0.3168 - wine_quality_loss: 0.2932 - wine_type_loss: 0.0236 - wine_quality_root_mean_squared_error: 0.5415 - wine_type_accuracy: 0.9956 - val_loss: 0.3480 - val_wine_quality_loss: 0.3189 - val_wine_type_loss: 0.0291 - val_wine_quality_root_mean_squared_error: 0.5647 - val_wine_type_accuracy: 0.9949\n",
      "Epoch 84/180\n",
      "99/99 [==============================] - 0s 4ms/step - loss: 0.3156 - wine_quality_loss: 0.2921 - wine_type_loss: 0.0235 - wine_quality_root_mean_squared_error: 0.5405 - wine_type_accuracy: 0.9959 - val_loss: 0.3462 - val_wine_quality_loss: 0.3170 - val_wine_type_loss: 0.0292 - val_wine_quality_root_mean_squared_error: 0.5630 - val_wine_type_accuracy: 0.9949\n",
      "Epoch 85/180\n",
      "99/99 [==============================] - 1s 5ms/step - loss: 0.3153 - wine_quality_loss: 0.2919 - wine_type_loss: 0.0234 - wine_quality_root_mean_squared_error: 0.5403 - wine_type_accuracy: 0.9956 - val_loss: 0.3436 - val_wine_quality_loss: 0.3146 - val_wine_type_loss: 0.0290 - val_wine_quality_root_mean_squared_error: 0.5609 - val_wine_type_accuracy: 0.9949\n",
      "Epoch 86/180\n",
      "99/99 [==============================] - 0s 5ms/step - loss: 0.3147 - wine_quality_loss: 0.2915 - wine_type_loss: 0.0232 - wine_quality_root_mean_squared_error: 0.5399 - wine_type_accuracy: 0.9959 - val_loss: 0.3530 - val_wine_quality_loss: 0.3240 - val_wine_type_loss: 0.0290 - val_wine_quality_root_mean_squared_error: 0.5692 - val_wine_type_accuracy: 0.9949\n",
      "Epoch 87/180\n",
      "99/99 [==============================] - 1s 5ms/step - loss: 0.3146 - wine_quality_loss: 0.2914 - wine_type_loss: 0.0232 - wine_quality_root_mean_squared_error: 0.5398 - wine_type_accuracy: 0.9962 - val_loss: 0.3489 - val_wine_quality_loss: 0.3200 - val_wine_type_loss: 0.0289 - val_wine_quality_root_mean_squared_error: 0.5657 - val_wine_type_accuracy: 0.9949\n",
      "Epoch 88/180\n",
      "99/99 [==============================] - 1s 6ms/step - loss: 0.3121 - wine_quality_loss: 0.2890 - wine_type_loss: 0.0231 - wine_quality_root_mean_squared_error: 0.5376 - wine_type_accuracy: 0.9956 - val_loss: 0.3553 - val_wine_quality_loss: 0.3263 - val_wine_type_loss: 0.0290 - val_wine_quality_root_mean_squared_error: 0.5713 - val_wine_type_accuracy: 0.9949\n",
      "Epoch 89/180\n",
      "99/99 [==============================] - 0s 5ms/step - loss: 0.3114 - wine_quality_loss: 0.2885 - wine_type_loss: 0.0229 - wine_quality_root_mean_squared_error: 0.5371 - wine_type_accuracy: 0.9962 - val_loss: 0.3490 - val_wine_quality_loss: 0.3202 - val_wine_type_loss: 0.0288 - val_wine_quality_root_mean_squared_error: 0.5659 - val_wine_type_accuracy: 0.9949\n",
      "Epoch 90/180\n",
      "99/99 [==============================] - 0s 4ms/step - loss: 0.3113 - wine_quality_loss: 0.2884 - wine_type_loss: 0.0229 - wine_quality_root_mean_squared_error: 0.5371 - wine_type_accuracy: 0.9959 - val_loss: 0.3446 - val_wine_quality_loss: 0.3157 - val_wine_type_loss: 0.0288 - val_wine_quality_root_mean_squared_error: 0.5619 - val_wine_type_accuracy: 0.9949\n",
      "Epoch 91/180\n",
      "99/99 [==============================] - 0s 5ms/step - loss: 0.3107 - wine_quality_loss: 0.2879 - wine_type_loss: 0.0227 - wine_quality_root_mean_squared_error: 0.5366 - wine_type_accuracy: 0.9956 - val_loss: 0.3437 - val_wine_quality_loss: 0.3150 - val_wine_type_loss: 0.0287 - val_wine_quality_root_mean_squared_error: 0.5613 - val_wine_type_accuracy: 0.9949\n",
      "Epoch 92/180\n",
      "99/99 [==============================] - 0s 4ms/step - loss: 0.3105 - wine_quality_loss: 0.2880 - wine_type_loss: 0.0226 - wine_quality_root_mean_squared_error: 0.5366 - wine_type_accuracy: 0.9956 - val_loss: 0.3529 - val_wine_quality_loss: 0.3242 - val_wine_type_loss: 0.0287 - val_wine_quality_root_mean_squared_error: 0.5694 - val_wine_type_accuracy: 0.9949\n",
      "Epoch 93/180\n",
      "99/99 [==============================] - 0s 4ms/step - loss: 0.3102 - wine_quality_loss: 0.2877 - wine_type_loss: 0.0225 - wine_quality_root_mean_squared_error: 0.5364 - wine_type_accuracy: 0.9962 - val_loss: 0.3456 - val_wine_quality_loss: 0.3168 - val_wine_type_loss: 0.0288 - val_wine_quality_root_mean_squared_error: 0.5628 - val_wine_type_accuracy: 0.9949\n",
      "Epoch 94/180\n",
      "99/99 [==============================] - 0s 4ms/step - loss: 0.3087 - wine_quality_loss: 0.2862 - wine_type_loss: 0.0225 - wine_quality_root_mean_squared_error: 0.5350 - wine_type_accuracy: 0.9959 - val_loss: 0.3506 - val_wine_quality_loss: 0.3220 - val_wine_type_loss: 0.0287 - val_wine_quality_root_mean_squared_error: 0.5674 - val_wine_type_accuracy: 0.9949\n",
      "Epoch 95/180\n",
      "99/99 [==============================] - 0s 5ms/step - loss: 0.3076 - wine_quality_loss: 0.2853 - wine_type_loss: 0.0223 - wine_quality_root_mean_squared_error: 0.5342 - wine_type_accuracy: 0.9962 - val_loss: 0.3539 - val_wine_quality_loss: 0.3252 - val_wine_type_loss: 0.0286 - val_wine_quality_root_mean_squared_error: 0.5703 - val_wine_type_accuracy: 0.9949\n",
      "Epoch 96/180\n",
      "99/99 [==============================] - 0s 4ms/step - loss: 0.3086 - wine_quality_loss: 0.2864 - wine_type_loss: 0.0222 - wine_quality_root_mean_squared_error: 0.5352 - wine_type_accuracy: 0.9962 - val_loss: 0.3521 - val_wine_quality_loss: 0.3233 - val_wine_type_loss: 0.0288 - val_wine_quality_root_mean_squared_error: 0.5686 - val_wine_type_accuracy: 0.9949\n",
      "Epoch 97/180\n",
      "99/99 [==============================] - 0s 4ms/step - loss: 0.3077 - wine_quality_loss: 0.2856 - wine_type_loss: 0.0221 - wine_quality_root_mean_squared_error: 0.5344 - wine_type_accuracy: 0.9959 - val_loss: 0.3505 - val_wine_quality_loss: 0.3220 - val_wine_type_loss: 0.0286 - val_wine_quality_root_mean_squared_error: 0.5674 - val_wine_type_accuracy: 0.9949\n",
      "Epoch 98/180\n",
      "99/99 [==============================] - 0s 4ms/step - loss: 0.3064 - wine_quality_loss: 0.2843 - wine_type_loss: 0.0220 - wine_quality_root_mean_squared_error: 0.5332 - wine_type_accuracy: 0.9962 - val_loss: 0.3472 - val_wine_quality_loss: 0.3188 - val_wine_type_loss: 0.0284 - val_wine_quality_root_mean_squared_error: 0.5646 - val_wine_type_accuracy: 0.9949\n",
      "Epoch 99/180\n",
      "99/99 [==============================] - 0s 4ms/step - loss: 0.3060 - wine_quality_loss: 0.2841 - wine_type_loss: 0.0219 - wine_quality_root_mean_squared_error: 0.5330 - wine_type_accuracy: 0.9962 - val_loss: 0.3434 - val_wine_quality_loss: 0.3149 - val_wine_type_loss: 0.0286 - val_wine_quality_root_mean_squared_error: 0.5611 - val_wine_type_accuracy: 0.9949\n",
      "Epoch 100/180\n",
      "99/99 [==============================] - 0s 4ms/step - loss: 0.3045 - wine_quality_loss: 0.2827 - wine_type_loss: 0.0218 - wine_quality_root_mean_squared_error: 0.5317 - wine_type_accuracy: 0.9959 - val_loss: 0.3498 - val_wine_quality_loss: 0.3211 - val_wine_type_loss: 0.0287 - val_wine_quality_root_mean_squared_error: 0.5667 - val_wine_type_accuracy: 0.9949\n",
      "Epoch 101/180\n",
      "99/99 [==============================] - 0s 4ms/step - loss: 0.3042 - wine_quality_loss: 0.2825 - wine_type_loss: 0.0217 - wine_quality_root_mean_squared_error: 0.5315 - wine_type_accuracy: 0.9962 - val_loss: 0.3445 - val_wine_quality_loss: 0.3161 - val_wine_type_loss: 0.0283 - val_wine_quality_root_mean_squared_error: 0.5622 - val_wine_type_accuracy: 0.9949\n",
      "Epoch 102/180\n",
      "99/99 [==============================] - 0s 4ms/step - loss: 0.3030 - wine_quality_loss: 0.2814 - wine_type_loss: 0.0216 - wine_quality_root_mean_squared_error: 0.5305 - wine_type_accuracy: 0.9962 - val_loss: 0.3523 - val_wine_quality_loss: 0.3239 - val_wine_type_loss: 0.0284 - val_wine_quality_root_mean_squared_error: 0.5691 - val_wine_type_accuracy: 0.9949\n",
      "Epoch 103/180\n",
      "99/99 [==============================] - 0s 5ms/step - loss: 0.3039 - wine_quality_loss: 0.2823 - wine_type_loss: 0.0216 - wine_quality_root_mean_squared_error: 0.5314 - wine_type_accuracy: 0.9962 - val_loss: 0.3457 - val_wine_quality_loss: 0.3174 - val_wine_type_loss: 0.0283 - val_wine_quality_root_mean_squared_error: 0.5634 - val_wine_type_accuracy: 0.9949\n",
      "Epoch 104/180\n",
      "99/99 [==============================] - 1s 6ms/step - loss: 0.3024 - wine_quality_loss: 0.2810 - wine_type_loss: 0.0214 - wine_quality_root_mean_squared_error: 0.5301 - wine_type_accuracy: 0.9962 - val_loss: 0.3462 - val_wine_quality_loss: 0.3178 - val_wine_type_loss: 0.0284 - val_wine_quality_root_mean_squared_error: 0.5638 - val_wine_type_accuracy: 0.9949\n",
      "Epoch 105/180\n",
      "99/99 [==============================] - 1s 6ms/step - loss: 0.3024 - wine_quality_loss: 0.2810 - wine_type_loss: 0.0214 - wine_quality_root_mean_squared_error: 0.5301 - wine_type_accuracy: 0.9959 - val_loss: 0.3447 - val_wine_quality_loss: 0.3165 - val_wine_type_loss: 0.0282 - val_wine_quality_root_mean_squared_error: 0.5626 - val_wine_type_accuracy: 0.9949\n",
      "Epoch 106/180\n",
      "99/99 [==============================] - 0s 4ms/step - loss: 0.3025 - wine_quality_loss: 0.2813 - wine_type_loss: 0.0212 - wine_quality_root_mean_squared_error: 0.5304 - wine_type_accuracy: 0.9962 - val_loss: 0.3455 - val_wine_quality_loss: 0.3174 - val_wine_type_loss: 0.0281 - val_wine_quality_root_mean_squared_error: 0.5634 - val_wine_type_accuracy: 0.9949\n",
      "Epoch 107/180\n",
      "99/99 [==============================] - 0s 5ms/step - loss: 0.3014 - wine_quality_loss: 0.2802 - wine_type_loss: 0.0212 - wine_quality_root_mean_squared_error: 0.5293 - wine_type_accuracy: 0.9962 - val_loss: 0.3527 - val_wine_quality_loss: 0.3244 - val_wine_type_loss: 0.0283 - val_wine_quality_root_mean_squared_error: 0.5696 - val_wine_type_accuracy: 0.9949\n",
      "Epoch 108/180\n",
      "99/99 [==============================] - 0s 4ms/step - loss: 0.3009 - wine_quality_loss: 0.2798 - wine_type_loss: 0.0211 - wine_quality_root_mean_squared_error: 0.5289 - wine_type_accuracy: 0.9962 - val_loss: 0.3705 - val_wine_quality_loss: 0.3422 - val_wine_type_loss: 0.0283 - val_wine_quality_root_mean_squared_error: 0.5850 - val_wine_type_accuracy: 0.9949\n",
      "Epoch 109/180\n",
      "99/99 [==============================] - 0s 5ms/step - loss: 0.3007 - wine_quality_loss: 0.2797 - wine_type_loss: 0.0210 - wine_quality_root_mean_squared_error: 0.5288 - wine_type_accuracy: 0.9962 - val_loss: 0.3463 - val_wine_quality_loss: 0.3181 - val_wine_type_loss: 0.0281 - val_wine_quality_root_mean_squared_error: 0.5640 - val_wine_type_accuracy: 0.9949\n",
      "Epoch 110/180\n",
      "99/99 [==============================] - 0s 5ms/step - loss: 0.2993 - wine_quality_loss: 0.2784 - wine_type_loss: 0.0209 - wine_quality_root_mean_squared_error: 0.5276 - wine_type_accuracy: 0.9962 - val_loss: 0.3516 - val_wine_quality_loss: 0.3235 - val_wine_type_loss: 0.0281 - val_wine_quality_root_mean_squared_error: 0.5688 - val_wine_type_accuracy: 0.9949\n",
      "Epoch 111/180\n",
      "99/99 [==============================] - 0s 4ms/step - loss: 0.2998 - wine_quality_loss: 0.2790 - wine_type_loss: 0.0208 - wine_quality_root_mean_squared_error: 0.5282 - wine_type_accuracy: 0.9962 - val_loss: 0.3443 - val_wine_quality_loss: 0.3162 - val_wine_type_loss: 0.0281 - val_wine_quality_root_mean_squared_error: 0.5624 - val_wine_type_accuracy: 0.9949\n",
      "Epoch 112/180\n",
      "99/99 [==============================] - 0s 5ms/step - loss: 0.2995 - wine_quality_loss: 0.2787 - wine_type_loss: 0.0208 - wine_quality_root_mean_squared_error: 0.5279 - wine_type_accuracy: 0.9962 - val_loss: 0.3448 - val_wine_quality_loss: 0.3166 - val_wine_type_loss: 0.0282 - val_wine_quality_root_mean_squared_error: 0.5627 - val_wine_type_accuracy: 0.9949\n",
      "Epoch 113/180\n",
      "99/99 [==============================] - 0s 4ms/step - loss: 0.2974 - wine_quality_loss: 0.2767 - wine_type_loss: 0.0206 - wine_quality_root_mean_squared_error: 0.5261 - wine_type_accuracy: 0.9962 - val_loss: 0.3570 - val_wine_quality_loss: 0.3288 - val_wine_type_loss: 0.0282 - val_wine_quality_root_mean_squared_error: 0.5734 - val_wine_type_accuracy: 0.9949\n",
      "Epoch 114/180\n",
      "99/99 [==============================] - 0s 5ms/step - loss: 0.2992 - wine_quality_loss: 0.2786 - wine_type_loss: 0.0206 - wine_quality_root_mean_squared_error: 0.5278 - wine_type_accuracy: 0.9962 - val_loss: 0.3478 - val_wine_quality_loss: 0.3198 - val_wine_type_loss: 0.0280 - val_wine_quality_root_mean_squared_error: 0.5655 - val_wine_type_accuracy: 0.9949\n",
      "Epoch 115/180\n",
      "99/99 [==============================] - 0s 5ms/step - loss: 0.2976 - wine_quality_loss: 0.2771 - wine_type_loss: 0.0205 - wine_quality_root_mean_squared_error: 0.5264 - wine_type_accuracy: 0.9962 - val_loss: 0.3455 - val_wine_quality_loss: 0.3176 - val_wine_type_loss: 0.0279 - val_wine_quality_root_mean_squared_error: 0.5635 - val_wine_type_accuracy: 0.9949\n",
      "Epoch 116/180\n",
      "99/99 [==============================] - 0s 5ms/step - loss: 0.2963 - wine_quality_loss: 0.2759 - wine_type_loss: 0.0205 - wine_quality_root_mean_squared_error: 0.5253 - wine_type_accuracy: 0.9962 - val_loss: 0.3461 - val_wine_quality_loss: 0.3181 - val_wine_type_loss: 0.0280 - val_wine_quality_root_mean_squared_error: 0.5640 - val_wine_type_accuracy: 0.9949\n",
      "Epoch 117/180\n",
      "99/99 [==============================] - 1s 5ms/step - loss: 0.2963 - wine_quality_loss: 0.2760 - wine_type_loss: 0.0203 - wine_quality_root_mean_squared_error: 0.5254 - wine_type_accuracy: 0.9962 - val_loss: 0.3426 - val_wine_quality_loss: 0.3145 - val_wine_type_loss: 0.0281 - val_wine_quality_root_mean_squared_error: 0.5608 - val_wine_type_accuracy: 0.9949\n",
      "Epoch 118/180\n",
      "99/99 [==============================] - 1s 7ms/step - loss: 0.2954 - wine_quality_loss: 0.2751 - wine_type_loss: 0.0203 - wine_quality_root_mean_squared_error: 0.5245 - wine_type_accuracy: 0.9962 - val_loss: 0.3473 - val_wine_quality_loss: 0.3192 - val_wine_type_loss: 0.0281 - val_wine_quality_root_mean_squared_error: 0.5650 - val_wine_type_accuracy: 0.9949\n",
      "Epoch 119/180\n",
      "99/99 [==============================] - 1s 5ms/step - loss: 0.2944 - wine_quality_loss: 0.2742 - wine_type_loss: 0.0202 - wine_quality_root_mean_squared_error: 0.5237 - wine_type_accuracy: 0.9962 - val_loss: 0.3483 - val_wine_quality_loss: 0.3205 - val_wine_type_loss: 0.0279 - val_wine_quality_root_mean_squared_error: 0.5661 - val_wine_type_accuracy: 0.9949\n",
      "Epoch 120/180\n",
      "99/99 [==============================] - 0s 4ms/step - loss: 0.2937 - wine_quality_loss: 0.2736 - wine_type_loss: 0.0201 - wine_quality_root_mean_squared_error: 0.5231 - wine_type_accuracy: 0.9962 - val_loss: 0.3453 - val_wine_quality_loss: 0.3173 - val_wine_type_loss: 0.0280 - val_wine_quality_root_mean_squared_error: 0.5633 - val_wine_type_accuracy: 0.9949\n",
      "Epoch 121/180\n",
      "99/99 [==============================] - 0s 4ms/step - loss: 0.2956 - wine_quality_loss: 0.2756 - wine_type_loss: 0.0201 - wine_quality_root_mean_squared_error: 0.5250 - wine_type_accuracy: 0.9962 - val_loss: 0.3489 - val_wine_quality_loss: 0.3210 - val_wine_type_loss: 0.0279 - val_wine_quality_root_mean_squared_error: 0.5666 - val_wine_type_accuracy: 0.9949\n",
      "Epoch 122/180\n",
      "99/99 [==============================] - 0s 3ms/step - loss: 0.2938 - wine_quality_loss: 0.2738 - wine_type_loss: 0.0200 - wine_quality_root_mean_squared_error: 0.5233 - wine_type_accuracy: 0.9962 - val_loss: 0.3506 - val_wine_quality_loss: 0.3226 - val_wine_type_loss: 0.0279 - val_wine_quality_root_mean_squared_error: 0.5680 - val_wine_type_accuracy: 0.9949\n",
      "Epoch 123/180\n",
      "99/99 [==============================] - 0s 3ms/step - loss: 0.2929 - wine_quality_loss: 0.2730 - wine_type_loss: 0.0199 - wine_quality_root_mean_squared_error: 0.5225 - wine_type_accuracy: 0.9962 - val_loss: 0.3424 - val_wine_quality_loss: 0.3146 - val_wine_type_loss: 0.0278 - val_wine_quality_root_mean_squared_error: 0.5609 - val_wine_type_accuracy: 0.9949\n",
      "Epoch 124/180\n",
      "99/99 [==============================] - 0s 4ms/step - loss: 0.2927 - wine_quality_loss: 0.2730 - wine_type_loss: 0.0198 - wine_quality_root_mean_squared_error: 0.5225 - wine_type_accuracy: 0.9962 - val_loss: 0.3416 - val_wine_quality_loss: 0.3138 - val_wine_type_loss: 0.0278 - val_wine_quality_root_mean_squared_error: 0.5601 - val_wine_type_accuracy: 0.9949\n",
      "Epoch 125/180\n",
      "99/99 [==============================] - 0s 3ms/step - loss: 0.2926 - wine_quality_loss: 0.2728 - wine_type_loss: 0.0198 - wine_quality_root_mean_squared_error: 0.5223 - wine_type_accuracy: 0.9962 - val_loss: 0.3508 - val_wine_quality_loss: 0.3230 - val_wine_type_loss: 0.0279 - val_wine_quality_root_mean_squared_error: 0.5683 - val_wine_type_accuracy: 0.9949\n",
      "Epoch 126/180\n",
      "99/99 [==============================] - 0s 4ms/step - loss: 0.2920 - wine_quality_loss: 0.2723 - wine_type_loss: 0.0197 - wine_quality_root_mean_squared_error: 0.5219 - wine_type_accuracy: 0.9962 - val_loss: 0.3430 - val_wine_quality_loss: 0.3153 - val_wine_type_loss: 0.0277 - val_wine_quality_root_mean_squared_error: 0.5615 - val_wine_type_accuracy: 0.9949\n",
      "Epoch 127/180\n",
      "99/99 [==============================] - 0s 3ms/step - loss: 0.2921 - wine_quality_loss: 0.2725 - wine_type_loss: 0.0196 - wine_quality_root_mean_squared_error: 0.5221 - wine_type_accuracy: 0.9962 - val_loss: 0.3422 - val_wine_quality_loss: 0.3144 - val_wine_type_loss: 0.0278 - val_wine_quality_root_mean_squared_error: 0.5607 - val_wine_type_accuracy: 0.9949\n",
      "Epoch 128/180\n",
      "99/99 [==============================] - 0s 3ms/step - loss: 0.2910 - wine_quality_loss: 0.2715 - wine_type_loss: 0.0195 - wine_quality_root_mean_squared_error: 0.5210 - wine_type_accuracy: 0.9962 - val_loss: 0.3458 - val_wine_quality_loss: 0.3179 - val_wine_type_loss: 0.0279 - val_wine_quality_root_mean_squared_error: 0.5638 - val_wine_type_accuracy: 0.9949\n",
      "Epoch 129/180\n",
      "99/99 [==============================] - 0s 4ms/step - loss: 0.2899 - wine_quality_loss: 0.2705 - wine_type_loss: 0.0194 - wine_quality_root_mean_squared_error: 0.5201 - wine_type_accuracy: 0.9962 - val_loss: 0.3414 - val_wine_quality_loss: 0.3137 - val_wine_type_loss: 0.0277 - val_wine_quality_root_mean_squared_error: 0.5601 - val_wine_type_accuracy: 0.9949\n",
      "Epoch 130/180\n",
      "99/99 [==============================] - 0s 3ms/step - loss: 0.2891 - wine_quality_loss: 0.2697 - wine_type_loss: 0.0194 - wine_quality_root_mean_squared_error: 0.5194 - wine_type_accuracy: 0.9962 - val_loss: 0.3441 - val_wine_quality_loss: 0.3164 - val_wine_type_loss: 0.0277 - val_wine_quality_root_mean_squared_error: 0.5625 - val_wine_type_accuracy: 0.9949\n",
      "Epoch 131/180\n",
      "99/99 [==============================] - 0s 3ms/step - loss: 0.2904 - wine_quality_loss: 0.2711 - wine_type_loss: 0.0193 - wine_quality_root_mean_squared_error: 0.5207 - wine_type_accuracy: 0.9962 - val_loss: 0.3457 - val_wine_quality_loss: 0.3179 - val_wine_type_loss: 0.0278 - val_wine_quality_root_mean_squared_error: 0.5638 - val_wine_type_accuracy: 0.9949\n",
      "Epoch 132/180\n",
      "99/99 [==============================] - 0s 3ms/step - loss: 0.2893 - wine_quality_loss: 0.2702 - wine_type_loss: 0.0192 - wine_quality_root_mean_squared_error: 0.5198 - wine_type_accuracy: 0.9962 - val_loss: 0.3519 - val_wine_quality_loss: 0.3241 - val_wine_type_loss: 0.0278 - val_wine_quality_root_mean_squared_error: 0.5693 - val_wine_type_accuracy: 0.9949\n",
      "Epoch 133/180\n",
      "99/99 [==============================] - 0s 3ms/step - loss: 0.2890 - wine_quality_loss: 0.2699 - wine_type_loss: 0.0191 - wine_quality_root_mean_squared_error: 0.5195 - wine_type_accuracy: 0.9962 - val_loss: 0.3444 - val_wine_quality_loss: 0.3167 - val_wine_type_loss: 0.0277 - val_wine_quality_root_mean_squared_error: 0.5628 - val_wine_type_accuracy: 0.9949\n",
      "Epoch 134/180\n",
      "99/99 [==============================] - 0s 3ms/step - loss: 0.2879 - wine_quality_loss: 0.2688 - wine_type_loss: 0.0191 - wine_quality_root_mean_squared_error: 0.5185 - wine_type_accuracy: 0.9962 - val_loss: 0.3471 - val_wine_quality_loss: 0.3195 - val_wine_type_loss: 0.0276 - val_wine_quality_root_mean_squared_error: 0.5653 - val_wine_type_accuracy: 0.9949\n",
      "Epoch 135/180\n",
      "99/99 [==============================] - 0s 3ms/step - loss: 0.2887 - wine_quality_loss: 0.2697 - wine_type_loss: 0.0190 - wine_quality_root_mean_squared_error: 0.5193 - wine_type_accuracy: 0.9962 - val_loss: 0.3426 - val_wine_quality_loss: 0.3150 - val_wine_type_loss: 0.0276 - val_wine_quality_root_mean_squared_error: 0.5612 - val_wine_type_accuracy: 0.9949\n",
      "Epoch 136/180\n",
      "99/99 [==============================] - 0s 3ms/step - loss: 0.2869 - wine_quality_loss: 0.2679 - wine_type_loss: 0.0189 - wine_quality_root_mean_squared_error: 0.5176 - wine_type_accuracy: 0.9962 - val_loss: 0.3499 - val_wine_quality_loss: 0.3223 - val_wine_type_loss: 0.0277 - val_wine_quality_root_mean_squared_error: 0.5677 - val_wine_type_accuracy: 0.9949\n",
      "Epoch 137/180\n",
      "99/99 [==============================] - 0s 3ms/step - loss: 0.2859 - wine_quality_loss: 0.2671 - wine_type_loss: 0.0189 - wine_quality_root_mean_squared_error: 0.5168 - wine_type_accuracy: 0.9962 - val_loss: 0.3405 - val_wine_quality_loss: 0.3128 - val_wine_type_loss: 0.0276 - val_wine_quality_root_mean_squared_error: 0.5593 - val_wine_type_accuracy: 0.9949\n",
      "Epoch 138/180\n",
      "99/99 [==============================] - 0s 3ms/step - loss: 0.2850 - wine_quality_loss: 0.2661 - wine_type_loss: 0.0188 - wine_quality_root_mean_squared_error: 0.5159 - wine_type_accuracy: 0.9962 - val_loss: 0.3468 - val_wine_quality_loss: 0.3191 - val_wine_type_loss: 0.0277 - val_wine_quality_root_mean_squared_error: 0.5649 - val_wine_type_accuracy: 0.9949\n",
      "Epoch 139/180\n",
      "99/99 [==============================] - 0s 4ms/step - loss: 0.2871 - wine_quality_loss: 0.2684 - wine_type_loss: 0.0187 - wine_quality_root_mean_squared_error: 0.5181 - wine_type_accuracy: 0.9962 - val_loss: 0.3404 - val_wine_quality_loss: 0.3129 - val_wine_type_loss: 0.0275 - val_wine_quality_root_mean_squared_error: 0.5594 - val_wine_type_accuracy: 0.9949\n",
      "Epoch 140/180\n",
      "99/99 [==============================] - 0s 3ms/step - loss: 0.2860 - wine_quality_loss: 0.2674 - wine_type_loss: 0.0187 - wine_quality_root_mean_squared_error: 0.5171 - wine_type_accuracy: 0.9962 - val_loss: 0.3403 - val_wine_quality_loss: 0.3127 - val_wine_type_loss: 0.0276 - val_wine_quality_root_mean_squared_error: 0.5592 - val_wine_type_accuracy: 0.9949\n",
      "Epoch 141/180\n",
      "99/99 [==============================] - 0s 3ms/step - loss: 0.2844 - wine_quality_loss: 0.2658 - wine_type_loss: 0.0186 - wine_quality_root_mean_squared_error: 0.5156 - wine_type_accuracy: 0.9962 - val_loss: 0.3526 - val_wine_quality_loss: 0.3252 - val_wine_type_loss: 0.0274 - val_wine_quality_root_mean_squared_error: 0.5703 - val_wine_type_accuracy: 0.9949\n",
      "Epoch 142/180\n",
      "99/99 [==============================] - 0s 3ms/step - loss: 0.2853 - wine_quality_loss: 0.2668 - wine_type_loss: 0.0185 - wine_quality_root_mean_squared_error: 0.5165 - wine_type_accuracy: 0.9962 - val_loss: 0.3473 - val_wine_quality_loss: 0.3197 - val_wine_type_loss: 0.0276 - val_wine_quality_root_mean_squared_error: 0.5655 - val_wine_type_accuracy: 0.9949\n",
      "Epoch 143/180\n",
      "99/99 [==============================] - 0s 3ms/step - loss: 0.2841 - wine_quality_loss: 0.2657 - wine_type_loss: 0.0184 - wine_quality_root_mean_squared_error: 0.5155 - wine_type_accuracy: 0.9962 - val_loss: 0.3452 - val_wine_quality_loss: 0.3176 - val_wine_type_loss: 0.0277 - val_wine_quality_root_mean_squared_error: 0.5635 - val_wine_type_accuracy: 0.9949\n",
      "Epoch 144/180\n",
      "99/99 [==============================] - 0s 3ms/step - loss: 0.2831 - wine_quality_loss: 0.2647 - wine_type_loss: 0.0184 - wine_quality_root_mean_squared_error: 0.5145 - wine_type_accuracy: 0.9962 - val_loss: 0.3406 - val_wine_quality_loss: 0.3130 - val_wine_type_loss: 0.0276 - val_wine_quality_root_mean_squared_error: 0.5594 - val_wine_type_accuracy: 0.9949\n",
      "Epoch 145/180\n",
      "99/99 [==============================] - 0s 3ms/step - loss: 0.2834 - wine_quality_loss: 0.2651 - wine_type_loss: 0.0183 - wine_quality_root_mean_squared_error: 0.5149 - wine_type_accuracy: 0.9962 - val_loss: 0.3427 - val_wine_quality_loss: 0.3150 - val_wine_type_loss: 0.0277 - val_wine_quality_root_mean_squared_error: 0.5613 - val_wine_type_accuracy: 0.9949\n",
      "Epoch 146/180\n",
      "99/99 [==============================] - 0s 3ms/step - loss: 0.2835 - wine_quality_loss: 0.2653 - wine_type_loss: 0.0182 - wine_quality_root_mean_squared_error: 0.5151 - wine_type_accuracy: 0.9962 - val_loss: 0.3460 - val_wine_quality_loss: 0.3182 - val_wine_type_loss: 0.0278 - val_wine_quality_root_mean_squared_error: 0.5641 - val_wine_type_accuracy: 0.9949\n",
      "Epoch 147/180\n",
      "99/99 [==============================] - 0s 3ms/step - loss: 0.2820 - wine_quality_loss: 0.2638 - wine_type_loss: 0.0181 - wine_quality_root_mean_squared_error: 0.5137 - wine_type_accuracy: 0.9962 - val_loss: 0.3469 - val_wine_quality_loss: 0.3193 - val_wine_type_loss: 0.0276 - val_wine_quality_root_mean_squared_error: 0.5650 - val_wine_type_accuracy: 0.9949\n",
      "Epoch 148/180\n",
      "99/99 [==============================] - 0s 3ms/step - loss: 0.2821 - wine_quality_loss: 0.2640 - wine_type_loss: 0.0181 - wine_quality_root_mean_squared_error: 0.5138 - wine_type_accuracy: 0.9962 - val_loss: 0.3477 - val_wine_quality_loss: 0.3201 - val_wine_type_loss: 0.0276 - val_wine_quality_root_mean_squared_error: 0.5658 - val_wine_type_accuracy: 0.9949\n",
      "Epoch 149/180\n",
      "99/99 [==============================] - 0s 3ms/step - loss: 0.2820 - wine_quality_loss: 0.2639 - wine_type_loss: 0.0180 - wine_quality_root_mean_squared_error: 0.5137 - wine_type_accuracy: 0.9962 - val_loss: 0.3495 - val_wine_quality_loss: 0.3219 - val_wine_type_loss: 0.0276 - val_wine_quality_root_mean_squared_error: 0.5674 - val_wine_type_accuracy: 0.9949\n",
      "Epoch 150/180\n",
      "99/99 [==============================] - 0s 3ms/step - loss: 0.2805 - wine_quality_loss: 0.2625 - wine_type_loss: 0.0180 - wine_quality_root_mean_squared_error: 0.5124 - wine_type_accuracy: 0.9962 - val_loss: 0.3478 - val_wine_quality_loss: 0.3202 - val_wine_type_loss: 0.0276 - val_wine_quality_root_mean_squared_error: 0.5659 - val_wine_type_accuracy: 0.9949\n",
      "Epoch 151/180\n",
      "99/99 [==============================] - 0s 4ms/step - loss: 0.2799 - wine_quality_loss: 0.2621 - wine_type_loss: 0.0179 - wine_quality_root_mean_squared_error: 0.5119 - wine_type_accuracy: 0.9962 - val_loss: 0.3558 - val_wine_quality_loss: 0.3283 - val_wine_type_loss: 0.0275 - val_wine_quality_root_mean_squared_error: 0.5730 - val_wine_type_accuracy: 0.9949\n",
      "Epoch 152/180\n",
      "99/99 [==============================] - 0s 3ms/step - loss: 0.2796 - wine_quality_loss: 0.2618 - wine_type_loss: 0.0178 - wine_quality_root_mean_squared_error: 0.5117 - wine_type_accuracy: 0.9962 - val_loss: 0.3446 - val_wine_quality_loss: 0.3169 - val_wine_type_loss: 0.0277 - val_wine_quality_root_mean_squared_error: 0.5630 - val_wine_type_accuracy: 0.9949\n",
      "Epoch 153/180\n",
      "99/99 [==============================] - 0s 3ms/step - loss: 0.2786 - wine_quality_loss: 0.2609 - wine_type_loss: 0.0177 - wine_quality_root_mean_squared_error: 0.5108 - wine_type_accuracy: 0.9962 - val_loss: 0.3442 - val_wine_quality_loss: 0.3167 - val_wine_type_loss: 0.0276 - val_wine_quality_root_mean_squared_error: 0.5627 - val_wine_type_accuracy: 0.9949\n",
      "Epoch 154/180\n",
      "99/99 [==============================] - 0s 3ms/step - loss: 0.2792 - wine_quality_loss: 0.2614 - wine_type_loss: 0.0178 - wine_quality_root_mean_squared_error: 0.5113 - wine_type_accuracy: 0.9962 - val_loss: 0.3470 - val_wine_quality_loss: 0.3195 - val_wine_type_loss: 0.0275 - val_wine_quality_root_mean_squared_error: 0.5652 - val_wine_type_accuracy: 0.9949\n",
      "Epoch 155/180\n",
      "99/99 [==============================] - 0s 3ms/step - loss: 0.2799 - wine_quality_loss: 0.2623 - wine_type_loss: 0.0176 - wine_quality_root_mean_squared_error: 0.5121 - wine_type_accuracy: 0.9962 - val_loss: 0.3401 - val_wine_quality_loss: 0.3127 - val_wine_type_loss: 0.0274 - val_wine_quality_root_mean_squared_error: 0.5592 - val_wine_type_accuracy: 0.9949\n",
      "Epoch 156/180\n",
      "99/99 [==============================] - 0s 4ms/step - loss: 0.2791 - wine_quality_loss: 0.2615 - wine_type_loss: 0.0176 - wine_quality_root_mean_squared_error: 0.5114 - wine_type_accuracy: 0.9962 - val_loss: 0.3427 - val_wine_quality_loss: 0.3152 - val_wine_type_loss: 0.0275 - val_wine_quality_root_mean_squared_error: 0.5615 - val_wine_type_accuracy: 0.9949\n",
      "Epoch 157/180\n",
      "99/99 [==============================] - 0s 3ms/step - loss: 0.2787 - wine_quality_loss: 0.2611 - wine_type_loss: 0.0175 - wine_quality_root_mean_squared_error: 0.5110 - wine_type_accuracy: 0.9962 - val_loss: 0.3422 - val_wine_quality_loss: 0.3147 - val_wine_type_loss: 0.0275 - val_wine_quality_root_mean_squared_error: 0.5610 - val_wine_type_accuracy: 0.9949\n",
      "Epoch 158/180\n",
      "99/99 [==============================] - 0s 3ms/step - loss: 0.2791 - wine_quality_loss: 0.2616 - wine_type_loss: 0.0175 - wine_quality_root_mean_squared_error: 0.5115 - wine_type_accuracy: 0.9962 - val_loss: 0.3483 - val_wine_quality_loss: 0.3208 - val_wine_type_loss: 0.0275 - val_wine_quality_root_mean_squared_error: 0.5664 - val_wine_type_accuracy: 0.9949\n",
      "Epoch 159/180\n",
      "99/99 [==============================] - 0s 3ms/step - loss: 0.2776 - wine_quality_loss: 0.2602 - wine_type_loss: 0.0174 - wine_quality_root_mean_squared_error: 0.5101 - wine_type_accuracy: 0.9962 - val_loss: 0.3474 - val_wine_quality_loss: 0.3199 - val_wine_type_loss: 0.0275 - val_wine_quality_root_mean_squared_error: 0.5656 - val_wine_type_accuracy: 0.9949\n",
      "Epoch 160/180\n",
      "99/99 [==============================] - 0s 3ms/step - loss: 0.2779 - wine_quality_loss: 0.2606 - wine_type_loss: 0.0174 - wine_quality_root_mean_squared_error: 0.5105 - wine_type_accuracy: 0.9962 - val_loss: 0.3439 - val_wine_quality_loss: 0.3165 - val_wine_type_loss: 0.0274 - val_wine_quality_root_mean_squared_error: 0.5626 - val_wine_type_accuracy: 0.9949\n",
      "Epoch 161/180\n",
      "99/99 [==============================] - 0s 3ms/step - loss: 0.2764 - wine_quality_loss: 0.2591 - wine_type_loss: 0.0173 - wine_quality_root_mean_squared_error: 0.5091 - wine_type_accuracy: 0.9962 - val_loss: 0.3426 - val_wine_quality_loss: 0.3153 - val_wine_type_loss: 0.0273 - val_wine_quality_root_mean_squared_error: 0.5615 - val_wine_type_accuracy: 0.9949\n",
      "Epoch 162/180\n",
      "99/99 [==============================] - 0s 3ms/step - loss: 0.2768 - wine_quality_loss: 0.2595 - wine_type_loss: 0.0173 - wine_quality_root_mean_squared_error: 0.5094 - wine_type_accuracy: 0.9962 - val_loss: 0.3436 - val_wine_quality_loss: 0.3162 - val_wine_type_loss: 0.0274 - val_wine_quality_root_mean_squared_error: 0.5623 - val_wine_type_accuracy: 0.9949\n",
      "Epoch 163/180\n",
      "99/99 [==============================] - 0s 3ms/step - loss: 0.2763 - wine_quality_loss: 0.2591 - wine_type_loss: 0.0171 - wine_quality_root_mean_squared_error: 0.5091 - wine_type_accuracy: 0.9962 - val_loss: 0.3466 - val_wine_quality_loss: 0.3193 - val_wine_type_loss: 0.0273 - val_wine_quality_root_mean_squared_error: 0.5651 - val_wine_type_accuracy: 0.9949\n",
      "Epoch 164/180\n",
      "99/99 [==============================] - 0s 3ms/step - loss: 0.2764 - wine_quality_loss: 0.2593 - wine_type_loss: 0.0171 - wine_quality_root_mean_squared_error: 0.5092 - wine_type_accuracy: 0.9965 - val_loss: 0.3426 - val_wine_quality_loss: 0.3152 - val_wine_type_loss: 0.0273 - val_wine_quality_root_mean_squared_error: 0.5615 - val_wine_type_accuracy: 0.9949\n",
      "Epoch 165/180\n",
      "99/99 [==============================] - 0s 3ms/step - loss: 0.2744 - wine_quality_loss: 0.2574 - wine_type_loss: 0.0170 - wine_quality_root_mean_squared_error: 0.5074 - wine_type_accuracy: 0.9962 - val_loss: 0.3424 - val_wine_quality_loss: 0.3151 - val_wine_type_loss: 0.0273 - val_wine_quality_root_mean_squared_error: 0.5613 - val_wine_type_accuracy: 0.9949\n",
      "Epoch 166/180\n",
      "99/99 [==============================] - 0s 3ms/step - loss: 0.2753 - wine_quality_loss: 0.2583 - wine_type_loss: 0.0169 - wine_quality_root_mean_squared_error: 0.5083 - wine_type_accuracy: 0.9962 - val_loss: 0.3456 - val_wine_quality_loss: 0.3183 - val_wine_type_loss: 0.0273 - val_wine_quality_root_mean_squared_error: 0.5641 - val_wine_type_accuracy: 0.9949\n",
      "Epoch 167/180\n",
      "99/99 [==============================] - 0s 3ms/step - loss: 0.2747 - wine_quality_loss: 0.2578 - wine_type_loss: 0.0169 - wine_quality_root_mean_squared_error: 0.5077 - wine_type_accuracy: 0.9962 - val_loss: 0.3551 - val_wine_quality_loss: 0.3278 - val_wine_type_loss: 0.0274 - val_wine_quality_root_mean_squared_error: 0.5725 - val_wine_type_accuracy: 0.9949\n",
      "Epoch 168/180\n",
      "99/99 [==============================] - 0s 3ms/step - loss: 0.2747 - wine_quality_loss: 0.2579 - wine_type_loss: 0.0169 - wine_quality_root_mean_squared_error: 0.5078 - wine_type_accuracy: 0.9962 - val_loss: 0.3503 - val_wine_quality_loss: 0.3229 - val_wine_type_loss: 0.0273 - val_wine_quality_root_mean_squared_error: 0.5683 - val_wine_type_accuracy: 0.9949\n",
      "Epoch 169/180\n",
      "99/99 [==============================] - 0s 3ms/step - loss: 0.2729 - wine_quality_loss: 0.2561 - wine_type_loss: 0.0168 - wine_quality_root_mean_squared_error: 0.5060 - wine_type_accuracy: 0.9962 - val_loss: 0.3452 - val_wine_quality_loss: 0.3179 - val_wine_type_loss: 0.0273 - val_wine_quality_root_mean_squared_error: 0.5639 - val_wine_type_accuracy: 0.9949\n",
      "Epoch 170/180\n",
      "99/99 [==============================] - 0s 3ms/step - loss: 0.2731 - wine_quality_loss: 0.2563 - wine_type_loss: 0.0167 - wine_quality_root_mean_squared_error: 0.5063 - wine_type_accuracy: 0.9965 - val_loss: 0.3461 - val_wine_quality_loss: 0.3188 - val_wine_type_loss: 0.0273 - val_wine_quality_root_mean_squared_error: 0.5646 - val_wine_type_accuracy: 0.9949\n",
      "Epoch 171/180\n",
      "99/99 [==============================] - 0s 3ms/step - loss: 0.2726 - wine_quality_loss: 0.2559 - wine_type_loss: 0.0167 - wine_quality_root_mean_squared_error: 0.5059 - wine_type_accuracy: 0.9962 - val_loss: 0.3527 - val_wine_quality_loss: 0.3253 - val_wine_type_loss: 0.0274 - val_wine_quality_root_mean_squared_error: 0.5703 - val_wine_type_accuracy: 0.9949\n",
      "Epoch 172/180\n",
      "99/99 [==============================] - 0s 3ms/step - loss: 0.2730 - wine_quality_loss: 0.2563 - wine_type_loss: 0.0166 - wine_quality_root_mean_squared_error: 0.5063 - wine_type_accuracy: 0.9962 - val_loss: 0.3473 - val_wine_quality_loss: 0.3200 - val_wine_type_loss: 0.0273 - val_wine_quality_root_mean_squared_error: 0.5656 - val_wine_type_accuracy: 0.9949\n",
      "Epoch 173/180\n",
      "99/99 [==============================] - 0s 3ms/step - loss: 0.2727 - wine_quality_loss: 0.2562 - wine_type_loss: 0.0165 - wine_quality_root_mean_squared_error: 0.5061 - wine_type_accuracy: 0.9962 - val_loss: 0.3459 - val_wine_quality_loss: 0.3185 - val_wine_type_loss: 0.0273 - val_wine_quality_root_mean_squared_error: 0.5644 - val_wine_type_accuracy: 0.9949\n",
      "Epoch 174/180\n",
      "99/99 [==============================] - 0s 4ms/step - loss: 0.2714 - wine_quality_loss: 0.2549 - wine_type_loss: 0.0165 - wine_quality_root_mean_squared_error: 0.5048 - wine_type_accuracy: 0.9962 - val_loss: 0.3430 - val_wine_quality_loss: 0.3156 - val_wine_type_loss: 0.0274 - val_wine_quality_root_mean_squared_error: 0.5618 - val_wine_type_accuracy: 0.9949\n",
      "Epoch 175/180\n",
      "99/99 [==============================] - 0s 3ms/step - loss: 0.2701 - wine_quality_loss: 0.2537 - wine_type_loss: 0.0165 - wine_quality_root_mean_squared_error: 0.5037 - wine_type_accuracy: 0.9965 - val_loss: 0.3385 - val_wine_quality_loss: 0.3111 - val_wine_type_loss: 0.0274 - val_wine_quality_root_mean_squared_error: 0.5578 - val_wine_type_accuracy: 0.9949\n",
      "Epoch 176/180\n",
      "99/99 [==============================] - 0s 3ms/step - loss: 0.2705 - wine_quality_loss: 0.2541 - wine_type_loss: 0.0164 - wine_quality_root_mean_squared_error: 0.5041 - wine_type_accuracy: 0.9965 - val_loss: 0.3549 - val_wine_quality_loss: 0.3275 - val_wine_type_loss: 0.0274 - val_wine_quality_root_mean_squared_error: 0.5723 - val_wine_type_accuracy: 0.9949\n",
      "Epoch 177/180\n",
      "99/99 [==============================] - 0s 3ms/step - loss: 0.2706 - wine_quality_loss: 0.2543 - wine_type_loss: 0.0163 - wine_quality_root_mean_squared_error: 0.5043 - wine_type_accuracy: 0.9965 - val_loss: 0.3432 - val_wine_quality_loss: 0.3159 - val_wine_type_loss: 0.0273 - val_wine_quality_root_mean_squared_error: 0.5620 - val_wine_type_accuracy: 0.9949\n",
      "Epoch 178/180\n",
      "99/99 [==============================] - 0s 3ms/step - loss: 0.2711 - wine_quality_loss: 0.2548 - wine_type_loss: 0.0163 - wine_quality_root_mean_squared_error: 0.5048 - wine_type_accuracy: 0.9965 - val_loss: 0.3451 - val_wine_quality_loss: 0.3178 - val_wine_type_loss: 0.0273 - val_wine_quality_root_mean_squared_error: 0.5638 - val_wine_type_accuracy: 0.9949\n",
      "Epoch 179/180\n",
      "99/99 [==============================] - 0s 3ms/step - loss: 0.2703 - wine_quality_loss: 0.2541 - wine_type_loss: 0.0162 - wine_quality_root_mean_squared_error: 0.5041 - wine_type_accuracy: 0.9962 - val_loss: 0.3441 - val_wine_quality_loss: 0.3168 - val_wine_type_loss: 0.0273 - val_wine_quality_root_mean_squared_error: 0.5629 - val_wine_type_accuracy: 0.9949\n",
      "Epoch 180/180\n",
      "99/99 [==============================] - 0s 3ms/step - loss: 0.2703 - wine_quality_loss: 0.2542 - wine_type_loss: 0.0161 - wine_quality_root_mean_squared_error: 0.5042 - wine_type_accuracy: 0.9965 - val_loss: 0.3428 - val_wine_quality_loss: 0.3155 - val_wine_type_loss: 0.0273 - val_wine_quality_root_mean_squared_error: 0.5617 - val_wine_type_accuracy: 0.9949\n"
     ]
    }
   ],
   "source": [
    "## Please uncomment all lines in this cell and replace those marked with `# YOUR CODE HERE`.\n",
    "## You can select all lines in this code cell with Ctrl+A (Windows/Linux) or Cmd+A (Mac), then press Ctrl+/ (Windows/Linux) or Cmd+/ (Mac) to uncomment.\n",
    "\n",
    "\n",
    "\n",
    "history = model.fit(norm_train_X, train_Y,\n",
    "                    epochs = 180, validation_data=(norm_val_X, val_Y))"
   ]
  },
  {
   "cell_type": "code",
   "execution_count": 25,
   "metadata": {
    "colab": {},
    "colab_type": "code",
    "id": "CubF2J2gSf6q"
   },
   "outputs": [
    {
     "name": "stdout",
     "output_type": "stream",
     "text": [
      "25/25 [==============================] - 0s 3ms/step - loss: 0.3428 - wine_quality_loss: 0.3155 - wine_type_loss: 0.0273 - wine_quality_root_mean_squared_error: 0.5617 - wine_type_accuracy: 0.9949\n",
      "\n",
      "loss: 0.34281885623931885\n",
      "wine_quality_loss: 0.31548643112182617\n",
      "wine_type_loss: 0.0273323692381382\n",
      "wine_quality_rmse: 0.5616818070411682\n",
      "wine_type_accuracy: 0.9949302673339844\n"
     ]
    }
   ],
   "source": [
    "# Gather the training metrics\n",
    "loss, wine_quality_loss, wine_type_loss, wine_quality_rmse, wine_type_accuracy = model.evaluate(x=norm_val_X, y=val_Y)\n",
    "\n",
    "print()\n",
    "print(f'loss: {loss}')\n",
    "print(f'wine_quality_loss: {wine_quality_loss}')\n",
    "print(f'wine_type_loss: {wine_type_loss}')\n",
    "print(f'wine_quality_rmse: {wine_quality_rmse}')\n",
    "print(f'wine_type_accuracy: {wine_type_accuracy}')\n",
    "\n",
    "# EXPECTED VALUES\n",
    "# ~ 0.30 - 0.38\n",
    "# ~ 0.30 - 0.38\n",
    "# ~ 0.018 - 0.030\n",
    "# ~ 0.50 - 0.62\n",
    "# ~ 0.97 - 1.0\n",
    "\n",
    "# Example:\n",
    "#0.3657050132751465\n",
    "#0.3463745415210724\n",
    "#0.019330406561493874\n",
    "#0.5885359048843384\n",
    "#0.9974651336669922"
   ]
  },
  {
   "cell_type": "markdown",
   "metadata": {
    "colab_type": "text",
    "id": "gPtTGAP4usnm"
   },
   "source": [
    "## Analyze the Model Performance\n",
    "\n",
    "Note that the model has two outputs. The output at index 0 is quality and index 1 is wine type\n",
    "\n",
    "So, round the quality predictions to the nearest integer."
   ]
  },
  {
   "cell_type": "code",
   "execution_count": 26,
   "metadata": {
    "colab": {},
    "colab_type": "code",
    "id": "tBq9PEeAaW-Y"
   },
   "outputs": [
    {
     "name": "stdout",
     "output_type": "stream",
     "text": [
      "31/31 [==============================] - 0s 2ms/step\n"
     ]
    }
   ],
   "source": [
    "predictions = model.predict(norm_test_X)\n",
    "quality_pred = predictions[0]\n",
    "type_pred = predictions[1]"
   ]
  },
  {
   "cell_type": "code",
   "execution_count": 27,
   "metadata": {
    "colab": {},
    "colab_type": "code",
    "id": "YLhgTR4xTIxj"
   },
   "outputs": [
    {
     "name": "stdout",
     "output_type": "stream",
     "text": [
      "[5.6600766]\n"
     ]
    }
   ],
   "source": [
    "print(quality_pred[0])\n",
    "\n",
    "# EXPECTED OUTPUT\n",
    "# 5.6 - 6.0"
   ]
  },
  {
   "cell_type": "code",
   "execution_count": 28,
   "metadata": {
    "colab": {},
    "colab_type": "code",
    "id": "MPi-eYfGTUXi"
   },
   "outputs": [
    {
     "name": "stdout",
     "output_type": "stream",
     "text": [
      "[0.00051667]\n",
      "[0.9999977]\n"
     ]
    }
   ],
   "source": [
    "print(type_pred[0])\n",
    "print(type_pred[944])\n",
    "\n",
    "# EXPECTED OUTPUT\n",
    "# A number close to zero\n",
    "# A number close to or equal to 1"
   ]
  },
  {
   "cell_type": "markdown",
   "metadata": {
    "colab_type": "text",
    "id": "Kohk-9C6vt_s"
   },
   "source": [
    "### Plot Utilities\n",
    "\n",
    "We define a few utilities to visualize the model performance."
   ]
  },
  {
   "cell_type": "code",
   "execution_count": 29,
   "metadata": {
    "colab": {},
    "colab_type": "code",
    "id": "62gEOFUhn6aQ"
   },
   "outputs": [],
   "source": [
    "def plot_metrics(metric_name, title, ylim=5):\n",
    "    plt.title(title)\n",
    "    plt.ylim(0,ylim)\n",
    "    plt.plot(history.history[metric_name],color='blue',label=metric_name)\n",
    "    plt.plot(history.history['val_' + metric_name],color='green',label='val_' + metric_name)\n"
   ]
  },
  {
   "cell_type": "code",
   "execution_count": 30,
   "metadata": {
    "colab": {},
    "colab_type": "code",
    "id": "6rfgSx7uz5dj"
   },
   "outputs": [],
   "source": [
    "def plot_confusion_matrix(y_true, y_pred, title='', labels=[0,1]):\n",
    "    cm = confusion_matrix(y_true, y_pred)\n",
    "    fig = plt.figure()\n",
    "    ax = fig.add_subplot(111)\n",
    "    cax = ax.matshow(cm)\n",
    "    plt.title('Confusion matrix of the classifier')\n",
    "    fig.colorbar(cax)\n",
    "    ax.set_xticklabels([''] + labels)\n",
    "    ax.set_yticklabels([''] + labels)\n",
    "    plt.xlabel('Predicted')\n",
    "    plt.ylabel('True')\n",
    "    fmt = 'd'\n",
    "    thresh = cm.max() / 2.\n",
    "    for i, j in itertools.product(range(cm.shape[0]), range(cm.shape[1])):\n",
    "          plt.text(j, i, format(cm[i, j], fmt),\n",
    "                  horizontalalignment=\"center\",\n",
    "                  color=\"black\" if cm[i, j] > thresh else \"white\")\n",
    "    plt.show()"
   ]
  },
  {
   "cell_type": "code",
   "execution_count": 31,
   "metadata": {
    "colab": {},
    "colab_type": "code",
    "id": "dfVLIqi017Vf"
   },
   "outputs": [],
   "source": [
    "def plot_diff(y_true, y_pred, title = '' ):\n",
    "    plt.scatter(y_true, y_pred)\n",
    "    plt.title(title)\n",
    "    plt.xlabel('True Values')\n",
    "    plt.ylabel('Predictions')\n",
    "    plt.axis('equal')\n",
    "    plt.axis('square')\n",
    "    plt.plot([-100, 100], [-100, 100])\n",
    "    return plt"
   ]
  },
  {
   "cell_type": "markdown",
   "metadata": {
    "colab_type": "text",
    "id": "8sd1jdFbwE0I"
   },
   "source": [
    "### Plots for Metrics"
   ]
  },
  {
   "cell_type": "code",
   "execution_count": 32,
   "metadata": {
    "colab": {},
    "colab_type": "code",
    "id": "f3MwZ5J1pOfj"
   },
   "outputs": [
    {
     "data": {
      "image/png": "[encoded data removed]",
      "text/plain": [
       "<Figure size 432x288 with 1 Axes>"
      ]
     },
     "metadata": {
      "needs_background": "light"
     },
     "output_type": "display_data"
    }
   ],
   "source": [
    "plot_metrics('wine_quality_root_mean_squared_error', 'RMSE', ylim=2)"
   ]
  },
  {
   "cell_type": "code",
   "execution_count": 33,
   "metadata": {
    "colab": {},
    "colab_type": "code",
    "id": "QIAxEezCppnd"
   },
   "outputs": [
    {
     "data": {
      "image/png": "[encoded data removed]",
      "text/plain": [
       "<Figure size 432x288 with 1 Axes>"
      ]
     },
     "metadata": {
      "needs_background": "light"
     },
     "output_type": "display_data"
    }
   ],
   "source": [
    "plot_metrics('wine_type_loss', 'Wine Type Loss', ylim=0.2)"
   ]
  },
  {
   "cell_type": "markdown",
   "metadata": {
    "colab_type": "text",
    "id": "uYV9AOAMwI9p"
   },
   "source": [
    "### Plots for Confusion Matrix\n",
    "\n",
    "Plot the confusion matrices for wine type. You can see that the model performs well for prediction of wine type from the confusion matrix and the loss metrics."
   ]
  },
  {
   "cell_type": "code",
   "execution_count": 34,
   "metadata": {
    "colab": {},
    "colab_type": "code",
    "id": "C3hvTYxIaf3n"
   },
   "outputs": [
    {
     "name": "stderr",
     "output_type": "stream",
     "text": [
      "C:\\Users\\mohdf\\AppData\\Local\\Temp\\ipykernel_7932\\1339240941.py:8: UserWarning: FixedFormatter should only be used together with FixedLocator\n",
      "  ax.set_xticklabels([''] + labels)\n",
      "C:\\Users\\mohdf\\AppData\\Local\\Temp\\ipykernel_7932\\1339240941.py:9: UserWarning: FixedFormatter should only be used together with FixedLocator\n",
      "  ax.set_yticklabels([''] + labels)\n"
     ]
    },
    {
     "data": {
      "image/png": "[encoded data removed]",
      "text/plain": [
       "<Figure size 432x288 with 2 Axes>"
      ]
     },
     "metadata": {
      "needs_background": "light"
     },
     "output_type": "display_data"
    }
   ],
   "source": [
    "plot_confusion_matrix(test_Y[1], np.round(type_pred), title='Wine Type', labels = [0, 1])"
   ]
  },
  {
   "cell_type": "code",
   "execution_count": 35,
   "metadata": {
    "colab": {},
    "colab_type": "code",
    "id": "GW91ym8P2I5y"
   },
   "outputs": [
    {
     "data": {
      "image/png": "[encoded data removed]",
      "text/plain": [
       "<Figure size 432x288 with 1 Axes>"
      ]
     },
     "metadata": {
      "needs_background": "light"
     },
     "output_type": "display_data"
    }
   ],
   "source": [
    "scatter_plot = plot_diff(test_Y[0], quality_pred, title='Type')"
   ]
  },
  {
   "cell_type": "code",
   "execution_count": null,
   "metadata": {},
   "outputs": [],
   "source": []
  }
 ],
 "metadata": {
  "colab": {
   "include_colab_link": true,
   "name": "exercise-answer.ipynb",
   "provenance": []
  },
  "kernelspec": {
   "display_name": "Python 3 (ipykernel)",
   "language": "python",
   "name": "python3"
  },
  "language_info": {
   "codemirror_mode": {
    "name": "ipython",
    "version": 3
   },
   "file_extension": ".py",
   "mimetype": "text/x-python",
   "name": "python",
   "nbconvert_exporter": "python",
   "pygments_lexer": "ipython3",
   "version": "3.10.5"
  }
 },
 "nbformat": 4,
 "nbformat_minor": 4
}
