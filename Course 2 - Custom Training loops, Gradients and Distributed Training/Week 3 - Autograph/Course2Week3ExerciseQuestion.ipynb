{
  "nbformat": 4,
  "nbformat_minor": 0,
  "metadata": {
    "colab": {
      "name": "Module 3 - AutoGraph Exercise (Question).ipynb",
      "provenance": [],
      "private_outputs": true,
      "collapsed_sections": [],
      "toc_visible": true
    },
    "kernelspec": {
      "name": "python3",
      "display_name": "Python 3"
    },
    "accelerator": "GPU"
  },
  "cells": [
    {
      "cell_type": "markdown",
      "metadata": {
        "colab_type": "text",
        "id": "n4EKOpw9mObL"
      },
      "source": [
        "## Setup\n",
        "\n",
        "Import TensorFlow 2.0:"
      ]
    },
    {
      "cell_type": "code",
      "metadata": {
        "colab_type": "code",
        "id": "V9oECvVSI1Kj",
        "colab": {}
      },
      "source": [
        "from __future__ import absolute_import, division, print_function, unicode_literals\n",
        "import numpy as np"
      ],
      "execution_count": null,
      "outputs": []
    },
    {
      "cell_type": "code",
      "metadata": {
        "colab_type": "code",
        "id": "mT7meGqrZTz9",
        "colab": {}
      },
      "source": [
        "try:\n",
        "  # %tensorflow_version only exists in Colab.\n",
        "  %tensorflow_version 2.x\n",
        "except Exception:\n",
        "  pass\n",
        "import tensorflow as tf\n",
        "import tensorflow_datasets as tfds\n",
        "import tensorflow_hub as hub\n",
        "import matplotlib.pyplot as plt"
      ],
      "execution_count": null,
      "outputs": []
    },
    {
      "cell_type": "markdown",
      "metadata": {
        "colab_type": "text",
        "id": "NfpIQUv28Ht4"
      },
      "source": [
        "## Exercise on in-graph training loop\n",
        "\n",
        "This exercise teaches how to train a Keras model on horses or humans dataset with the entire training process—loading batches, calculating gradients, updating parameters, calculating validation accuracy, and repeating until convergence—is performed in-graph."
      ]
    },
    {
      "cell_type": "markdown",
      "metadata": {
        "colab_type": "text",
        "id": "Em5dzSUOtLRP"
      },
      "source": [
        "### Prepare the dataset"
      ]
    },
    {
      "cell_type": "code",
      "metadata": {
        "colab_type": "code",
        "id": "xqoxumv0ssQW",
        "colab": {}
      },
      "source": [
        "splits = tfds.Split.ALL.subsplit(weighted=(80, 10, 10))\n",
        "splits, info = tfds.load('horses_or_humans', as_supervised=True, with_info=True, split=splits)\n",
        "\n",
        "(train_examples, validation_examples, test_examples) = splits\n",
        "\n",
        "num_examples = info.splits['train'].num_examples\n",
        "num_classes = info.features['label'].num_classes"
      ],
      "execution_count": null,
      "outputs": []
    },
    {
      "cell_type": "code",
      "metadata": {
        "id": "cJdruxxGhBi5",
        "colab_type": "code",
        "colab": {}
      },
      "source": [
        "IMAGE_SIZE = 224\n",
        "BATCH_SIZE = 32"
      ],
      "execution_count": null,
      "outputs": []
    },
    {
      "cell_type": "code",
      "metadata": {
        "id": "qpQi4Jo9cFq0",
        "colab_type": "code",
        "colab": {}
      },
      "source": [
        "# Create a autograph pre-processing function to resize and normalize image\n",
        "# YOUR CODE HERE\n",
        "def map_fn(img, label):\n",
        "  img = # YOUR CODE HERE\n",
        "  return img, label"
      ],
      "execution_count": null,
      "outputs": []
    },
    {
      "cell_type": "code",
      "metadata": {
        "id": "sv5bEYhaeUUO",
        "colab_type": "code",
        "colab": {}
      },
      "source": [
        "AUTOTUNE = tf.data.experimental.AUTOTUNE\n",
        "# Prepare train dataset by using preprocessing with map_fn, shuffling and batching\n",
        "train_ds = # YOUR CODE HERE\n",
        "valid_ds = validation_examples.map(map_fn).batch(BATCH_SIZE)\n",
        "test_ds = test_examples.map(map_fn).batch(BATCH_SIZE)"
      ],
      "execution_count": null,
      "outputs": []
    },
    {
      "cell_type": "markdown",
      "metadata": {
        "colab_type": "text",
        "id": "znmy4l8ntMvW"
      },
      "source": [
        "### Define the model"
      ]
    },
    {
      "cell_type": "code",
      "metadata": {
        "colab_type": "code",
        "id": "ltxyJVWTqNAO",
        "colab": {}
      },
      "source": [
        "MODULE_HANDLE = 'https://tfhub.dev/tensorflow/resnet_50/feature_vector/1'\n",
        "model = tf.keras.Sequential([\n",
        "    hub.KerasLayer(MODULE_HANDLE, input_shape=(IMAGE_SIZE, IMAGE_SIZE, 3)),\n",
        "    tf.keras.layers.Dense(num_classes, activation='softmax')\n",
        "])\n",
        "model.summary()"
      ],
      "execution_count": null,
      "outputs": []
    },
    {
      "cell_type": "markdown",
      "metadata": {
        "id": "Ikb79EzkjpPk",
        "colab_type": "text"
      },
      "source": [
        "## Deine optimizer, loss and metrics"
      ]
    },
    {
      "cell_type": "code",
      "metadata": {
        "id": "j92oDYGCjnBh",
        "colab_type": "code",
        "colab": {}
      },
      "source": [
        "# Define the adam optimizer\n",
        "optimizer = # YOUR CODE HERE\n",
        "\n",
        "# Define object oriented metric of Sparse categorical crossentropy for train and val loss\n",
        "train_loss = # YOUR CODE HERE\n",
        "val_loss = # YOUR CODE HERE\n",
        "\n",
        "# Define object oriented metric of Sparse categorical accuracy for train and val accuracy\n",
        "train_accuracy = # YOUR CODE HERE\n",
        "val_accuracy = # YOUR CODE HERE"
      ],
      "execution_count": null,
      "outputs": []
    },
    {
      "cell_type": "markdown",
      "metadata": {
        "colab_type": "text",
        "id": "oeYV6mKnJGMr"
      },
      "source": [
        "### Define the training loop"
      ]
    },
    {
      "cell_type": "code",
      "metadata": {
        "id": "rnGS06sDuaIy",
        "colab_type": "code",
        "colab": {}
      },
      "source": [
        "device = '/gpu:0' if tf.test.is_gpu_available() else '/cpu:0'"
      ],
      "execution_count": null,
      "outputs": []
    },
    {
      "cell_type": "code",
      "metadata": {
        "id": "5JRbx72axEoM",
        "colab_type": "code",
        "colab": {}
      },
      "source": [
        "EPOCHS = 2"
      ],
      "execution_count": null,
      "outputs": []
    },
    {
      "cell_type": "code",
      "metadata": {
        "colab_type": "code",
        "id": "3xtg_MMhJETd",
        "colab": {}
      },
      "source": [
        "# Custom training step\n",
        "def train_one_step(model, optimizer, x, y):\n",
        "  with tf.GradientTape() as tape:\n",
        "    # Run the model on input x to get predictions\n",
        "    predictions = # YOUR CODE HERE\n",
        "    # Compute the training loss using `train_loss` \n",
        "    loss = # YOUR CODE HERE\n",
        "\n",
        "  # Using the tape and loss, compute the gradients on model variables\n",
        "  grads = # YOUR CODE HERE\n",
        "  # Zip the gradients and model variables, and then apply the result on the optimizer\n",
        "  optimizer.apply_gradients(# YOUR CODE HERE)\n",
        "\n",
        "  # Call the train accuracy object on ground truth and predictions\n",
        "  # YOUR CODE HERE\n",
        "  return loss\n",
        "\n",
        "# Decorate this function with tf.function to enable autograph on the training loop\n",
        "# YOUR CODE HERE\n",
        "def train(model, optimizer):\n",
        "  step = 0\n",
        "  loss = 0.0\n",
        "  for epoch in range(EPOCHS):\n",
        "    for x, y in train_ds:\n",
        "      step += 1\n",
        "      with tf.device(device_name=device):\n",
        "        # Run one training step by passing appropriate model parameters\n",
        "        # required by the function and finally get the loss to report the results\n",
        "        loss = # YOUR CODE HERE\n",
        "      # Rely on reliable debugging functions like tf.print to report your results.\n",
        "      # Print the training step number, loss and accuracy\n",
        "      # YOUR CODE HERE\n",
        "\n",
        "    with tf.device(device_name=device):\n",
        "      for x, y in valid_ds:\n",
        "        # Call the model on the batches of inputs x and get the predictions\n",
        "        y_pred = # YOUR CODE HERE\n",
        "        loss = val_loss(y, y_pred)\n",
        "        val_accuracy(y, y_pred)\n",
        "\n",
        "    # Print the validation loss and accuracy\n",
        "    # YOUR CODE HERE"
      ],
      "execution_count": null,
      "outputs": []
    },
    {
      "cell_type": "code",
      "metadata": {
        "id": "6iDWgg977wb9",
        "colab_type": "code",
        "colab": {}
      },
      "source": [
        "# Perform training on your model using custom training loop\n",
        "# Call train method passing the model and optimizer\n",
        "# YOUR CODE HERE"
      ],
      "execution_count": null,
      "outputs": []
    },
    {
      "cell_type": "markdown",
      "metadata": {
        "id": "N8m3iJgx7SV1",
        "colab_type": "text"
      },
      "source": [
        "# Evaluation"
      ]
    },
    {
      "cell_type": "code",
      "metadata": {
        "id": "HwFx4Nbh25p5",
        "colab_type": "code",
        "colab": {}
      },
      "source": [
        "test_imgs = []\n",
        "test_labels = []\n",
        "\n",
        "predictions = []\n",
        "with tf.device(device_name=device):\n",
        "  for images, labels in test_ds:\n",
        "    preds = model(images)\n",
        "    preds = preds.numpy()\n",
        "    predictions.extend(preds)\n",
        "    \n",
        "    test_imgs.extend(images.numpy())\n",
        "    test_labels.extend(labels.numpy())"
      ],
      "execution_count": null,
      "outputs": []
    },
    {
      "cell_type": "code",
      "metadata": {
        "id": "IiutdErSpRH_",
        "colab_type": "code",
        "cellView": "form",
        "colab": {}
      },
      "source": [
        "#@title Utility functions for plotting\n",
        "# Utilities for plotting\n",
        "\n",
        "class_names = ['horse', 'human']\n",
        "\n",
        "def plot_image(i, predictions_array, true_label, img):\n",
        "  predictions_array, true_label, img = predictions_array[i], true_label[i], img[i]\n",
        "  plt.grid(False)\n",
        "  plt.xticks([])\n",
        "  plt.yticks([])\n",
        "    \n",
        "  img = np.squeeze(img)\n",
        "\n",
        "  plt.imshow(img, cmap=plt.cm.binary)\n",
        "\n",
        "  predicted_label = np.argmax(predictions_array)\n",
        "  if predicted_label == true_label:\n",
        "    color = 'green'\n",
        "  else:\n",
        "    color = 'red'\n",
        "  print(true_label)\n",
        "  \n",
        "  plt.xlabel(\"{} {:2.0f}% ({})\".format(class_names[predicted_label],\n",
        "                                100*np.max(predictions_array),\n",
        "                                class_names[true_label]),\n",
        "                                color=color)\n",
        "\n"
      ],
      "execution_count": null,
      "outputs": []
    },
    {
      "cell_type": "code",
      "metadata": {
        "id": "aVknjW4A11uz",
        "colab_type": "code",
        "cellView": "form",
        "colab": {}
      },
      "source": [
        "#@title Visualize the outputs { run: \"auto\" }\n",
        "index = 8 #@param {type:\"slider\", min:0, max:9, step:1}\n",
        "plt.figure(figsize=(6,3))\n",
        "plt.subplot(1,2,1)\n",
        "plot_image(index, predictions, test_labels, test_imgs)\n",
        "plt.show()"
      ],
      "execution_count": null,
      "outputs": []
    },
    {
      "cell_type": "code",
      "metadata": {
        "id": "OwgLd5Pm3Zms",
        "colab_type": "code",
        "colab": {}
      },
      "source": [
        ""
      ],
      "execution_count": null,
      "outputs": []
    }
  ]
}