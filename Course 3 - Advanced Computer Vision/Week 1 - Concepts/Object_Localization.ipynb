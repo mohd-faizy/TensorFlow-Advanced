{
  "nbformat": 4,
  "nbformat_minor": 0,
  "metadata": {
    "accelerator": "TPU",
    "colab": {
      "name": "Object Localization.ipynb",
      "provenance": [],
      "collapsed_sections": []
    },
    "kernelspec": {
      "display_name": "Python 3",
      "name": "python3"
    },
    "language_info": {
      "codemirror_mode": {
        "name": "ipython",
        "version": 3
      },
      "file_extension": ".py",
      "mimetype": "text/x-python",
      "name": "python",
      "nbconvert_exporter": "python",
      "pygments_lexer": "ipython3",
      "version": "3.5.3"
    }
  },
  "cells": [
    {
      "cell_type": "markdown",
      "metadata": {
        "id": "KsjDCIat6_UK",
        "colab_type": "text"
      },
      "source": [
        "#Image Classification and Object Localization\n",
        "\n",
        "This notebook illustrates how to build a CNN from scratch for classifying the main subject in and object and localizing it (drawing boudning boxes around it).\n",
        "\n",
        "We use the [MNIST](http://yann.lecun.com/exdb/mnist/) dataset to synthesize a custom dataset for the task by placing each image on a black canvas of width 75 x 75 at random locations and calculating the corresponding boundig boxes for digits.\n",
        "\n",
        "We have modelled the bounding box prediction as a regression problem.\n"
      ]
    },
    {
      "cell_type": "markdown",
      "metadata": {
        "colab_type": "text",
        "id": "qpiJj8ym0v0-"
      },
      "source": [
        "## Imports"
      ]
    },
    {
      "cell_type": "code",
      "metadata": {
        "colab_type": "code",
        "id": "AoilhmYe1b5t",
        "colab": {
          "base_uri": "https://localhost:8080/",
          "height": 34
        },
        "outputId": "e8c8e9de-ab55-4ac8-8e34-e42882e80b06"
      },
      "source": [
        "import os, re, time, json\n",
        "import PIL.Image, PIL.ImageFont, PIL.ImageDraw\n",
        "import numpy as np\n",
        "try:\n",
        "  # %tensorflow_version only exists in Colab.\n",
        "  %tensorflow_version 2.x\n",
        "except Exception:\n",
        "  pass\n",
        "import tensorflow as tf\n",
        "from matplotlib import pyplot as plt\n",
        "import tensorflow_datasets as tfds\n",
        "\n",
        "print(\"Tensorflow version \" + tf.__version__)"
      ],
      "execution_count": 1,
      "outputs": [
        {
          "output_type": "stream",
          "text": [
            "Tensorflow version 2.3.0\n"
          ],
          "name": "stdout"
        }
      ]
    },
    {
      "cell_type": "markdown",
      "metadata": {
        "id": "xmoFKEd98MP3",
        "colab_type": "text"
      },
      "source": [
        "#Visualization Utilities\n",
        "\n",
        "These functions are used to draw bounding boxes around the digits."
      ]
    },
    {
      "cell_type": "code",
      "metadata": {
        "id": "tBjj1Fg-i_lc",
        "colab_type": "code",
        "cellView": "both",
        "colab": {}
      },
      "source": [
        "#@title Plot Utilities for Bounding Boxes [RUN ME]\n",
        "\n",
        "im_width = 75\n",
        "im_height = 75\n",
        "use_normalized_coordinates = True\n",
        "\n",
        "def draw_bounding_boxes_on_image_array(image,\n",
        "                                       boxes,\n",
        "                                       color=[],\n",
        "                                       thickness=1,\n",
        "                                       display_str_list=()):\n",
        "  \"\"\"Draws bounding boxes on image (numpy array).\n",
        "  Args:\n",
        "    image: a numpy array object.\n",
        "    boxes: a 2 dimensional numpy array of [N, 4]: (ymin, xmin, ymax, xmax).\n",
        "           The coordinates are in normalized format between [0, 1].\n",
        "    color: color to draw bounding box. Default is red.\n",
        "    thickness: line thickness. Default value is 4.\n",
        "    display_str_list_list: a list of strings for each bounding box.\n",
        "  Raises:\n",
        "    ValueError: if boxes is not a [N, 4] array\n",
        "  \"\"\"\n",
        "  image_pil = PIL.Image.fromarray(image)\n",
        "  rgbimg = PIL.Image.new(\"RGBA\", image_pil.size)\n",
        "  rgbimg.paste(image_pil)\n",
        "  draw_bounding_boxes_on_image(rgbimg, boxes, color, thickness,\n",
        "                               display_str_list)\n",
        "  return np.array(rgbimg)\n",
        "  \n",
        "\n",
        "def draw_bounding_boxes_on_image(image,\n",
        "                                 boxes,\n",
        "                                 color=[],\n",
        "                                 thickness=1,\n",
        "                                 display_str_list=()):\n",
        "  \"\"\"Draws bounding boxes on image.\n",
        "  Args:\n",
        "    image: a PIL.Image object.\n",
        "    boxes: a 2 dimensional numpy array of [N, 4]: (ymin, xmin, ymax, xmax).\n",
        "           The coordinates are in normalized format between [0, 1].\n",
        "    color: color to draw bounding box. Default is red.\n",
        "    thickness: line thickness. Default value is 4.\n",
        "    display_str_list: a list of strings for each bounding box.\n",
        "                           \n",
        "  Raises:\n",
        "    ValueError: if boxes is not a [N, 4] array\n",
        "  \"\"\"\n",
        "  boxes_shape = boxes.shape\n",
        "  if not boxes_shape:\n",
        "    return\n",
        "  if len(boxes_shape) != 2 or boxes_shape[1] != 4:\n",
        "    raise ValueError('Input must be of size [N, 4]')\n",
        "  for i in range(boxes_shape[0]):\n",
        "    draw_bounding_box_on_image(image, boxes[i, 1], boxes[i, 0], boxes[i, 3],\n",
        "                               boxes[i, 2], color[i], thickness, display_str_list[i])\n",
        "        \n",
        "def draw_bounding_box_on_image(image,\n",
        "                               ymin,\n",
        "                               xmin,\n",
        "                               ymax,\n",
        "                               xmax,\n",
        "                               color='red',\n",
        "                               thickness=1,\n",
        "                               display_str=None,\n",
        "                               use_normalized_coordinates=True):\n",
        "  \"\"\"Adds a bounding box to an image.\n",
        "  Bounding box coordinates can be specified in either absolute (pixel) or\n",
        "  normalized coordinates by setting the use_normalized_coordinates argument.\n",
        "  Args:\n",
        "    image: a PIL.Image object.\n",
        "    ymin: ymin of bounding box.\n",
        "    xmin: xmin of bounding box.\n",
        "    ymax: ymax of bounding box.\n",
        "    xmax: xmax of bounding box.\n",
        "    color: color to draw bounding box. Default is red.\n",
        "    thickness: line thickness. Default value is 4.\n",
        "    display_str_list: string to display in box\n",
        "    use_normalized_coordinates: If True (default), treat coordinates\n",
        "      ymin, xmin, ymax, xmax as relative to the image.  Otherwise treat\n",
        "      coordinates as absolute.\n",
        "  \"\"\"\n",
        "  draw = PIL.ImageDraw.Draw(image)\n",
        "  im_width, im_height = image.size\n",
        "  if use_normalized_coordinates:\n",
        "    (left, right, top, bottom) = (xmin * im_width, xmax * im_width,\n",
        "                                  ymin * im_height, ymax * im_height)\n",
        "  else:\n",
        "    (left, right, top, bottom) = (xmin, xmax, ymin, ymax)\n",
        "  draw.line([(left, top), (left, bottom), (right, bottom),\n",
        "             (right, top), (left, top)], width=thickness, fill=color)\n",
        "  \n"
      ],
      "execution_count": 2,
      "outputs": []
    },
    {
      "cell_type": "markdown",
      "metadata": {
        "id": "USx9tRBF8hWy",
        "colab_type": "text"
      },
      "source": [
        "These utilities are used to visualize the data and predictions."
      ]
    },
    {
      "cell_type": "code",
      "metadata": {
        "cellView": "both",
        "colab_type": "code",
        "id": "qhdz68Xm3Z4Z",
        "colab": {}
      },
      "source": [
        "#@title Visualization Utilities [RUN ME]\n",
        "\"\"\"\n",
        "This cell contains helper functions used for visualization\n",
        "and downloads only. You can skip reading it. There is very\n",
        "little useful Keras/Tensorflow code here.\n",
        "\"\"\"\n",
        "\n",
        "# Matplotlib config\n",
        "plt.rc('image', cmap='gray')\n",
        "plt.rc('grid', linewidth=0)\n",
        "plt.rc('xtick', top=False, bottom=False, labelsize='large')\n",
        "plt.rc('ytick', left=False, right=False, labelsize='large')\n",
        "plt.rc('axes', facecolor='F8F8F8', titlesize=\"large\", edgecolor='white')\n",
        "plt.rc('text', color='a8151a')\n",
        "plt.rc('figure', facecolor='F0F0F0')# Matplotlib fonts\n",
        "MATPLOTLIB_FONT_DIR = os.path.join(os.path.dirname(plt.__file__), \"mpl-data/fonts/ttf\")\n",
        "\n",
        "# pull a batch from the datasets. This code is not very nice, it gets much better in eager mode (TODO)\n",
        "def dataset_to_numpy_util(training_dataset, validation_dataset, N):\n",
        "  \n",
        "  # get one batch from each: 10000 validation digits, N training digits\n",
        "  batch_train_ds = training_dataset.unbatch().batch(N)\n",
        "  \n",
        "  # eager execution: loop through datasets normally\n",
        "  if tf.executing_eagerly():\n",
        "    for validation_digits, (validation_labels, validation_bboxes) in validation_dataset:\n",
        "      validation_digits = validation_digits.numpy()\n",
        "      validation_labels = validation_labels.numpy()\n",
        "      validation_bboxes = validation_bboxes.numpy()\n",
        "      break\n",
        "    for training_digits, (training_labels, training_bboxes) in batch_train_ds:\n",
        "      training_digits = training_digits.numpy()\n",
        "      training_labels = training_labels.numpy()\n",
        "      training_bboxes = training_bboxes.numpy()\n",
        "      break\n",
        "  \n",
        "  # these were one-hot encoded in the dataset\n",
        "  validation_labels = np.argmax(validation_labels, axis=1)\n",
        "  training_labels = np.argmax(training_labels, axis=1)\n",
        "  \n",
        "  return (training_digits, training_labels, training_bboxes,\n",
        "          validation_digits, validation_labels, validation_bboxes)\n",
        "\n",
        "# create digits from local fonts for testing\n",
        "def create_digits_from_local_fonts(n):\n",
        "  font_labels = []\n",
        "  img = PIL.Image.new('LA', (75*n, 75), color = (0,255)) # format 'LA': black in channel 0, alpha in channel 1\n",
        "  font1 = PIL.ImageFont.truetype(os.path.join(MATPLOTLIB_FONT_DIR, 'DejaVuSansMono-Oblique.ttf'), 25)\n",
        "  font2 = PIL.ImageFont.truetype(os.path.join(MATPLOTLIB_FONT_DIR, 'STIXGeneral.ttf'), 25)\n",
        "  d = PIL.ImageDraw.Draw(img)\n",
        "  for i in range(n):\n",
        "    font_labels.append(i%10)\n",
        "    d.text((7+i*75,0 if i<10 else -4), str(i%10), fill=(255,255), font=font1 if i<10 else font2)\n",
        "  font_digits = np.array(img.getdata(), np.float32)[:,0] / 255.0 # black in channel 0, alpha in channel 1 (discarded)\n",
        "  font_digits = np.reshape(np.stack(np.split(np.reshape(font_digits, [75, 75*n]), n, axis=1), axis=0), [n, 75*75])\n",
        "  return font_digits, font_labels\n",
        "\n",
        "\n",
        "# utility to display a row of digits with their predictions\n",
        "def display_digits_with_boxes(digits, predictions, labels, pred_bboxes, bboxes, iou, title):\n",
        "\n",
        "  n = 10\n",
        "\n",
        "  indexes = np.random.choice(len(predictions), size=n)\n",
        "  n_digits = digits[indexes]\n",
        "  n_predictions = predictions[indexes]\n",
        "  n_labels = labels[indexes]\n",
        "\n",
        "  n_iou = []\n",
        "  if len(iou) > 0:\n",
        "    n_iou = iou[indexes]\n",
        "\n",
        "  if (len(pred_bboxes) > 0):\n",
        "    n_pred_bboxes = pred_bboxes[indexes,:]\n",
        "\n",
        "  if (len(bboxes) > 0):\n",
        "    n_bboxes = bboxes[indexes,:]\n",
        "\n",
        "\n",
        "  n_digits = n_digits * 255.0\n",
        "  n_digits = n_digits.reshape(n, 75, 75)\n",
        "  fig = plt.figure(figsize=(20, 4))\n",
        "  plt.title(title)\n",
        "  plt.yticks([])\n",
        "  plt.xticks([])\n",
        "  \n",
        "  for i in range(10):\n",
        "    ax = fig.add_subplot(1, 10, i+1)\n",
        "    bboxes_to_plot = []\n",
        "    if (len(pred_bboxes) > i):\n",
        "      bboxes_to_plot.append(n_pred_bboxes[i])\n",
        "    \n",
        "    if (len(bboxes) > i):\n",
        "      bboxes_to_plot.append(n_bboxes[i])\n",
        "\n",
        "    img_to_draw = draw_bounding_boxes_on_image_array(image=n_digits[i], boxes=np.asarray(bboxes_to_plot), color=['red', 'green'], display_str_list=[\"true\", \"pred\"])\n",
        "    plt.xlabel(n_predictions[i])\n",
        "    plt.xticks([])\n",
        "    plt.yticks([])\n",
        "    \n",
        "    if n_predictions[i] != n_labels[i]:\n",
        "      ax.xaxis.label.set_color('red')\n",
        "\n",
        "    \n",
        "    \n",
        "    plt.imshow(img_to_draw)\n",
        "\n",
        "    if len(iou) > i :\n",
        "      color = \"black\"\n",
        "      if (n_iou[i][0] < iou_threshold):\n",
        "        color = \"red\"\n",
        "      ax.text(0.2, -0.3, \"iou: %s\" %(n_iou[i][0]), color=color, transform=ax.transAxes)\n",
        "\n",
        "\n",
        "# utility to display training and validation curves\n",
        "def plot_metrics(metric_name, title, ylim=5):\n",
        "  plt.title(title)\n",
        "  plt.ylim(0,ylim)\n",
        "  plt.plot(history.history[metric_name],color='blue',label=metric_name)\n",
        "  plt.plot(history.history['val_' + metric_name],color='green',label='val_' + metric_name)"
      ],
      "execution_count": 3,
      "outputs": []
    },
    {
      "cell_type": "markdown",
      "metadata": {
        "id": "_Ok__0RB-M8S",
        "colab_type": "text"
      },
      "source": [
        "##Selecting Between Strategies"
      ]
    },
    {
      "cell_type": "markdown",
      "metadata": {
        "colab_type": "text",
        "id": "Lzd6Qi464PsA"
      },
      "source": [
        "\n",
        "### Colab-only auth for this notebook and the TPU"
      ]
    },
    {
      "cell_type": "code",
      "metadata": {
        "cellView": "both",
        "colab_type": "code",
        "id": "MPx0nvyUnvgT",
        "colab": {}
      },
      "source": [
        "IS_COLAB_BACKEND = 'COLAB_GPU' in os.environ  # this is always set on Colab, the value is 0 or 1 depending on GPU presence\n",
        "if IS_COLAB_BACKEND:\n",
        "  from google.colab import auth\n",
        "  # Authenticates the Colab machine and also the TPU using your\n",
        "  # credentials so that they can access your private GCS buckets.\n",
        "  auth.authenticate_user()"
      ],
      "execution_count": 4,
      "outputs": []
    },
    {
      "cell_type": "markdown",
      "metadata": {
        "colab_type": "text",
        "id": "R4jujVYWY9-6"
      },
      "source": [
        "### TPU or GPU detection"
      ]
    },
    {
      "cell_type": "code",
      "metadata": {
        "colab_type": "code",
        "id": "Hd5zB1G7Y9-7",
        "colab": {
          "base_uri": "https://localhost:8080/",
          "height": 748
        },
        "outputId": "9cd4e051-a308-4be0-edde-90d0b742ce8c"
      },
      "source": [
        "# Detect hardware\n",
        "try:\n",
        "  tpu = tf.distribute.cluster_resolver.TPUClusterResolver() # TPU detection\n",
        "except ValueError:\n",
        "  tpu = None\n",
        "  gpus = tf.config.experimental.list_logical_devices(\"GPU\")\n",
        "    \n",
        "# Select appropriate distribution strategy\n",
        "if tpu:\n",
        "  tf.config.experimental_connect_to_cluster(tpu)\n",
        "  tf.tpu.experimental.initialize_tpu_system(tpu)\n",
        "  strategy = tf.distribute.experimental.TPUStrategy(tpu) # Going back and forth between TPU and host is expensive. Better to run 128 batches on the TPU before reporting back.\n",
        "  print('Running on TPU ', tpu.cluster_spec().as_dict()['worker'])  \n",
        "elif len(gpus) > 1:\n",
        "  strategy = tf.distribute.MirroredStrategy([gpu.name for gpu in gpus])\n",
        "  print('Running on multiple GPUs ', [gpu.name for gpu in gpus])\n",
        "elif len(gpus) == 1:\n",
        "  strategy = tf.distribute.get_strategy() # default strategy that works on CPU and single GPU\n",
        "  print('Running on single GPU ', gpus[0].name)\n",
        "else:\n",
        "  strategy = tf.distribute.get_strategy() # default strategy that works on CPU and single GPU\n",
        "  print('Running on CPU')\n",
        "print(\"Number of accelerators: \", strategy.num_replicas_in_sync)"
      ],
      "execution_count": 5,
      "outputs": [
        {
          "output_type": "stream",
          "text": [
            "INFO:tensorflow:Initializing the TPU system: grpc://10.99.205.162:8470\n"
          ],
          "name": "stdout"
        },
        {
          "output_type": "stream",
          "text": [
            "INFO:tensorflow:Initializing the TPU system: grpc://10.99.205.162:8470\n"
          ],
          "name": "stderr"
        },
        {
          "output_type": "stream",
          "text": [
            "INFO:tensorflow:Clearing out eager caches\n"
          ],
          "name": "stdout"
        },
        {
          "output_type": "stream",
          "text": [
            "INFO:tensorflow:Clearing out eager caches\n"
          ],
          "name": "stderr"
        },
        {
          "output_type": "stream",
          "text": [
            "INFO:tensorflow:Finished initializing TPU system.\n"
          ],
          "name": "stdout"
        },
        {
          "output_type": "stream",
          "text": [
            "INFO:tensorflow:Finished initializing TPU system.\n",
            "WARNING:absl:`tf.distribute.experimental.TPUStrategy` is deprecated, please use  the non experimental symbol `tf.distribute.TPUStrategy` instead.\n"
          ],
          "name": "stderr"
        },
        {
          "output_type": "stream",
          "text": [
            "INFO:tensorflow:Found TPU system:\n"
          ],
          "name": "stdout"
        },
        {
          "output_type": "stream",
          "text": [
            "INFO:tensorflow:Found TPU system:\n"
          ],
          "name": "stderr"
        },
        {
          "output_type": "stream",
          "text": [
            "INFO:tensorflow:*** Num TPU Cores: 8\n"
          ],
          "name": "stdout"
        },
        {
          "output_type": "stream",
          "text": [
            "INFO:tensorflow:*** Num TPU Cores: 8\n"
          ],
          "name": "stderr"
        },
        {
          "output_type": "stream",
          "text": [
            "INFO:tensorflow:*** Num TPU Workers: 1\n"
          ],
          "name": "stdout"
        },
        {
          "output_type": "stream",
          "text": [
            "INFO:tensorflow:*** Num TPU Workers: 1\n"
          ],
          "name": "stderr"
        },
        {
          "output_type": "stream",
          "text": [
            "INFO:tensorflow:*** Num TPU Cores Per Worker: 8\n"
          ],
          "name": "stdout"
        },
        {
          "output_type": "stream",
          "text": [
            "INFO:tensorflow:*** Num TPU Cores Per Worker: 8\n"
          ],
          "name": "stderr"
        },
        {
          "output_type": "stream",
          "text": [
            "INFO:tensorflow:*** Available Device: _DeviceAttributes(/job:localhost/replica:0/task:0/device:CPU:0, CPU, 0, 0)\n"
          ],
          "name": "stdout"
        },
        {
          "output_type": "stream",
          "text": [
            "INFO:tensorflow:*** Available Device: _DeviceAttributes(/job:localhost/replica:0/task:0/device:CPU:0, CPU, 0, 0)\n"
          ],
          "name": "stderr"
        },
        {
          "output_type": "stream",
          "text": [
            "INFO:tensorflow:*** Available Device: _DeviceAttributes(/job:localhost/replica:0/task:0/device:XLA_CPU:0, XLA_CPU, 0, 0)\n"
          ],
          "name": "stdout"
        },
        {
          "output_type": "stream",
          "text": [
            "INFO:tensorflow:*** Available Device: _DeviceAttributes(/job:localhost/replica:0/task:0/device:XLA_CPU:0, XLA_CPU, 0, 0)\n"
          ],
          "name": "stderr"
        },
        {
          "output_type": "stream",
          "text": [
            "INFO:tensorflow:*** Available Device: _DeviceAttributes(/job:worker/replica:0/task:0/device:CPU:0, CPU, 0, 0)\n"
          ],
          "name": "stdout"
        },
        {
          "output_type": "stream",
          "text": [
            "INFO:tensorflow:*** Available Device: _DeviceAttributes(/job:worker/replica:0/task:0/device:CPU:0, CPU, 0, 0)\n"
          ],
          "name": "stderr"
        },
        {
          "output_type": "stream",
          "text": [
            "INFO:tensorflow:*** Available Device: _DeviceAttributes(/job:worker/replica:0/task:0/device:TPU:0, TPU, 0, 0)\n"
          ],
          "name": "stdout"
        },
        {
          "output_type": "stream",
          "text": [
            "INFO:tensorflow:*** Available Device: _DeviceAttributes(/job:worker/replica:0/task:0/device:TPU:0, TPU, 0, 0)\n"
          ],
          "name": "stderr"
        },
        {
          "output_type": "stream",
          "text": [
            "INFO:tensorflow:*** Available Device: _DeviceAttributes(/job:worker/replica:0/task:0/device:TPU:1, TPU, 0, 0)\n"
          ],
          "name": "stdout"
        },
        {
          "output_type": "stream",
          "text": [
            "INFO:tensorflow:*** Available Device: _DeviceAttributes(/job:worker/replica:0/task:0/device:TPU:1, TPU, 0, 0)\n"
          ],
          "name": "stderr"
        },
        {
          "output_type": "stream",
          "text": [
            "INFO:tensorflow:*** Available Device: _DeviceAttributes(/job:worker/replica:0/task:0/device:TPU:2, TPU, 0, 0)\n"
          ],
          "name": "stdout"
        },
        {
          "output_type": "stream",
          "text": [
            "INFO:tensorflow:*** Available Device: _DeviceAttributes(/job:worker/replica:0/task:0/device:TPU:2, TPU, 0, 0)\n"
          ],
          "name": "stderr"
        },
        {
          "output_type": "stream",
          "text": [
            "INFO:tensorflow:*** Available Device: _DeviceAttributes(/job:worker/replica:0/task:0/device:TPU:3, TPU, 0, 0)\n"
          ],
          "name": "stdout"
        },
        {
          "output_type": "stream",
          "text": [
            "INFO:tensorflow:*** Available Device: _DeviceAttributes(/job:worker/replica:0/task:0/device:TPU:3, TPU, 0, 0)\n"
          ],
          "name": "stderr"
        },
        {
          "output_type": "stream",
          "text": [
            "INFO:tensorflow:*** Available Device: _DeviceAttributes(/job:worker/replica:0/task:0/device:TPU:4, TPU, 0, 0)\n"
          ],
          "name": "stdout"
        },
        {
          "output_type": "stream",
          "text": [
            "INFO:tensorflow:*** Available Device: _DeviceAttributes(/job:worker/replica:0/task:0/device:TPU:4, TPU, 0, 0)\n"
          ],
          "name": "stderr"
        },
        {
          "output_type": "stream",
          "text": [
            "INFO:tensorflow:*** Available Device: _DeviceAttributes(/job:worker/replica:0/task:0/device:TPU:5, TPU, 0, 0)\n"
          ],
          "name": "stdout"
        },
        {
          "output_type": "stream",
          "text": [
            "INFO:tensorflow:*** Available Device: _DeviceAttributes(/job:worker/replica:0/task:0/device:TPU:5, TPU, 0, 0)\n"
          ],
          "name": "stderr"
        },
        {
          "output_type": "stream",
          "text": [
            "INFO:tensorflow:*** Available Device: _DeviceAttributes(/job:worker/replica:0/task:0/device:TPU:6, TPU, 0, 0)\n"
          ],
          "name": "stdout"
        },
        {
          "output_type": "stream",
          "text": [
            "INFO:tensorflow:*** Available Device: _DeviceAttributes(/job:worker/replica:0/task:0/device:TPU:6, TPU, 0, 0)\n"
          ],
          "name": "stderr"
        },
        {
          "output_type": "stream",
          "text": [
            "INFO:tensorflow:*** Available Device: _DeviceAttributes(/job:worker/replica:0/task:0/device:TPU:7, TPU, 0, 0)\n"
          ],
          "name": "stdout"
        },
        {
          "output_type": "stream",
          "text": [
            "INFO:tensorflow:*** Available Device: _DeviceAttributes(/job:worker/replica:0/task:0/device:TPU:7, TPU, 0, 0)\n"
          ],
          "name": "stderr"
        },
        {
          "output_type": "stream",
          "text": [
            "INFO:tensorflow:*** Available Device: _DeviceAttributes(/job:worker/replica:0/task:0/device:TPU_SYSTEM:0, TPU_SYSTEM, 0, 0)\n"
          ],
          "name": "stdout"
        },
        {
          "output_type": "stream",
          "text": [
            "INFO:tensorflow:*** Available Device: _DeviceAttributes(/job:worker/replica:0/task:0/device:TPU_SYSTEM:0, TPU_SYSTEM, 0, 0)\n"
          ],
          "name": "stderr"
        },
        {
          "output_type": "stream",
          "text": [
            "INFO:tensorflow:*** Available Device: _DeviceAttributes(/job:worker/replica:0/task:0/device:XLA_CPU:0, XLA_CPU, 0, 0)\n"
          ],
          "name": "stdout"
        },
        {
          "output_type": "stream",
          "text": [
            "INFO:tensorflow:*** Available Device: _DeviceAttributes(/job:worker/replica:0/task:0/device:XLA_CPU:0, XLA_CPU, 0, 0)\n"
          ],
          "name": "stderr"
        },
        {
          "output_type": "stream",
          "text": [
            "Running on TPU  ['10.99.205.162:8470']\n",
            "Number of accelerators:  8\n"
          ],
          "name": "stdout"
        }
      ]
    },
    {
      "cell_type": "markdown",
      "metadata": {
        "colab_type": "text",
        "id": "Lvo0t7XVIkWZ"
      },
      "source": [
        "### Parameters"
      ]
    },
    {
      "cell_type": "code",
      "metadata": {
        "colab_type": "code",
        "id": "cCpkS9C_H7Tl",
        "colab": {}
      },
      "source": [
        "BATCH_SIZE = 64 * strategy.num_replicas_in_sync # Gobal batch size.\n",
        "# The global batch size will be automatically sharded across all\n",
        "# replicas by the tf.data.Dataset API. A single TPU has 8 cores.\n",
        "# The best practice is to scale the batch size by the number of\n",
        "# replicas (cores). The learning rate should be increased as well.\n"
      ],
      "execution_count": 6,
      "outputs": []
    },
    {
      "cell_type": "markdown",
      "metadata": {
        "id": "JVkc7nzg-WUy",
        "colab_type": "text"
      },
      "source": [
        "##Loading and Preprocessing the Dataset"
      ]
    },
    {
      "cell_type": "code",
      "metadata": {
        "colab_type": "code",
        "id": "ZE8dgyPC1_6m",
        "colab": {}
      },
      "source": [
        "\n",
        "'''\n",
        "Transforms each image in dataset by pasting it on a 75x75 canvas at random locations.\n",
        "'''\n",
        "def read_image_tfds(image, label):\n",
        "    xmin = tf.random.uniform((), 0 , 48, dtype=tf.int32)\n",
        "    ymin = tf.random.uniform((), 0 , 48, dtype=tf.int32)\n",
        "    image = tf.reshape(image, (28,28,1,))\n",
        "    image = tf.image.pad_to_bounding_box(image, ymin, xmin, 75, 75)\n",
        "    image = tf.cast(image, tf.float32)/255.0\n",
        "    xmin = tf.cast(xmin, tf.float32)\n",
        "    ymin = tf.cast(ymin, tf.float32)\n",
        "   \n",
        "    xmax = (xmin + 28) / 75\n",
        "    ymax = (ymin + 28) / 75\n",
        "    xmin = xmin / 75\n",
        "    ymin = ymin / 75\n",
        "    return image, (tf.one_hot(label, 10), [xmin, ymin, xmax, ymax])\n",
        "  \n",
        "'''\n",
        "Loads and maps the training split of the dataset using the map function. Note that we try to load the gcs version since TPU can only work with datasets on Google Cloud Storage.\n",
        "'''\n",
        "def get_training_dataset():\n",
        "      \n",
        "      with  strategy.scope():\n",
        "        dataset = tfds.load(\"mnist\", split=\"train\", as_supervised=True, try_gcs=True)\n",
        "        dataset = dataset.map(read_image_tfds, num_parallel_calls=16)\n",
        "        dataset = dataset.shuffle(5000, reshuffle_each_iteration=True)\n",
        "        dataset = dataset.repeat() # Mandatory for Keras for now\n",
        "        dataset = dataset.batch(BATCH_SIZE, drop_remainder=True) # drop_remainder is important on TPU, batch size must be fixed\n",
        "        dataset = dataset.prefetch(-1)  # fetch next batches while training on the current one (-1: autotune prefetch buffer size)\n",
        "      return dataset\n",
        "\n",
        "'''\n",
        "Loads and maps the validation split of the dataset using the map function. Note that we try to load the gcs version since TPU can only work with datasets on Google Cloud Storage.\n",
        "'''  \n",
        "def get_validation_dataset():\n",
        "    dataset = tfds.load(\"mnist\", split=\"test\", as_supervised=True, try_gcs=True)\n",
        "    dataset = dataset.map(read_image_tfds, num_parallel_calls=16)\n",
        "\n",
        "    #dataset = dataset.cache() # this small dataset can be entirely cached in RAM\n",
        "    dataset = dataset.batch(10000, drop_remainder=True) # 10000 items in eval dataset, all in one batch\n",
        "    dataset = dataset.repeat() # Mandatory for Keras for now\n",
        "    return dataset\n",
        "\n",
        "# instantiate the datasets\n",
        "with strategy.scope():\n",
        "  training_dataset = get_training_dataset()\n",
        "  validation_dataset = get_validation_dataset()"
      ],
      "execution_count": 7,
      "outputs": []
    },
    {
      "cell_type": "markdown",
      "metadata": {
        "colab_type": "text",
        "id": "_fXo6GuvL3EB"
      },
      "source": [
        "### Visualize Data"
      ]
    },
    {
      "cell_type": "code",
      "metadata": {
        "colab_type": "code",
        "id": "yZ4tjPKvL2eh",
        "colab": {
          "base_uri": "https://localhost:8080/",
          "height": 511
        },
        "outputId": "229136a5-58c5-4929-8905-7e1b01d3d79b"
      },
      "source": [
        "(training_digits, training_labels, training_bboxes,\n",
        " validation_digits, validation_labels, validation_bboxes) = dataset_to_numpy_util(training_dataset, validation_dataset, 10)\n",
        "\n",
        "display_digits_with_boxes(training_digits, training_labels, training_labels, np.array([]), training_bboxes, np.array([]), \"training digits and their labels\")\n",
        "display_digits_with_boxes(validation_digits, validation_labels, validation_labels, np.array([]), validation_bboxes, np.array([]), \"validation digits and their labels\")\n"
      ],
      "execution_count": 8,
      "outputs": [
        {
          "output_type": "display_data",
          "data": {
            "image/png": "[encoded data removed]",
            "text/plain": [
              "<Figure size 1440x288 with 11 Axes>"
            ]
          },
          "metadata": {
            "tags": []
          }
        },
        {
          "output_type": "display_data",
          "data": {
            "image/png": "[encoded data removed]",
            "text/plain": [
              "<Figure size 1440x288 with 11 Axes>"
            ]
          },
          "metadata": {
            "tags": []
          }
        }
      ]
    },
    {
      "cell_type": "markdown",
      "metadata": {
        "id": "f8nHWWkS_eeZ",
        "colab_type": "text"
      },
      "source": [
        "##Define the Network\n",
        "\n",
        "Here we define our custom CNN. Note that we define the feature extractor and classifier which are two important parts of the CNN for classification. We also define the bounding box regression output.\n",
        "\n",
        "Note that we extensively use Keras functional API for this example."
      ]
    },
    {
      "cell_type": "code",
      "metadata": {
        "colab_type": "code",
        "id": "56y8UNFQIVwj",
        "colab": {
          "base_uri": "https://localhost:8080/",
          "height": 527
        },
        "outputId": "405f1d43-9bfc-44ee-e6c8-c320068fb4f4"
      },
      "source": [
        "'''\n",
        "Feature extractor is the CNN that is made up of convolution and pooling layers.\n",
        "'''\n",
        "def feature_extractor(inputs):\n",
        "    x = tf.keras.layers.Conv2D(16, activation='relu', kernel_size=3, input_shape=(75, 75, 1))(inputs)\n",
        "    x = tf.keras.layers.AveragePooling2D((2, 2))(x)\n",
        "\n",
        "    x = tf.keras.layers.Conv2D(32,kernel_size=3,activation='relu')(x)\n",
        "    x = tf.keras.layers.AveragePooling2D((2, 2))(x)\n",
        "\n",
        "    x = tf.keras.layers.Conv2D(64,kernel_size=3,activation='relu')(x)\n",
        "    x = tf.keras.layers.AveragePooling2D((2, 2))(x)\n",
        "\n",
        "    return x\n",
        "\n",
        "\n",
        "'''\n",
        "Classifier defines the classification output This has a set of fully connected layers and a softmax layer.\n",
        "'''\n",
        "def classifier(inputs):\n",
        "\n",
        "  classification_output = tf.keras.layers.Dense(10, activation='softmax', name = 'classification')(inputs)\n",
        "  return classification_output\n",
        "\n",
        "\n",
        "def dense_layers(inputs):\n",
        "  x = tf.keras.layers.Flatten()(inputs)\n",
        "  x = tf.keras.layers.Dense(128, activation='relu')(x)\n",
        "  return x\n",
        "\n",
        "'''\n",
        "This function defines the regression output for bounding box prediction. Note that we have four outputs corresponding to (xmin, ymin, xmax, ymax)\n",
        "'''\n",
        "def bounding_box_regression(inputs):\n",
        "    bounding_box_regression_output = tf.keras.layers.Dense(units = '4', name = 'bounding_box')(inputs)\n",
        "    return bounding_box_regression_output\n",
        "\n",
        "\n",
        "def final_model(inputs):\n",
        "    feature_cnn = feature_extractor(inputs)\n",
        "    dense_output = dense_layers(feature_cnn)\n",
        "\n",
        "    classification_output = classifier(dense_output)\n",
        "    bounding_box_output = bounding_box_regression(dense_output)\n",
        "\n",
        "    model = tf.keras.Model(inputs = inputs, outputs = [classification_output, bounding_box_output])\n",
        "\n",
        "    return model\n",
        "  \n",
        "\n",
        "def define_and_compile_model(inputs):\n",
        "  model = final_model(inputs)\n",
        "  \n",
        "  model.compile(optimizer='adam', \n",
        "              loss = {'classification' : 'categorical_crossentropy',\n",
        "                      'bounding_box' : 'mse'\n",
        "                     },\n",
        "              metrics = {'classification' : 'accuracy',\n",
        "                         'bounding_box' : 'mse'\n",
        "                        })\n",
        "  return model\n",
        "\n",
        "    \n",
        "with strategy.scope():\n",
        "  inputs = tf.keras.layers.Input(shape=(75, 75, 1,))\n",
        "  model = define_and_compile_model(inputs)\n",
        "\n",
        "# print model layers\n",
        "model.summary()"
      ],
      "execution_count": 9,
      "outputs": [
        {
          "output_type": "stream",
          "text": [
            "Model: \"functional_1\"\n",
            "__________________________________________________________________________________________________\n",
            "Layer (type)                    Output Shape         Param #     Connected to                     \n",
            "==================================================================================================\n",
            "input_1 (InputLayer)            [(None, 75, 75, 1)]  0                                            \n",
            "__________________________________________________________________________________________________\n",
            "conv2d (Conv2D)                 (None, 73, 73, 16)   160         input_1[0][0]                    \n",
            "__________________________________________________________________________________________________\n",
            "average_pooling2d (AveragePooli (None, 36, 36, 16)   0           conv2d[0][0]                     \n",
            "__________________________________________________________________________________________________\n",
            "conv2d_1 (Conv2D)               (None, 34, 34, 32)   4640        average_pooling2d[0][0]          \n",
            "__________________________________________________________________________________________________\n",
            "average_pooling2d_1 (AveragePoo (None, 17, 17, 32)   0           conv2d_1[0][0]                   \n",
            "__________________________________________________________________________________________________\n",
            "conv2d_2 (Conv2D)               (None, 15, 15, 64)   18496       average_pooling2d_1[0][0]        \n",
            "__________________________________________________________________________________________________\n",
            "average_pooling2d_2 (AveragePoo (None, 7, 7, 64)     0           conv2d_2[0][0]                   \n",
            "__________________________________________________________________________________________________\n",
            "flatten (Flatten)               (None, 3136)         0           average_pooling2d_2[0][0]        \n",
            "__________________________________________________________________________________________________\n",
            "dense (Dense)                   (None, 128)          401536      flatten[0][0]                    \n",
            "__________________________________________________________________________________________________\n",
            "classification (Dense)          (None, 10)           1290        dense[0][0]                      \n",
            "__________________________________________________________________________________________________\n",
            "bounding_box (Dense)            (None, 4)            516         dense[0][0]                      \n",
            "==================================================================================================\n",
            "Total params: 426,638\n",
            "Trainable params: 426,638\n",
            "Non-trainable params: 0\n",
            "__________________________________________________________________________________________________\n"
          ],
          "name": "stdout"
        }
      ]
    },
    {
      "cell_type": "markdown",
      "metadata": {
        "colab_type": "text",
        "id": "CuhDh8ao8VyB"
      },
      "source": [
        "### Train and validate the model"
      ]
    },
    {
      "cell_type": "code",
      "metadata": {
        "colab_type": "code",
        "id": "TTwH_P-ZJ_xx",
        "colab": {
          "base_uri": "https://localhost:8080/",
          "height": 1000
        },
        "outputId": "23c6c727-1845-48c8-9a47-903a74766b44"
      },
      "source": [
        "EPOCHS = 45\n",
        "steps_per_epoch = 60000//BATCH_SIZE  # 60,000 items in this dataset\n",
        "validation_steps = 1\n",
        "\n",
        "history = model.fit(training_dataset,\n",
        "                    steps_per_epoch=steps_per_epoch, validation_data=validation_dataset, validation_steps=validation_steps, epochs=EPOCHS)\n",
        "\n",
        "loss, classification_loss, bounding_box_loss, classification_accuracy, bounding_box_mse = model.evaluate(validation_dataset, steps=1)\n",
        "print(\"Validation accuracy: \", classification_accuracy)"
      ],
      "execution_count": 10,
      "outputs": [
        {
          "output_type": "stream",
          "text": [
            "Epoch 1/45\n",
            "  1/117 [..............................] - ETA: 3:14 - loss: 2.6158 - classification_loss: 2.3026 - bounding_box_loss: 0.3132 - classification_accuracy: 0.1172 - bounding_box_mse: 0.3132WARNING:tensorflow:Callbacks method `on_train_batch_end` is slow compared to the batch time (batch time: 0.0023s vs `on_train_batch_end` time: 0.0225s). Check your callbacks.\n"
          ],
          "name": "stdout"
        },
        {
          "output_type": "stream",
          "text": [
            "WARNING:tensorflow:Callbacks method `on_train_batch_end` is slow compared to the batch time (batch time: 0.0023s vs `on_train_batch_end` time: 0.0225s). Check your callbacks.\n"
          ],
          "name": "stderr"
        },
        {
          "output_type": "stream",
          "text": [
            "117/117 [==============================] - 7s 63ms/step - loss: 2.0968 - classification_loss: 2.0757 - bounding_box_loss: 0.0211 - classification_accuracy: 0.2261 - bounding_box_mse: 0.0211 - val_loss: 1.5851 - val_classification_loss: 1.5697 - val_bounding_box_loss: 0.0155 - val_classification_accuracy: 0.4308 - val_bounding_box_mse: 0.0155\n",
            "Epoch 2/45\n",
            "117/117 [==============================] - 4s 36ms/step - loss: 1.1711 - classification_loss: 1.1535 - bounding_box_loss: 0.0176 - classification_accuracy: 0.6128 - bounding_box_mse: 0.0176 - val_loss: 0.7176 - val_classification_loss: 0.6951 - val_bounding_box_loss: 0.0225 - val_classification_accuracy: 0.7957 - val_bounding_box_mse: 0.0225\n",
            "Epoch 3/45\n",
            "117/117 [==============================] - 4s 37ms/step - loss: 0.5431 - classification_loss: 0.5216 - bounding_box_loss: 0.0215 - classification_accuracy: 0.8470 - bounding_box_mse: 0.0215 - val_loss: 0.3936 - val_classification_loss: 0.3755 - val_bounding_box_loss: 0.0181 - val_classification_accuracy: 0.8891 - val_bounding_box_mse: 0.0181\n",
            "Epoch 4/45\n",
            "117/117 [==============================] - 4s 37ms/step - loss: 0.3785 - classification_loss: 0.3614 - bounding_box_loss: 0.0170 - classification_accuracy: 0.8942 - bounding_box_mse: 0.0170 - val_loss: 0.2996 - val_classification_loss: 0.2844 - val_bounding_box_loss: 0.0152 - val_classification_accuracy: 0.9163 - val_bounding_box_mse: 0.0152\n",
            "Epoch 5/45\n",
            "117/117 [==============================] - 4s 38ms/step - loss: 0.3056 - classification_loss: 0.2930 - bounding_box_loss: 0.0126 - classification_accuracy: 0.9138 - bounding_box_mse: 0.0126 - val_loss: 0.2611 - val_classification_loss: 0.2490 - val_bounding_box_loss: 0.0121 - val_classification_accuracy: 0.9226 - val_bounding_box_mse: 0.0121\n",
            "Epoch 6/45\n",
            "117/117 [==============================] - 4s 37ms/step - loss: 0.2662 - classification_loss: 0.2560 - bounding_box_loss: 0.0102 - classification_accuracy: 0.9246 - bounding_box_mse: 0.0102 - val_loss: 0.2335 - val_classification_loss: 0.2244 - val_bounding_box_loss: 0.0091 - val_classification_accuracy: 0.9339 - val_bounding_box_mse: 0.0091\n",
            "Epoch 7/45\n",
            "117/117 [==============================] - 4s 38ms/step - loss: 0.2420 - classification_loss: 0.2328 - bounding_box_loss: 0.0091 - classification_accuracy: 0.9306 - bounding_box_mse: 0.0091 - val_loss: 0.1959 - val_classification_loss: 0.1876 - val_bounding_box_loss: 0.0084 - val_classification_accuracy: 0.9459 - val_bounding_box_mse: 0.0084\n",
            "Epoch 8/45\n",
            "117/117 [==============================] - 5s 41ms/step - loss: 0.2163 - classification_loss: 0.2086 - bounding_box_loss: 0.0077 - classification_accuracy: 0.9369 - bounding_box_mse: 0.0077 - val_loss: 0.1777 - val_classification_loss: 0.1702 - val_bounding_box_loss: 0.0075 - val_classification_accuracy: 0.9483 - val_bounding_box_mse: 0.0075\n",
            "Epoch 9/45\n",
            "117/117 [==============================] - 4s 38ms/step - loss: 0.2006 - classification_loss: 0.1936 - bounding_box_loss: 0.0070 - classification_accuracy: 0.9419 - bounding_box_mse: 0.0070 - val_loss: 0.1671 - val_classification_loss: 0.1605 - val_bounding_box_loss: 0.0066 - val_classification_accuracy: 0.9496 - val_bounding_box_mse: 0.0066\n",
            "Epoch 10/45\n",
            "117/117 [==============================] - 4s 38ms/step - loss: 0.1890 - classification_loss: 0.1828 - bounding_box_loss: 0.0062 - classification_accuracy: 0.9451 - bounding_box_mse: 0.0062 - val_loss: 0.1551 - val_classification_loss: 0.1494 - val_bounding_box_loss: 0.0057 - val_classification_accuracy: 0.9527 - val_bounding_box_mse: 0.0057\n",
            "Epoch 11/45\n",
            "117/117 [==============================] - 5s 39ms/step - loss: 0.1793 - classification_loss: 0.1740 - bounding_box_loss: 0.0053 - classification_accuracy: 0.9476 - bounding_box_mse: 0.0053 - val_loss: 0.1522 - val_classification_loss: 0.1468 - val_bounding_box_loss: 0.0054 - val_classification_accuracy: 0.9570 - val_bounding_box_mse: 0.0054\n",
            "Epoch 12/45\n",
            "117/117 [==============================] - 4s 38ms/step - loss: 0.1694 - classification_loss: 0.1644 - bounding_box_loss: 0.0050 - classification_accuracy: 0.9513 - bounding_box_mse: 0.0050 - val_loss: 0.1363 - val_classification_loss: 0.1315 - val_bounding_box_loss: 0.0048 - val_classification_accuracy: 0.9582 - val_bounding_box_mse: 0.0048\n",
            "Epoch 13/45\n",
            "117/117 [==============================] - 4s 38ms/step - loss: 0.1579 - classification_loss: 0.1535 - bounding_box_loss: 0.0045 - classification_accuracy: 0.9546 - bounding_box_mse: 0.0045 - val_loss: 0.1570 - val_classification_loss: 0.1516 - val_bounding_box_loss: 0.0054 - val_classification_accuracy: 0.9517 - val_bounding_box_mse: 0.0054\n",
            "Epoch 14/45\n",
            "117/117 [==============================] - 4s 37ms/step - loss: 0.1559 - classification_loss: 0.1517 - bounding_box_loss: 0.0042 - classification_accuracy: 0.9535 - bounding_box_mse: 0.0042 - val_loss: 0.1211 - val_classification_loss: 0.1173 - val_bounding_box_loss: 0.0038 - val_classification_accuracy: 0.9622 - val_bounding_box_mse: 0.0038\n",
            "Epoch 15/45\n",
            "117/117 [==============================] - 4s 38ms/step - loss: 0.1473 - classification_loss: 0.1435 - bounding_box_loss: 0.0038 - classification_accuracy: 0.9563 - bounding_box_mse: 0.0038 - val_loss: 0.1116 - val_classification_loss: 0.1083 - val_bounding_box_loss: 0.0033 - val_classification_accuracy: 0.9660 - val_bounding_box_mse: 0.0033\n",
            "Epoch 16/45\n",
            "117/117 [==============================] - 4s 38ms/step - loss: 0.1323 - classification_loss: 0.1290 - bounding_box_loss: 0.0033 - classification_accuracy: 0.9609 - bounding_box_mse: 0.0033 - val_loss: 0.1123 - val_classification_loss: 0.1090 - val_bounding_box_loss: 0.0033 - val_classification_accuracy: 0.9668 - val_bounding_box_mse: 0.0033\n",
            "Epoch 17/45\n",
            "117/117 [==============================] - 4s 37ms/step - loss: 0.1306 - classification_loss: 0.1275 - bounding_box_loss: 0.0031 - classification_accuracy: 0.9603 - bounding_box_mse: 0.0031 - val_loss: 0.1058 - val_classification_loss: 0.1030 - val_bounding_box_loss: 0.0027 - val_classification_accuracy: 0.9668 - val_bounding_box_mse: 0.0027\n",
            "Epoch 18/45\n",
            "117/117 [==============================] - 4s 37ms/step - loss: 0.1294 - classification_loss: 0.1266 - bounding_box_loss: 0.0028 - classification_accuracy: 0.9615 - bounding_box_mse: 0.0028 - val_loss: 0.1065 - val_classification_loss: 0.1035 - val_bounding_box_loss: 0.0029 - val_classification_accuracy: 0.9686 - val_bounding_box_mse: 0.0029\n",
            "Epoch 19/45\n",
            "117/117 [==============================] - 4s 38ms/step - loss: 0.1249 - classification_loss: 0.1222 - bounding_box_loss: 0.0027 - classification_accuracy: 0.9623 - bounding_box_mse: 0.0027 - val_loss: 0.1160 - val_classification_loss: 0.1128 - val_bounding_box_loss: 0.0032 - val_classification_accuracy: 0.9649 - val_bounding_box_mse: 0.0032\n",
            "Epoch 20/45\n",
            "117/117 [==============================] - 4s 38ms/step - loss: 0.1204 - classification_loss: 0.1177 - bounding_box_loss: 0.0027 - classification_accuracy: 0.9634 - bounding_box_mse: 0.0027 - val_loss: 0.0972 - val_classification_loss: 0.0944 - val_bounding_box_loss: 0.0028 - val_classification_accuracy: 0.9720 - val_bounding_box_mse: 0.0028\n",
            "Epoch 21/45\n",
            "117/117 [==============================] - 4s 38ms/step - loss: 0.1187 - classification_loss: 0.1164 - bounding_box_loss: 0.0023 - classification_accuracy: 0.9641 - bounding_box_mse: 0.0023 - val_loss: 0.0955 - val_classification_loss: 0.0931 - val_bounding_box_loss: 0.0024 - val_classification_accuracy: 0.9703 - val_bounding_box_mse: 0.0024\n",
            "Epoch 22/45\n",
            "117/117 [==============================] - 5s 39ms/step - loss: 0.1128 - classification_loss: 0.1106 - bounding_box_loss: 0.0022 - classification_accuracy: 0.9664 - bounding_box_mse: 0.0022 - val_loss: 0.0894 - val_classification_loss: 0.0874 - val_bounding_box_loss: 0.0021 - val_classification_accuracy: 0.9711 - val_bounding_box_mse: 0.0021\n",
            "Epoch 23/45\n",
            "117/117 [==============================] - 4s 37ms/step - loss: 0.1095 - classification_loss: 0.1075 - bounding_box_loss: 0.0020 - classification_accuracy: 0.9678 - bounding_box_mse: 0.0020 - val_loss: 0.0874 - val_classification_loss: 0.0855 - val_bounding_box_loss: 0.0019 - val_classification_accuracy: 0.9727 - val_bounding_box_mse: 0.0019\n",
            "Epoch 24/45\n",
            "117/117 [==============================] - 4s 37ms/step - loss: 0.1078 - classification_loss: 0.1059 - bounding_box_loss: 0.0019 - classification_accuracy: 0.9670 - bounding_box_mse: 0.0019 - val_loss: 0.0895 - val_classification_loss: 0.0876 - val_bounding_box_loss: 0.0019 - val_classification_accuracy: 0.9729 - val_bounding_box_mse: 0.0019\n",
            "Epoch 25/45\n",
            "117/117 [==============================] - 4s 38ms/step - loss: 0.1066 - classification_loss: 0.1048 - bounding_box_loss: 0.0018 - classification_accuracy: 0.9679 - bounding_box_mse: 0.0018 - val_loss: 0.0983 - val_classification_loss: 0.0962 - val_bounding_box_loss: 0.0021 - val_classification_accuracy: 0.9691 - val_bounding_box_mse: 0.0021\n",
            "Epoch 26/45\n",
            "117/117 [==============================] - 5s 39ms/step - loss: 0.1009 - classification_loss: 0.0991 - bounding_box_loss: 0.0017 - classification_accuracy: 0.9698 - bounding_box_mse: 0.0017 - val_loss: 0.0843 - val_classification_loss: 0.0827 - val_bounding_box_loss: 0.0017 - val_classification_accuracy: 0.9737 - val_bounding_box_mse: 0.0017\n",
            "Epoch 27/45\n",
            "117/117 [==============================] - 4s 38ms/step - loss: 0.0982 - classification_loss: 0.0966 - bounding_box_loss: 0.0016 - classification_accuracy: 0.9698 - bounding_box_mse: 0.0016 - val_loss: 0.0767 - val_classification_loss: 0.0752 - val_bounding_box_loss: 0.0015 - val_classification_accuracy: 0.9758 - val_bounding_box_mse: 0.0015\n",
            "Epoch 28/45\n",
            "117/117 [==============================] - 5s 39ms/step - loss: 0.0959 - classification_loss: 0.0943 - bounding_box_loss: 0.0015 - classification_accuracy: 0.9716 - bounding_box_mse: 0.0015 - val_loss: 0.0997 - val_classification_loss: 0.0982 - val_bounding_box_loss: 0.0016 - val_classification_accuracy: 0.9702 - val_bounding_box_mse: 0.0016\n",
            "Epoch 29/45\n",
            "117/117 [==============================] - 5s 39ms/step - loss: 0.0926 - classification_loss: 0.0911 - bounding_box_loss: 0.0015 - classification_accuracy: 0.9718 - bounding_box_mse: 0.0015 - val_loss: 0.0760 - val_classification_loss: 0.0744 - val_bounding_box_loss: 0.0016 - val_classification_accuracy: 0.9748 - val_bounding_box_mse: 0.0016\n",
            "Epoch 30/45\n",
            "117/117 [==============================] - 4s 38ms/step - loss: 0.0922 - classification_loss: 0.0907 - bounding_box_loss: 0.0015 - classification_accuracy: 0.9719 - bounding_box_mse: 0.0015 - val_loss: 0.0752 - val_classification_loss: 0.0736 - val_bounding_box_loss: 0.0016 - val_classification_accuracy: 0.9765 - val_bounding_box_mse: 0.0016\n",
            "Epoch 31/45\n",
            "117/117 [==============================] - 4s 38ms/step - loss: 0.0870 - classification_loss: 0.0857 - bounding_box_loss: 0.0014 - classification_accuracy: 0.9735 - bounding_box_mse: 0.0014 - val_loss: 0.0778 - val_classification_loss: 0.0765 - val_bounding_box_loss: 0.0013 - val_classification_accuracy: 0.9773 - val_bounding_box_mse: 0.0013\n",
            "Epoch 32/45\n",
            "117/117 [==============================] - 4s 38ms/step - loss: 0.0864 - classification_loss: 0.0851 - bounding_box_loss: 0.0013 - classification_accuracy: 0.9732 - bounding_box_mse: 0.0013 - val_loss: 0.0823 - val_classification_loss: 0.0810 - val_bounding_box_loss: 0.0013 - val_classification_accuracy: 0.9747 - val_bounding_box_mse: 0.0013\n",
            "Epoch 33/45\n",
            "117/117 [==============================] - 5s 39ms/step - loss: 0.0869 - classification_loss: 0.0856 - bounding_box_loss: 0.0013 - classification_accuracy: 0.9737 - bounding_box_mse: 0.0013 - val_loss: 0.0707 - val_classification_loss: 0.0694 - val_bounding_box_loss: 0.0013 - val_classification_accuracy: 0.9778 - val_bounding_box_mse: 0.0013\n",
            "Epoch 34/45\n",
            "117/117 [==============================] - 4s 37ms/step - loss: 0.0823 - classification_loss: 0.0810 - bounding_box_loss: 0.0012 - classification_accuracy: 0.9750 - bounding_box_mse: 0.0012 - val_loss: 0.0827 - val_classification_loss: 0.0814 - val_bounding_box_loss: 0.0012 - val_classification_accuracy: 0.9739 - val_bounding_box_mse: 0.0012\n",
            "Epoch 35/45\n",
            "117/117 [==============================] - 4s 38ms/step - loss: 0.0798 - classification_loss: 0.0787 - bounding_box_loss: 0.0012 - classification_accuracy: 0.9755 - bounding_box_mse: 0.0012 - val_loss: 0.0687 - val_classification_loss: 0.0675 - val_bounding_box_loss: 0.0012 - val_classification_accuracy: 0.9780 - val_bounding_box_mse: 0.0012\n",
            "Epoch 36/45\n",
            "117/117 [==============================] - 4s 37ms/step - loss: 0.0797 - classification_loss: 0.0785 - bounding_box_loss: 0.0011 - classification_accuracy: 0.9755 - bounding_box_mse: 0.0011 - val_loss: 0.0722 - val_classification_loss: 0.0709 - val_bounding_box_loss: 0.0013 - val_classification_accuracy: 0.9774 - val_bounding_box_mse: 0.0013\n",
            "Epoch 37/45\n",
            "117/117 [==============================] - 4s 38ms/step - loss: 0.0768 - classification_loss: 0.0757 - bounding_box_loss: 0.0011 - classification_accuracy: 0.9769 - bounding_box_mse: 0.0011 - val_loss: 0.0908 - val_classification_loss: 0.0895 - val_bounding_box_loss: 0.0012 - val_classification_accuracy: 0.9718 - val_bounding_box_mse: 0.0012\n",
            "Epoch 38/45\n",
            "117/117 [==============================] - 4s 38ms/step - loss: 0.0754 - classification_loss: 0.0743 - bounding_box_loss: 0.0011 - classification_accuracy: 0.9768 - bounding_box_mse: 0.0011 - val_loss: 0.0753 - val_classification_loss: 0.0741 - val_bounding_box_loss: 0.0012 - val_classification_accuracy: 0.9758 - val_bounding_box_mse: 0.0012\n",
            "Epoch 39/45\n",
            "117/117 [==============================] - 5s 39ms/step - loss: 0.0744 - classification_loss: 0.0734 - bounding_box_loss: 0.0010 - classification_accuracy: 0.9769 - bounding_box_mse: 0.0010 - val_loss: 0.0596 - val_classification_loss: 0.0583 - val_bounding_box_loss: 0.0013 - val_classification_accuracy: 0.9804 - val_bounding_box_mse: 0.0013\n",
            "Epoch 40/45\n",
            "117/117 [==============================] - 4s 38ms/step - loss: 0.0726 - classification_loss: 0.0716 - bounding_box_loss: 0.0010 - classification_accuracy: 0.9768 - bounding_box_mse: 0.0010 - val_loss: 0.0630 - val_classification_loss: 0.0619 - val_bounding_box_loss: 0.0012 - val_classification_accuracy: 0.9805 - val_bounding_box_mse: 0.0012\n",
            "Epoch 41/45\n",
            "117/117 [==============================] - 4s 38ms/step - loss: 0.0717 - classification_loss: 0.0707 - bounding_box_loss: 0.0010 - classification_accuracy: 0.9780 - bounding_box_mse: 0.0010 - val_loss: 0.0613 - val_classification_loss: 0.0603 - val_bounding_box_loss: 9.8216e-04 - val_classification_accuracy: 0.9805 - val_bounding_box_mse: 9.8216e-04\n",
            "Epoch 42/45\n",
            "117/117 [==============================] - 4s 38ms/step - loss: 0.0722 - classification_loss: 0.0712 - bounding_box_loss: 0.0010 - classification_accuracy: 0.9776 - bounding_box_mse: 0.0010 - val_loss: 0.0571 - val_classification_loss: 0.0562 - val_bounding_box_loss: 9.6572e-04 - val_classification_accuracy: 0.9810 - val_bounding_box_mse: 9.6572e-04\n",
            "Epoch 43/45\n",
            "117/117 [==============================] - 4s 38ms/step - loss: 0.0682 - classification_loss: 0.0673 - bounding_box_loss: 9.2060e-04 - classification_accuracy: 0.9794 - bounding_box_mse: 9.2060e-04 - val_loss: 0.0671 - val_classification_loss: 0.0661 - val_bounding_box_loss: 9.8448e-04 - val_classification_accuracy: 0.9778 - val_bounding_box_mse: 9.8448e-04\n",
            "Epoch 44/45\n",
            "117/117 [==============================] - 5s 39ms/step - loss: 0.0720 - classification_loss: 0.0711 - bounding_box_loss: 9.6828e-04 - classification_accuracy: 0.9776 - bounding_box_mse: 9.6828e-04 - val_loss: 0.0607 - val_classification_loss: 0.0598 - val_bounding_box_loss: 9.6430e-04 - val_classification_accuracy: 0.9808 - val_bounding_box_mse: 9.6430e-04\n",
            "Epoch 45/45\n",
            "117/117 [==============================] - 4s 38ms/step - loss: 0.0649 - classification_loss: 0.0639 - bounding_box_loss: 9.4654e-04 - classification_accuracy: 0.9800 - bounding_box_mse: 9.4654e-04 - val_loss: 0.0538 - val_classification_loss: 0.0529 - val_bounding_box_loss: 8.8064e-04 - val_classification_accuracy: 0.9832 - val_bounding_box_mse: 8.8064e-04\n",
            "1/1 [==============================] - 0s 487ms/step - loss: 0.0572 - classification_loss: 0.0563 - bounding_box_loss: 8.7717e-04 - classification_accuracy: 0.9803 - bounding_box_mse: 8.7717e-04\n",
            "Validation accuracy:  0.9802999496459961\n"
          ],
          "name": "stdout"
        }
      ]
    },
    {
      "cell_type": "code",
      "metadata": {
        "id": "Cz-b8TxU6EDj",
        "colab_type": "code",
        "colab": {
          "base_uri": "https://localhost:8080/",
          "height": 284
        },
        "outputId": "3b1556ab-55d5-4ce0-d225-9cb7166b2072"
      },
      "source": [
        "plot_metrics(\"classification_loss\", \"Classification Loss\")\n",
        "plot_metrics(\"bounding_box_loss\", \"Bounding Box Loss\")"
      ],
      "execution_count": 11,
      "outputs": [
        {
          "output_type": "display_data",
          "data": {
            "image/png": "[encoded data removed]",
            "text/plain": [
              "<Figure size 432x288 with 1 Axes>"
            ]
          },
          "metadata": {
            "tags": []
          }
        }
      ]
    },
    {
      "cell_type": "code",
      "metadata": {
        "id": "YFqJxt3_VrCm",
        "colab_type": "code",
        "colab": {}
      },
      "source": [
        "def intersection_over_union(pred_box, true_box):\n",
        "    xmin_pred, ymin_pred, xmax_pred, ymax_pred =  np.split(pred_box, 4, axis = 1)\n",
        "    xmin_true, ymin_true, xmax_true, ymax_true = np.split(true_box, 4, axis = 1)\n",
        "\n",
        "\n",
        "    xmin_overlap = np.maximum(xmin_pred, xmin_true)\n",
        "    xmax_overlap = np.minimum(xmax_pred, xmax_true)\n",
        "    ymin_overlap = np.maximum(xmin_pred, xmin_true)\n",
        "    ymax_overlap = np.minimum(ymax_pred, ymax_true)\n",
        "\n",
        "    pred_box_area = (xmax_pred - xmin_pred + 1) * (ymax_pred - ymin_pred + 1)\n",
        "    true_box_area = (xmax_true - xmin_true + 1) * (ymax_true - ymin_true + 1)\n",
        "\n",
        "    overlap_area = np.maximum((xmax_overlap - xmin_overlap) + 1,0)  * np.maximum((ymax_overlap - ymin_overlap) + 1, 0)\n",
        "    union_area = (pred_box_area + true_box_area) - overlap_area\n",
        "\n",
        "    iou = overlap_area / union_area\n",
        "\n",
        "    return iou\n",
        "\n",
        "\n",
        "\n",
        "\n"
      ],
      "execution_count": 12,
      "outputs": []
    },
    {
      "cell_type": "markdown",
      "metadata": {
        "colab_type": "text",
        "id": "9jFVovcUUVs1"
      },
      "source": [
        "### Visualize predictions"
      ]
    },
    {
      "cell_type": "code",
      "metadata": {
        "colab_type": "code",
        "id": "w12OId8Mz7dF",
        "colab": {
          "base_uri": "https://localhost:8080/",
          "height": 139
        },
        "outputId": "2a78b888-20e9-45af-fe47-1402e25ad2a0"
      },
      "source": [
        "# recognize validation digits\n",
        "predictions = model.predict(validation_digits, batch_size=64)\n",
        "predicted_labels = np.argmax(predictions[0], axis=1)\n",
        "\n",
        "predicted_bboxes = predictions[1]\n",
        "\n"
      ],
      "execution_count": 13,
      "outputs": [
        {
          "output_type": "stream",
          "text": [
            "WARNING:tensorflow:From /usr/local/lib/python3.6/dist-packages/tensorflow/python/data/ops/multi_device_iterator_ops.py:601: get_next_as_optional (from tensorflow.python.data.ops.iterator_ops) is deprecated and will be removed in a future version.\n",
            "Instructions for updating:\n",
            "Use `tf.data.Iterator.get_next_as_optional()` instead.\n"
          ],
          "name": "stdout"
        },
        {
          "output_type": "stream",
          "text": [
            "WARNING:tensorflow:From /usr/local/lib/python3.6/dist-packages/tensorflow/python/data/ops/multi_device_iterator_ops.py:601: get_next_as_optional (from tensorflow.python.data.ops.iterator_ops) is deprecated and will be removed in a future version.\n",
            "Instructions for updating:\n",
            "Use `tf.data.Iterator.get_next_as_optional()` instead.\n"
          ],
          "name": "stderr"
        }
      ]
    },
    {
      "cell_type": "code",
      "metadata": {
        "id": "PlORBrR_4O8W",
        "colab_type": "code",
        "colab": {}
      },
      "source": [
        "iou = intersection_over_union(predicted_bboxes, validation_bboxes)\n"
      ],
      "execution_count": 14,
      "outputs": []
    },
    {
      "cell_type": "code",
      "metadata": {
        "id": "GKLYgYV7wfM7",
        "colab_type": "code",
        "colab": {
          "base_uri": "https://localhost:8080/",
          "height": 51
        },
        "outputId": "e1815d0e-93d3-45ce-8d42-e1b8afff6220"
      },
      "source": [
        "iou_threshold = 0.6\n",
        "\n",
        "print(\"Number of predictions where iou > threshold(%s): %s\" % (iou_threshold, (iou >= iou_threshold).sum()))\n",
        "print(\"Number of predictions where iou < threshold(%s): %s\" % (iou_threshold, (iou < iou_threshold).sum()))"
      ],
      "execution_count": 15,
      "outputs": [
        {
          "output_type": "stream",
          "text": [
            "Number of predictions where iou > threshold(0.6): 8651\n",
            "Number of predictions where iou < threshold(0.6): 1349\n"
          ],
          "name": "stdout"
        }
      ]
    },
    {
      "cell_type": "code",
      "metadata": {
        "id": "bR9Bb4uCwTyw",
        "colab_type": "code",
        "colab": {
          "base_uri": "https://localhost:8080/",
          "height": 264
        },
        "outputId": "b38d97a4-72b9-4aa4-828b-edbf73e8f544"
      },
      "source": [
        "display_digits_with_boxes(validation_digits, predicted_labels, validation_labels, predicted_bboxes, validation_bboxes, iou, \"True and Predicted values\")"
      ],
      "execution_count": 16,
      "outputs": [
        {
          "output_type": "display_data",
          "data": {
            "image/png": "[encoded data removed]",
            "text/plain": [
              "<Figure size 1440x288 with 11 Axes>"
            ]
          },
          "metadata": {
            "tags": []
          }
        }
      ]
    }
  ]
}